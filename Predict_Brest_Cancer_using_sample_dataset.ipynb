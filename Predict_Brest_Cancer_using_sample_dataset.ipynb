{
  "cells": [
    {
      "cell_type": "markdown",
      "metadata": {
        "id": "view-in-github",
        "colab_type": "text"
      },
      "source": [
        "<a href=\"https://colab.research.google.com/github/priyasjsu/Machine-learning-models/blob/main/Predict_Brest_Cancer_using_sample_dataset.ipynb\" target=\"_parent\"><img src=\"https://colab.research.google.com/assets/colab-badge.svg\" alt=\"Open In Colab\"/></a>"
      ]
    },
    {
      "cell_type": "markdown",
      "source": [
        "## Perform Prediction on Brest Cancer dataset using Decision tree, Random forest, AdaBoost, Gaussian Model and compare their performance and did some EDA to analyse the dataset. Also perfrom the Feature Imporatnce using Random forest and feture reduction using PCA.\n",
        "### The provided dataset contains 569 data instances. Each data instance has 30 features that are computed from a digitized image of a fine needle aspirate (FNA) of a breast mass. They describe the characteristics of the cell nuclei present in the image. (UCI Dataset). Each instance is classified into \"malignant\" or \"Benign\"."
      ],
      "metadata": {
        "id": "8zhRkc8zcXvF"
      },
      "id": "8zhRkc8zcXvF"
    },
    {
      "cell_type": "code",
      "execution_count": null,
      "id": "e1132167",
      "metadata": {
        "id": "e1132167"
      },
      "outputs": [],
      "source": [
        "import pandas as pd\n",
        "import numpy as np"
      ]
    },
    {
      "cell_type": "code",
      "execution_count": null,
      "id": "d2449991",
      "metadata": {
        "id": "d2449991",
        "outputId": "8ec3384f-3b3d-45bd-826a-1440e5b4c359"
      },
      "outputs": [
        {
          "data": {
            "text/html": [
              "<div>\n",
              "<style scoped>\n",
              "    .dataframe tbody tr th:only-of-type {\n",
              "        vertical-align: middle;\n",
              "    }\n",
              "\n",
              "    .dataframe tbody tr th {\n",
              "        vertical-align: top;\n",
              "    }\n",
              "\n",
              "    .dataframe thead th {\n",
              "        text-align: right;\n",
              "    }\n",
              "</style>\n",
              "<table border=\"1\" class=\"dataframe\">\n",
              "  <thead>\n",
              "    <tr style=\"text-align: right;\">\n",
              "      <th></th>\n",
              "      <th>diagnosis</th>\n",
              "      <th>radius_mean</th>\n",
              "      <th>texture_mean</th>\n",
              "      <th>perimeter_mean</th>\n",
              "      <th>area_mean</th>\n",
              "      <th>smoothness_mean</th>\n",
              "      <th>compactness_mean</th>\n",
              "      <th>concavity_mean</th>\n",
              "      <th>concave points_mean</th>\n",
              "      <th>symmetry_mean</th>\n",
              "      <th>...</th>\n",
              "      <th>radius_worst</th>\n",
              "      <th>texture_worst</th>\n",
              "      <th>perimeter_worst</th>\n",
              "      <th>area_worst</th>\n",
              "      <th>smoothness_worst</th>\n",
              "      <th>compactness_worst</th>\n",
              "      <th>concavity_worst</th>\n",
              "      <th>concave points_worst</th>\n",
              "      <th>symmetry_worst</th>\n",
              "      <th>fractal_dimension_worst</th>\n",
              "    </tr>\n",
              "  </thead>\n",
              "  <tbody>\n",
              "    <tr>\n",
              "      <th>0</th>\n",
              "      <td>M</td>\n",
              "      <td>17.99</td>\n",
              "      <td>10.38</td>\n",
              "      <td>122.80</td>\n",
              "      <td>1001.0</td>\n",
              "      <td>0.11840</td>\n",
              "      <td>0.27760</td>\n",
              "      <td>0.30010</td>\n",
              "      <td>0.14710</td>\n",
              "      <td>0.2419</td>\n",
              "      <td>...</td>\n",
              "      <td>25.38</td>\n",
              "      <td>17.33</td>\n",
              "      <td>184.60</td>\n",
              "      <td>2019.0</td>\n",
              "      <td>0.1622</td>\n",
              "      <td>0.6656</td>\n",
              "      <td>0.7119</td>\n",
              "      <td>0.2654</td>\n",
              "      <td>0.4601</td>\n",
              "      <td>0.11890</td>\n",
              "    </tr>\n",
              "    <tr>\n",
              "      <th>1</th>\n",
              "      <td>M</td>\n",
              "      <td>20.57</td>\n",
              "      <td>17.77</td>\n",
              "      <td>132.90</td>\n",
              "      <td>1326.0</td>\n",
              "      <td>0.08474</td>\n",
              "      <td>0.07864</td>\n",
              "      <td>0.08690</td>\n",
              "      <td>0.07017</td>\n",
              "      <td>0.1812</td>\n",
              "      <td>...</td>\n",
              "      <td>24.99</td>\n",
              "      <td>23.41</td>\n",
              "      <td>158.80</td>\n",
              "      <td>1956.0</td>\n",
              "      <td>0.1238</td>\n",
              "      <td>0.1866</td>\n",
              "      <td>0.2416</td>\n",
              "      <td>0.1860</td>\n",
              "      <td>0.2750</td>\n",
              "      <td>0.08902</td>\n",
              "    </tr>\n",
              "    <tr>\n",
              "      <th>2</th>\n",
              "      <td>M</td>\n",
              "      <td>19.69</td>\n",
              "      <td>21.25</td>\n",
              "      <td>130.00</td>\n",
              "      <td>1203.0</td>\n",
              "      <td>0.10960</td>\n",
              "      <td>0.15990</td>\n",
              "      <td>0.19740</td>\n",
              "      <td>0.12790</td>\n",
              "      <td>0.2069</td>\n",
              "      <td>...</td>\n",
              "      <td>23.57</td>\n",
              "      <td>25.53</td>\n",
              "      <td>152.50</td>\n",
              "      <td>1709.0</td>\n",
              "      <td>0.1444</td>\n",
              "      <td>0.4245</td>\n",
              "      <td>0.4504</td>\n",
              "      <td>0.2430</td>\n",
              "      <td>0.3613</td>\n",
              "      <td>0.08758</td>\n",
              "    </tr>\n",
              "    <tr>\n",
              "      <th>3</th>\n",
              "      <td>M</td>\n",
              "      <td>11.42</td>\n",
              "      <td>20.38</td>\n",
              "      <td>77.58</td>\n",
              "      <td>386.1</td>\n",
              "      <td>0.14250</td>\n",
              "      <td>0.28390</td>\n",
              "      <td>0.24140</td>\n",
              "      <td>0.10520</td>\n",
              "      <td>0.2597</td>\n",
              "      <td>...</td>\n",
              "      <td>14.91</td>\n",
              "      <td>26.50</td>\n",
              "      <td>98.87</td>\n",
              "      <td>567.7</td>\n",
              "      <td>0.2098</td>\n",
              "      <td>0.8663</td>\n",
              "      <td>0.6869</td>\n",
              "      <td>0.2575</td>\n",
              "      <td>0.6638</td>\n",
              "      <td>0.17300</td>\n",
              "    </tr>\n",
              "    <tr>\n",
              "      <th>4</th>\n",
              "      <td>M</td>\n",
              "      <td>20.29</td>\n",
              "      <td>14.34</td>\n",
              "      <td>135.10</td>\n",
              "      <td>1297.0</td>\n",
              "      <td>0.10030</td>\n",
              "      <td>0.13280</td>\n",
              "      <td>0.19800</td>\n",
              "      <td>0.10430</td>\n",
              "      <td>0.1809</td>\n",
              "      <td>...</td>\n",
              "      <td>22.54</td>\n",
              "      <td>16.67</td>\n",
              "      <td>152.20</td>\n",
              "      <td>1575.0</td>\n",
              "      <td>0.1374</td>\n",
              "      <td>0.2050</td>\n",
              "      <td>0.4000</td>\n",
              "      <td>0.1625</td>\n",
              "      <td>0.2364</td>\n",
              "      <td>0.07678</td>\n",
              "    </tr>\n",
              "    <tr>\n",
              "      <th>5</th>\n",
              "      <td>M</td>\n",
              "      <td>12.45</td>\n",
              "      <td>15.70</td>\n",
              "      <td>82.57</td>\n",
              "      <td>477.1</td>\n",
              "      <td>0.12780</td>\n",
              "      <td>0.17000</td>\n",
              "      <td>0.15780</td>\n",
              "      <td>0.08089</td>\n",
              "      <td>0.2087</td>\n",
              "      <td>...</td>\n",
              "      <td>15.47</td>\n",
              "      <td>23.75</td>\n",
              "      <td>103.40</td>\n",
              "      <td>741.6</td>\n",
              "      <td>0.1791</td>\n",
              "      <td>0.5249</td>\n",
              "      <td>0.5355</td>\n",
              "      <td>0.1741</td>\n",
              "      <td>0.3985</td>\n",
              "      <td>0.12440</td>\n",
              "    </tr>\n",
              "    <tr>\n",
              "      <th>6</th>\n",
              "      <td>M</td>\n",
              "      <td>18.25</td>\n",
              "      <td>19.98</td>\n",
              "      <td>119.60</td>\n",
              "      <td>1040.0</td>\n",
              "      <td>0.09463</td>\n",
              "      <td>0.10900</td>\n",
              "      <td>0.11270</td>\n",
              "      <td>0.07400</td>\n",
              "      <td>0.1794</td>\n",
              "      <td>...</td>\n",
              "      <td>22.88</td>\n",
              "      <td>27.66</td>\n",
              "      <td>153.20</td>\n",
              "      <td>1606.0</td>\n",
              "      <td>0.1442</td>\n",
              "      <td>0.2576</td>\n",
              "      <td>0.3784</td>\n",
              "      <td>0.1932</td>\n",
              "      <td>0.3063</td>\n",
              "      <td>0.08368</td>\n",
              "    </tr>\n",
              "    <tr>\n",
              "      <th>7</th>\n",
              "      <td>M</td>\n",
              "      <td>13.71</td>\n",
              "      <td>20.83</td>\n",
              "      <td>90.20</td>\n",
              "      <td>577.9</td>\n",
              "      <td>0.11890</td>\n",
              "      <td>0.16450</td>\n",
              "      <td>0.09366</td>\n",
              "      <td>0.05985</td>\n",
              "      <td>0.2196</td>\n",
              "      <td>...</td>\n",
              "      <td>17.06</td>\n",
              "      <td>28.14</td>\n",
              "      <td>110.60</td>\n",
              "      <td>897.0</td>\n",
              "      <td>0.1654</td>\n",
              "      <td>0.3682</td>\n",
              "      <td>0.2678</td>\n",
              "      <td>0.1556</td>\n",
              "      <td>0.3196</td>\n",
              "      <td>0.11510</td>\n",
              "    </tr>\n",
              "    <tr>\n",
              "      <th>8</th>\n",
              "      <td>M</td>\n",
              "      <td>13.00</td>\n",
              "      <td>21.82</td>\n",
              "      <td>87.50</td>\n",
              "      <td>519.8</td>\n",
              "      <td>0.12730</td>\n",
              "      <td>0.19320</td>\n",
              "      <td>0.18590</td>\n",
              "      <td>0.09353</td>\n",
              "      <td>0.2350</td>\n",
              "      <td>...</td>\n",
              "      <td>15.49</td>\n",
              "      <td>30.73</td>\n",
              "      <td>106.20</td>\n",
              "      <td>739.3</td>\n",
              "      <td>0.1703</td>\n",
              "      <td>0.5401</td>\n",
              "      <td>0.5390</td>\n",
              "      <td>0.2060</td>\n",
              "      <td>0.4378</td>\n",
              "      <td>0.10720</td>\n",
              "    </tr>\n",
              "    <tr>\n",
              "      <th>9</th>\n",
              "      <td>M</td>\n",
              "      <td>12.46</td>\n",
              "      <td>24.04</td>\n",
              "      <td>83.97</td>\n",
              "      <td>475.9</td>\n",
              "      <td>0.11860</td>\n",
              "      <td>0.23960</td>\n",
              "      <td>0.22730</td>\n",
              "      <td>0.08543</td>\n",
              "      <td>0.2030</td>\n",
              "      <td>...</td>\n",
              "      <td>15.09</td>\n",
              "      <td>40.68</td>\n",
              "      <td>97.65</td>\n",
              "      <td>711.4</td>\n",
              "      <td>0.1853</td>\n",
              "      <td>1.0580</td>\n",
              "      <td>1.1050</td>\n",
              "      <td>0.2210</td>\n",
              "      <td>0.4366</td>\n",
              "      <td>0.20750</td>\n",
              "    </tr>\n",
              "  </tbody>\n",
              "</table>\n",
              "<p>10 rows × 31 columns</p>\n",
              "</div>"
            ],
            "text/plain": [
              "  diagnosis  radius_mean  texture_mean  perimeter_mean  area_mean  \\\n",
              "0         M        17.99         10.38          122.80     1001.0   \n",
              "1         M        20.57         17.77          132.90     1326.0   \n",
              "2         M        19.69         21.25          130.00     1203.0   \n",
              "3         M        11.42         20.38           77.58      386.1   \n",
              "4         M        20.29         14.34          135.10     1297.0   \n",
              "5         M        12.45         15.70           82.57      477.1   \n",
              "6         M        18.25         19.98          119.60     1040.0   \n",
              "7         M        13.71         20.83           90.20      577.9   \n",
              "8         M        13.00         21.82           87.50      519.8   \n",
              "9         M        12.46         24.04           83.97      475.9   \n",
              "\n",
              "   smoothness_mean  compactness_mean  concavity_mean  concave points_mean  \\\n",
              "0          0.11840           0.27760         0.30010              0.14710   \n",
              "1          0.08474           0.07864         0.08690              0.07017   \n",
              "2          0.10960           0.15990         0.19740              0.12790   \n",
              "3          0.14250           0.28390         0.24140              0.10520   \n",
              "4          0.10030           0.13280         0.19800              0.10430   \n",
              "5          0.12780           0.17000         0.15780              0.08089   \n",
              "6          0.09463           0.10900         0.11270              0.07400   \n",
              "7          0.11890           0.16450         0.09366              0.05985   \n",
              "8          0.12730           0.19320         0.18590              0.09353   \n",
              "9          0.11860           0.23960         0.22730              0.08543   \n",
              "\n",
              "   symmetry_mean  ...  radius_worst  texture_worst  perimeter_worst  \\\n",
              "0         0.2419  ...         25.38          17.33           184.60   \n",
              "1         0.1812  ...         24.99          23.41           158.80   \n",
              "2         0.2069  ...         23.57          25.53           152.50   \n",
              "3         0.2597  ...         14.91          26.50            98.87   \n",
              "4         0.1809  ...         22.54          16.67           152.20   \n",
              "5         0.2087  ...         15.47          23.75           103.40   \n",
              "6         0.1794  ...         22.88          27.66           153.20   \n",
              "7         0.2196  ...         17.06          28.14           110.60   \n",
              "8         0.2350  ...         15.49          30.73           106.20   \n",
              "9         0.2030  ...         15.09          40.68            97.65   \n",
              "\n",
              "   area_worst  smoothness_worst  compactness_worst  concavity_worst  \\\n",
              "0      2019.0            0.1622             0.6656           0.7119   \n",
              "1      1956.0            0.1238             0.1866           0.2416   \n",
              "2      1709.0            0.1444             0.4245           0.4504   \n",
              "3       567.7            0.2098             0.8663           0.6869   \n",
              "4      1575.0            0.1374             0.2050           0.4000   \n",
              "5       741.6            0.1791             0.5249           0.5355   \n",
              "6      1606.0            0.1442             0.2576           0.3784   \n",
              "7       897.0            0.1654             0.3682           0.2678   \n",
              "8       739.3            0.1703             0.5401           0.5390   \n",
              "9       711.4            0.1853             1.0580           1.1050   \n",
              "\n",
              "   concave points_worst  symmetry_worst  fractal_dimension_worst  \n",
              "0                0.2654          0.4601                  0.11890  \n",
              "1                0.1860          0.2750                  0.08902  \n",
              "2                0.2430          0.3613                  0.08758  \n",
              "3                0.2575          0.6638                  0.17300  \n",
              "4                0.1625          0.2364                  0.07678  \n",
              "5                0.1741          0.3985                  0.12440  \n",
              "6                0.1932          0.3063                  0.08368  \n",
              "7                0.1556          0.3196                  0.11510  \n",
              "8                0.2060          0.4378                  0.10720  \n",
              "9                0.2210          0.4366                  0.20750  \n",
              "\n",
              "[10 rows x 31 columns]"
            ]
          },
          "execution_count": 2,
          "metadata": {},
          "output_type": "execute_result"
        }
      ],
      "source": [
        "#Importing the data from csv\n",
        "data = pd.read_csv('data2.csv')\n",
        "#print. top 10 rows data to explore\n",
        "data.head(10)"
      ]
    },
    {
      "cell_type": "markdown",
      "id": "129171e7",
      "metadata": {
        "id": "129171e7"
      },
      "source": [
        "## Data Exploration "
      ]
    },
    {
      "cell_type": "code",
      "execution_count": null,
      "id": "849d1883",
      "metadata": {
        "id": "849d1883",
        "outputId": "b1e8f830-e1ab-4e70-b872-022808b0272b"
      },
      "outputs": [
        {
          "name": "stdout",
          "output_type": "stream",
          "text": [
            "Shape of data (569, 31)\n",
            "Dimention of data 2\n"
          ]
        }
      ],
      "source": [
        "# checking the shape of data\n",
        "print(\"Shape of data\", data.shape) \n",
        "\n",
        "print(\"Dimention of data\", data.ndim)"
      ]
    },
    {
      "cell_type": "code",
      "execution_count": null,
      "id": "8a089d85",
      "metadata": {
        "id": "8a089d85",
        "outputId": "5a6dac73-338c-4c61-895f-83de5173f1e7"
      },
      "outputs": [
        {
          "data": {
            "text/plain": [
              "diagnosis                  0\n",
              "radius_mean                0\n",
              "texture_mean               0\n",
              "perimeter_mean             0\n",
              "area_mean                  0\n",
              "smoothness_mean            0\n",
              "compactness_mean           0\n",
              "concavity_mean             0\n",
              "concave points_mean        0\n",
              "symmetry_mean              0\n",
              "fractal_dimension_mean     0\n",
              "radius_se                  0\n",
              "texture_se                 0\n",
              "perimeter_se               0\n",
              "area_se                    0\n",
              "smoothness_se              0\n",
              "compactness_se             0\n",
              "concavity_se               0\n",
              "concave points_se          0\n",
              "symmetry_se                0\n",
              "fractal_dimension_se       0\n",
              "radius_worst               0\n",
              "texture_worst              0\n",
              "perimeter_worst            0\n",
              "area_worst                 0\n",
              "smoothness_worst           0\n",
              "compactness_worst          0\n",
              "concavity_worst            0\n",
              "concave points_worst       0\n",
              "symmetry_worst             0\n",
              "fractal_dimension_worst    0\n",
              "dtype: int64"
            ]
          },
          "execution_count": 4,
          "metadata": {},
          "output_type": "execute_result"
        }
      ],
      "source": [
        "data.isna().sum()"
      ]
    },
    {
      "cell_type": "code",
      "execution_count": null,
      "id": "d3cb9fe9",
      "metadata": {
        "id": "d3cb9fe9",
        "outputId": "d665433f-fefa-4e2d-d8f3-f6b5f0ed3a34"
      },
      "outputs": [
        {
          "data": {
            "text/plain": [
              "diagnosis                   object\n",
              "radius_mean                float64\n",
              "texture_mean               float64\n",
              "perimeter_mean             float64\n",
              "area_mean                  float64\n",
              "smoothness_mean            float64\n",
              "compactness_mean           float64\n",
              "concavity_mean             float64\n",
              "concave points_mean        float64\n",
              "symmetry_mean              float64\n",
              "fractal_dimension_mean     float64\n",
              "radius_se                  float64\n",
              "texture_se                 float64\n",
              "perimeter_se               float64\n",
              "area_se                    float64\n",
              "smoothness_se              float64\n",
              "compactness_se             float64\n",
              "concavity_se               float64\n",
              "concave points_se          float64\n",
              "symmetry_se                float64\n",
              "fractal_dimension_se       float64\n",
              "radius_worst               float64\n",
              "texture_worst              float64\n",
              "perimeter_worst            float64\n",
              "area_worst                 float64\n",
              "smoothness_worst           float64\n",
              "compactness_worst          float64\n",
              "concavity_worst            float64\n",
              "concave points_worst       float64\n",
              "symmetry_worst             float64\n",
              "fractal_dimension_worst    float64\n",
              "dtype: object"
            ]
          },
          "execution_count": 5,
          "metadata": {},
          "output_type": "execute_result"
        }
      ],
      "source": [
        "# Checking the data types\n",
        "data.dtypes"
      ]
    },
    {
      "cell_type": "code",
      "execution_count": null,
      "id": "821bf7e2",
      "metadata": {
        "id": "821bf7e2",
        "outputId": "6d01239a-3530-4b84-caff-5180a6a357be"
      },
      "outputs": [
        {
          "data": {
            "text/plain": [
              "Text(0.5, 0, 'Target Variable')"
            ]
          },
          "execution_count": 6,
          "metadata": {},
          "output_type": "execute_result"
        },
        {
          "data": {
            "image/png": "[encoded data removed]",
            "text/plain": [
              "<Figure size 432x288 with 1 Axes>"
            ]
          },
          "metadata": {
            "needs_background": "light"
          },
          "output_type": "display_data"
        }
      ],
      "source": [
        "import matplotlib.pyplot as plt\n",
        "\n",
        "# Check the target variable data distribution \n",
        "\n",
        "# Plot distribution of points by Diagnosis \n",
        "data.groupby('diagnosis')['diagnosis'].apply(pd.value_counts).plot(kind='bar')\n",
        "\n",
        "# Add legend to plot\n",
        "plt.legend(['Count'], title='Target Variable')\n",
        "\n",
        "# Add x-axis label\n",
        "plt.xlabel(\"Target Variable\") "
      ]
    },
    {
      "cell_type": "code",
      "execution_count": null,
      "id": "664e96f5",
      "metadata": {
        "id": "664e96f5"
      },
      "outputs": [],
      "source": [
        "# Distribution of all feature "
      ]
    },
    {
      "cell_type": "code",
      "execution_count": null,
      "id": "7083e33a",
      "metadata": {
        "id": "7083e33a",
        "outputId": "9e8f9ae7-0c01-4724-ced3-861dbc860e07"
      },
      "outputs": [
        {
          "data": {
            "image/png": "[encoded data removed]",
            "text/plain": [
              "<Figure size 432x288 with 1 Axes>"
            ]
          },
          "metadata": {
            "needs_background": "light"
          },
          "output_type": "display_data"
        },
        {
          "data": {
            "image/png": "[encoded data removed]",
            "text/plain": [
              "<Figure size 432x288 with 1 Axes>"
            ]
          },
          "metadata": {
            "needs_background": "light"
          },
          "output_type": "display_data"
        },
        {
          "data": {
            "image/png": "[encoded data removed]",
            "text/plain": [
              "<Figure size 432x288 with 1 Axes>"
            ]
          },
          "metadata": {
            "needs_background": "light"
          },
          "output_type": "display_data"
        },
        {
          "data": {
            "image/png": "[encoded data removed]",
            "text/plain": [
              "<Figure size 432x288 with 1 Axes>"
            ]
          },
          "metadata": {
            "needs_background": "light"
          },
          "output_type": "display_data"
        },
        {
          "data": {
            "image/png": "[encoded data removed]",
            "text/plain": [
              "<Figure size 432x288 with 1 Axes>"
            ]
          },
          "metadata": {
            "needs_background": "light"
          },
          "output_type": "display_data"
        },
        {
          "data": {
            "image/png": "[encoded data removed]",
            "text/plain": [
              "<Figure size 432x288 with 1 Axes>"
            ]
          },
          "metadata": {
            "needs_background": "light"
          },
          "output_type": "display_data"
        },
        {
          "data": {
            "image/png": "[encoded data removed]",
            "text/plain": [
              "<Figure size 432x288 with 1 Axes>"
            ]
          },
          "metadata": {
            "needs_background": "light"
          },
          "output_type": "display_data"
        },
        {
          "data": {
            "image/png": "[encoded data removed]",
            "text/plain": [
              "<Figure size 432x288 with 1 Axes>"
            ]
          },
          "metadata": {
            "needs_background": "light"
          },
          "output_type": "display_data"
        },
        {
          "data": {
            "image/png": "[encoded data removed]",
            "text/plain": [
              "<Figure size 432x288 with 1 Axes>"
            ]
          },
          "metadata": {
            "needs_background": "light"
          },
          "output_type": "display_data"
        },
        {
          "data": {
            "image/png": "[encoded data removed]",
            "text/plain": [
              "<Figure size 432x288 with 1 Axes>"
            ]
          },
          "metadata": {
            "needs_background": "light"
          },
          "output_type": "display_data"
        },
        {
          "data": {
            "image/png": "[encoded data removed]",
            "text/plain": [
              "<Figure size 432x288 with 1 Axes>"
            ]
          },
          "metadata": {
            "needs_background": "light"
          },
          "output_type": "display_data"
        },
        {
          "data": {
            "image/png": "[encoded data removed]",
            "text/plain": [
              "<Figure size 432x288 with 1 Axes>"
            ]
          },
          "metadata": {
            "needs_background": "light"
          },
          "output_type": "display_data"
        },
        {
          "data": {
            "image/png": "[encoded data removed]",
            "text/plain": [
              "<Figure size 432x288 with 1 Axes>"
            ]
          },
          "metadata": {
            "needs_background": "light"
          },
          "output_type": "display_data"
        },
        {
          "data": {
            "image/png": "[encoded data removed]",
            "text/plain": [
              "<Figure size 432x288 with 1 Axes>"
            ]
          },
          "metadata": {
            "needs_background": "light"
          },
          "output_type": "display_data"
        },
        {
          "data": {
            "image/png": "[encoded data removed]",
            "text/plain": [
              "<Figure size 432x288 with 1 Axes>"
            ]
          },
          "metadata": {
            "needs_background": "light"
          },
          "output_type": "display_data"
        },
        {
          "data": {
            "image/png": "[encoded data removed]",
            "text/plain": [
              "<Figure size 432x288 with 1 Axes>"
            ]
          },
          "metadata": {
            "needs_background": "light"
          },
          "output_type": "display_data"
        },
        {
          "data": {
            "image/png": "[encoded data removed]",
            "text/plain": [
              "<Figure size 432x288 with 1 Axes>"
            ]
          },
          "metadata": {
            "needs_background": "light"
          },
          "output_type": "display_data"
        },
        {
          "data": {
            "image/png": "[encoded data removed]",
            "text/plain": [
              "<Figure size 432x288 with 1 Axes>"
            ]
          },
          "metadata": {
            "needs_background": "light"
          },
          "output_type": "display_data"
        },
        {
          "data": {
            "image/png": "[encoded data removed]",
            "text/plain": [
              "<Figure size 432x288 with 1 Axes>"
            ]
          },
          "metadata": {
            "needs_background": "light"
          },
          "output_type": "display_data"
        },
        {
          "data": {
            "image/png": "[encoded data removed]",
            "text/plain": [
              "<Figure size 432x288 with 1 Axes>"
            ]
          },
          "metadata": {
            "needs_background": "light"
          },
          "output_type": "display_data"
        },
        {
          "data": {
            "image/png": "[encoded data removed]",
            "text/plain": [
              "<Figure size 432x288 with 1 Axes>"
            ]
          },
          "metadata": {
            "needs_background": "light"
          },
          "output_type": "display_data"
        },
        {
          "data": {
            "image/png": "[encoded data removed]",
            "text/plain": [
              "<Figure size 432x288 with 1 Axes>"
            ]
          },
          "metadata": {
            "needs_background": "light"
          },
          "output_type": "display_data"
        },
        {
          "data": {
            "image/png": "[encoded data removed]",
            "text/plain": [
              "<Figure size 432x288 with 1 Axes>"
            ]
          },
          "metadata": {
            "needs_background": "light"
          },
          "output_type": "display_data"
        },
        {
          "data": {
            "image/png": "[encoded data removed]",
            "text/plain": [
              "<Figure size 432x288 with 1 Axes>"
            ]
          },
          "metadata": {
            "needs_background": "light"
          },
          "output_type": "display_data"
        },
        {
          "data": {
            "image/png": "[encoded data removed]",
            "text/plain": [
              "<Figure size 432x288 with 1 Axes>"
            ]
          },
          "metadata": {
            "needs_background": "light"
          },
          "output_type": "display_data"
        },
        {
          "data": {
            "image/png": "[encoded data removed]",
            "text/plain": [
              "<Figure size 432x288 with 1 Axes>"
            ]
          },
          "metadata": {
            "needs_background": "light"
          },
          "output_type": "display_data"
        },
        {
          "data": {
            "image/png": "[encoded data removed]",
            "text/plain": [
              "<Figure size 432x288 with 1 Axes>"
            ]
          },
          "metadata": {
            "needs_background": "light"
          },
          "output_type": "display_data"
        },
        {
          "data": {
            "image/png": "[encoded data removed]",
            "text/plain": [
              "<Figure size 432x288 with 1 Axes>"
            ]
          },
          "metadata": {
            "needs_background": "light"
          },
          "output_type": "display_data"
        },
        {
          "data": {
            "image/png": "[encoded data removed]",
            "text/plain": [
              "<Figure size 432x288 with 1 Axes>"
            ]
          },
          "metadata": {
            "needs_background": "light"
          },
          "output_type": "display_data"
        },
        {
          "data": {
            "image/png": "[encoded data removed]",
            "text/plain": [
              "<Figure size 432x288 with 1 Axes>"
            ]
          },
          "metadata": {
            "needs_background": "light"
          },
          "output_type": "display_data"
        }
      ],
      "source": [
        "for i in data.columns[1:]:\n",
        "    data[i].hist()\n",
        "    plt.title(i, size=12)\n",
        "    plt.show()"
      ]
    },
    {
      "cell_type": "markdown",
      "id": "f7ca9931",
      "metadata": {
        "id": "f7ca9931"
      },
      "source": [
        "### Skewness of probability dirtribution of feature values"
      ]
    },
    {
      "cell_type": "markdown",
      "id": "3e331836",
      "metadata": {
        "id": "3e331836"
      },
      "source": [
        "skewness is a measure of the asymmetry of the probability distribution of a random variable about its mean. \n",
        "In other words, skewness tells you the amount and direction of skew (departure from horizontal symmetry). \n",
        "The skewness value can be positive or negative, or even undefined. \n",
        "If skewness is 0, the data are perfectly symmetrical, although it is quite unlikely for real-world data. \n",
        "As a general rule of thumb:\n",
        "\n",
        "If skewness is less than -1 or greater than 1, the distribution is highly skewed.\n",
        "If skewness is between -1 and -0.5 or between 0.5 and 1, the distribution is moderately skewed.\n",
        "If skewness is between -0.5 and 0.5, the distribution is approximately symmetric."
      ]
    },
    {
      "cell_type": "code",
      "execution_count": null,
      "id": "e70fc596",
      "metadata": {
        "id": "e70fc596",
        "outputId": "4ea42955-37ba-48ab-d5a0-99b995b8b17f"
      },
      "outputs": [
        {
          "name": "stdout",
          "output_type": "stream",
          "text": [
            "Skew value for radius_mean is , 0.9423795716730992\n",
            "\n",
            "\n",
            "Skew value for texture_mean is , 0.6504495420828159\n",
            "\n",
            "\n",
            "Skew value for perimeter_mean is , 0.9906504253930081\n",
            "\n",
            "\n",
            "Skew value for area_mean is , 1.6457321756240424\n",
            "\n",
            "\n",
            "Skew value for smoothness_mean is , 0.45632376481955844\n",
            "\n",
            "\n",
            "Skew value for compactness_mean is , 1.1901230311980404\n",
            "\n",
            "\n",
            "Skew value for concavity_mean is , 1.4011797389486722\n",
            "\n",
            "\n",
            "Skew value for concave points_mean is , 1.1711800812336282\n",
            "\n",
            "\n",
            "Skew value for symmetry_mean is , 0.7256089733641999\n",
            "\n",
            "\n",
            "Skew value for fractal_dimension_mean is , 1.3044888125755076\n",
            "\n",
            "\n",
            "Skew value for radius_se is , 3.0886121663847574\n",
            "\n",
            "\n",
            "Skew value for texture_se is , 1.646443808753053\n",
            "\n",
            "\n",
            "Skew value for perimeter_se is , 3.443615202194899\n",
            "\n",
            "\n",
            "Skew value for area_se is , 5.447186284898394\n",
            "\n",
            "\n",
            "Skew value for smoothness_se is , 2.314450056636759\n",
            "\n",
            "\n",
            "Skew value for compactness_se is , 1.9022207096378565\n",
            "\n",
            "\n",
            "Skew value for concavity_se is , 5.110463049043661\n",
            "\n",
            "\n",
            "Skew value for concave points_se is , 1.4446781446974786\n",
            "\n",
            "\n",
            "Skew value for symmetry_se is , 2.1951328995478216\n",
            "\n",
            "\n",
            "Skew value for fractal_dimension_se is , 3.923968620227413\n",
            "\n",
            "\n",
            "Skew value for radius_worst is , 1.1031152059604372\n",
            "\n",
            "\n",
            "Skew value for texture_worst is , 0.49832130948716474\n",
            "\n",
            "\n",
            "Skew value for perimeter_worst is , 1.1281638713683722\n",
            "\n",
            "\n",
            "Skew value for area_worst is , 1.8593732724433467\n",
            "\n",
            "\n",
            "Skew value for smoothness_worst is , 0.4154259962824678\n",
            "\n",
            "\n",
            "Skew value for compactness_worst is , 1.4735549003297956\n",
            "\n",
            "\n",
            "Skew value for concavity_worst is , 1.1502368219460262\n",
            "\n",
            "\n",
            "Skew value for concave points_worst is , 0.49261552688550875\n",
            "\n",
            "\n",
            "Skew value for symmetry_worst is , 1.433927765189328\n",
            "\n",
            "\n",
            "Skew value for fractal_dimension_worst is , 1.6625792663955146\n",
            "\n",
            "\n"
          ]
        }
      ],
      "source": [
        "# Check the skew value \n",
        "for i in data.columns[1:]:\n",
        "    sk = data[i].skew()\n",
        "    print(\"Skew value for {0} is ,\".format(i), sk)\n",
        "    print(\"\\n\")"
      ]
    },
    {
      "cell_type": "markdown",
      "id": "16ce1f9c",
      "metadata": {
        "id": "16ce1f9c"
      },
      "source": [
        "### Kurtosis of probability dirtribution of feature values"
      ]
    },
    {
      "cell_type": "markdown",
      "id": "36ee29ce",
      "metadata": {
        "id": "36ee29ce"
      },
      "source": [
        "#### Kurtosis tells you the height and sharpness of the central peak, relative to that of a standard bell curve."
      ]
    },
    {
      "cell_type": "code",
      "execution_count": null,
      "id": "3b4098b9",
      "metadata": {
        "id": "3b4098b9",
        "outputId": "e5e28bb4-4169-4c9a-adb3-771ab9001497"
      },
      "outputs": [
        {
          "name": "stdout",
          "output_type": "stream",
          "text": [
            "kurtosis value for radius_mean is , 0.8455216229065377\n",
            "\n",
            "\n",
            "kurtosis value for texture_mean is , 0.7583189723727752\n",
            "\n",
            "\n",
            "kurtosis value for perimeter_mean is , 0.9722135477110654\n",
            "\n",
            "\n",
            "kurtosis value for area_mean is , 3.6523027623507582\n",
            "\n",
            "\n",
            "kurtosis value for smoothness_mean is , 0.8559749303632245\n",
            "\n",
            "\n",
            "kurtosis value for compactness_mean is , 1.650130467219256\n",
            "\n",
            "\n",
            "kurtosis value for concavity_mean is , 1.9986375291042124\n",
            "\n",
            "\n",
            "kurtosis value for concave points_mean is , 1.066555702965477\n",
            "\n",
            "\n",
            "kurtosis value for symmetry_mean is , 1.2879329922294565\n",
            "\n",
            "\n",
            "kurtosis value for fractal_dimension_mean is , 3.0058921201694933\n",
            "\n",
            "\n",
            "kurtosis value for radius_se is , 17.686725966164644\n",
            "\n",
            "\n",
            "kurtosis value for texture_se is , 5.349168692469973\n",
            "\n",
            "\n",
            "kurtosis value for perimeter_se is , 21.40190492588045\n",
            "\n",
            "\n",
            "kurtosis value for area_se is , 49.20907650724119\n",
            "\n",
            "\n",
            "kurtosis value for smoothness_se is , 10.469839532360393\n",
            "\n",
            "\n",
            "kurtosis value for compactness_se is , 5.10625248342338\n",
            "\n",
            "\n",
            "kurtosis value for concavity_se is , 48.8613953017919\n",
            "\n",
            "\n",
            "kurtosis value for concave points_se is , 5.1263019430439565\n",
            "\n",
            "\n",
            "kurtosis value for symmetry_se is , 7.896129827528971\n",
            "\n",
            "\n",
            "kurtosis value for fractal_dimension_se is , 26.280847486373336\n",
            "\n",
            "\n",
            "kurtosis value for radius_worst is , 0.9440895758772196\n",
            "\n",
            "\n",
            "kurtosis value for texture_worst is , 0.22430186846478772\n",
            "\n",
            "\n",
            "kurtosis value for perimeter_worst is , 1.070149666654432\n",
            "\n",
            "\n",
            "kurtosis value for area_worst is , 4.396394828992138\n",
            "\n",
            "\n",
            "kurtosis value for smoothness_worst is , 0.5178251903311124\n",
            "\n",
            "\n",
            "kurtosis value for compactness_worst is , 3.0392881719200657\n",
            "\n",
            "\n",
            "kurtosis value for concavity_worst is , 1.6152532975830205\n",
            "\n",
            "\n",
            "kurtosis value for concave points_worst is , -0.5355351225188589\n",
            "\n",
            "\n",
            "kurtosis value for symmetry_worst is , 4.444559517846582\n",
            "\n",
            "\n",
            "kurtosis value for fractal_dimension_worst is , 5.244610555815004\n",
            "\n",
            "\n"
          ]
        }
      ],
      "source": [
        "# Check the kurtosis value \n",
        "for i in data.columns[1:]:\n",
        "    sk = data[i].kurtosis()\n",
        "    print(\"kurtosis value for {0} is ,\".format(i), sk)\n",
        "    print(\"\\n\")"
      ]
    },
    {
      "cell_type": "markdown",
      "id": "039e61cc",
      "metadata": {
        "id": "039e61cc"
      },
      "source": [
        "### Statistics of data"
      ]
    },
    {
      "cell_type": "code",
      "execution_count": null,
      "id": "579c4224",
      "metadata": {
        "id": "579c4224",
        "outputId": "918a0637-423d-4f4d-955d-dab3f3f2b869"
      },
      "outputs": [
        {
          "data": {
            "text/html": [
              "<div>\n",
              "<style scoped>\n",
              "    .dataframe tbody tr th:only-of-type {\n",
              "        vertical-align: middle;\n",
              "    }\n",
              "\n",
              "    .dataframe tbody tr th {\n",
              "        vertical-align: top;\n",
              "    }\n",
              "\n",
              "    .dataframe thead th {\n",
              "        text-align: right;\n",
              "    }\n",
              "</style>\n",
              "<table border=\"1\" class=\"dataframe\">\n",
              "  <thead>\n",
              "    <tr style=\"text-align: right;\">\n",
              "      <th></th>\n",
              "      <th>radius_mean</th>\n",
              "      <th>texture_mean</th>\n",
              "      <th>perimeter_mean</th>\n",
              "      <th>area_mean</th>\n",
              "      <th>smoothness_mean</th>\n",
              "      <th>compactness_mean</th>\n",
              "      <th>concavity_mean</th>\n",
              "      <th>concave points_mean</th>\n",
              "      <th>symmetry_mean</th>\n",
              "      <th>fractal_dimension_mean</th>\n",
              "      <th>...</th>\n",
              "      <th>radius_worst</th>\n",
              "      <th>texture_worst</th>\n",
              "      <th>perimeter_worst</th>\n",
              "      <th>area_worst</th>\n",
              "      <th>smoothness_worst</th>\n",
              "      <th>compactness_worst</th>\n",
              "      <th>concavity_worst</th>\n",
              "      <th>concave points_worst</th>\n",
              "      <th>symmetry_worst</th>\n",
              "      <th>fractal_dimension_worst</th>\n",
              "    </tr>\n",
              "  </thead>\n",
              "  <tbody>\n",
              "    <tr>\n",
              "      <th>count</th>\n",
              "      <td>569.000000</td>\n",
              "      <td>569.000000</td>\n",
              "      <td>569.000000</td>\n",
              "      <td>569.000000</td>\n",
              "      <td>569.000000</td>\n",
              "      <td>569.000000</td>\n",
              "      <td>569.000000</td>\n",
              "      <td>569.000000</td>\n",
              "      <td>569.000000</td>\n",
              "      <td>569.000000</td>\n",
              "      <td>...</td>\n",
              "      <td>569.000000</td>\n",
              "      <td>569.000000</td>\n",
              "      <td>569.000000</td>\n",
              "      <td>569.000000</td>\n",
              "      <td>569.000000</td>\n",
              "      <td>569.000000</td>\n",
              "      <td>569.000000</td>\n",
              "      <td>569.000000</td>\n",
              "      <td>569.000000</td>\n",
              "      <td>569.000000</td>\n",
              "    </tr>\n",
              "    <tr>\n",
              "      <th>mean</th>\n",
              "      <td>14.127292</td>\n",
              "      <td>19.289649</td>\n",
              "      <td>91.969033</td>\n",
              "      <td>654.889104</td>\n",
              "      <td>0.096360</td>\n",
              "      <td>0.104341</td>\n",
              "      <td>0.088799</td>\n",
              "      <td>0.048919</td>\n",
              "      <td>0.181162</td>\n",
              "      <td>0.062798</td>\n",
              "      <td>...</td>\n",
              "      <td>16.269190</td>\n",
              "      <td>25.677223</td>\n",
              "      <td>107.261213</td>\n",
              "      <td>880.583128</td>\n",
              "      <td>0.132369</td>\n",
              "      <td>0.254265</td>\n",
              "      <td>0.272188</td>\n",
              "      <td>0.114606</td>\n",
              "      <td>0.290076</td>\n",
              "      <td>0.083946</td>\n",
              "    </tr>\n",
              "    <tr>\n",
              "      <th>std</th>\n",
              "      <td>3.524049</td>\n",
              "      <td>4.301036</td>\n",
              "      <td>24.298981</td>\n",
              "      <td>351.914129</td>\n",
              "      <td>0.014064</td>\n",
              "      <td>0.052813</td>\n",
              "      <td>0.079720</td>\n",
              "      <td>0.038803</td>\n",
              "      <td>0.027414</td>\n",
              "      <td>0.007060</td>\n",
              "      <td>...</td>\n",
              "      <td>4.833242</td>\n",
              "      <td>6.146258</td>\n",
              "      <td>33.602542</td>\n",
              "      <td>569.356993</td>\n",
              "      <td>0.022832</td>\n",
              "      <td>0.157336</td>\n",
              "      <td>0.208624</td>\n",
              "      <td>0.065732</td>\n",
              "      <td>0.061867</td>\n",
              "      <td>0.018061</td>\n",
              "    </tr>\n",
              "    <tr>\n",
              "      <th>min</th>\n",
              "      <td>6.981000</td>\n",
              "      <td>9.710000</td>\n",
              "      <td>43.790000</td>\n",
              "      <td>143.500000</td>\n",
              "      <td>0.052630</td>\n",
              "      <td>0.019380</td>\n",
              "      <td>0.000000</td>\n",
              "      <td>0.000000</td>\n",
              "      <td>0.106000</td>\n",
              "      <td>0.049960</td>\n",
              "      <td>...</td>\n",
              "      <td>7.930000</td>\n",
              "      <td>12.020000</td>\n",
              "      <td>50.410000</td>\n",
              "      <td>185.200000</td>\n",
              "      <td>0.071170</td>\n",
              "      <td>0.027290</td>\n",
              "      <td>0.000000</td>\n",
              "      <td>0.000000</td>\n",
              "      <td>0.156500</td>\n",
              "      <td>0.055040</td>\n",
              "    </tr>\n",
              "    <tr>\n",
              "      <th>25%</th>\n",
              "      <td>11.700000</td>\n",
              "      <td>16.170000</td>\n",
              "      <td>75.170000</td>\n",
              "      <td>420.300000</td>\n",
              "      <td>0.086370</td>\n",
              "      <td>0.064920</td>\n",
              "      <td>0.029560</td>\n",
              "      <td>0.020310</td>\n",
              "      <td>0.161900</td>\n",
              "      <td>0.057700</td>\n",
              "      <td>...</td>\n",
              "      <td>13.010000</td>\n",
              "      <td>21.080000</td>\n",
              "      <td>84.110000</td>\n",
              "      <td>515.300000</td>\n",
              "      <td>0.116600</td>\n",
              "      <td>0.147200</td>\n",
              "      <td>0.114500</td>\n",
              "      <td>0.064930</td>\n",
              "      <td>0.250400</td>\n",
              "      <td>0.071460</td>\n",
              "    </tr>\n",
              "    <tr>\n",
              "      <th>50%</th>\n",
              "      <td>13.370000</td>\n",
              "      <td>18.840000</td>\n",
              "      <td>86.240000</td>\n",
              "      <td>551.100000</td>\n",
              "      <td>0.095870</td>\n",
              "      <td>0.092630</td>\n",
              "      <td>0.061540</td>\n",
              "      <td>0.033500</td>\n",
              "      <td>0.179200</td>\n",
              "      <td>0.061540</td>\n",
              "      <td>...</td>\n",
              "      <td>14.970000</td>\n",
              "      <td>25.410000</td>\n",
              "      <td>97.660000</td>\n",
              "      <td>686.500000</td>\n",
              "      <td>0.131300</td>\n",
              "      <td>0.211900</td>\n",
              "      <td>0.226700</td>\n",
              "      <td>0.099930</td>\n",
              "      <td>0.282200</td>\n",
              "      <td>0.080040</td>\n",
              "    </tr>\n",
              "    <tr>\n",
              "      <th>75%</th>\n",
              "      <td>15.780000</td>\n",
              "      <td>21.800000</td>\n",
              "      <td>104.100000</td>\n",
              "      <td>782.700000</td>\n",
              "      <td>0.105300</td>\n",
              "      <td>0.130400</td>\n",
              "      <td>0.130700</td>\n",
              "      <td>0.074000</td>\n",
              "      <td>0.195700</td>\n",
              "      <td>0.066120</td>\n",
              "      <td>...</td>\n",
              "      <td>18.790000</td>\n",
              "      <td>29.720000</td>\n",
              "      <td>125.400000</td>\n",
              "      <td>1084.000000</td>\n",
              "      <td>0.146000</td>\n",
              "      <td>0.339100</td>\n",
              "      <td>0.382900</td>\n",
              "      <td>0.161400</td>\n",
              "      <td>0.317900</td>\n",
              "      <td>0.092080</td>\n",
              "    </tr>\n",
              "    <tr>\n",
              "      <th>max</th>\n",
              "      <td>28.110000</td>\n",
              "      <td>39.280000</td>\n",
              "      <td>188.500000</td>\n",
              "      <td>2501.000000</td>\n",
              "      <td>0.163400</td>\n",
              "      <td>0.345400</td>\n",
              "      <td>0.426800</td>\n",
              "      <td>0.201200</td>\n",
              "      <td>0.304000</td>\n",
              "      <td>0.097440</td>\n",
              "      <td>...</td>\n",
              "      <td>36.040000</td>\n",
              "      <td>49.540000</td>\n",
              "      <td>251.200000</td>\n",
              "      <td>4254.000000</td>\n",
              "      <td>0.222600</td>\n",
              "      <td>1.058000</td>\n",
              "      <td>1.252000</td>\n",
              "      <td>0.291000</td>\n",
              "      <td>0.663800</td>\n",
              "      <td>0.207500</td>\n",
              "    </tr>\n",
              "  </tbody>\n",
              "</table>\n",
              "<p>8 rows × 30 columns</p>\n",
              "</div>"
            ],
            "text/plain": [
              "       radius_mean  texture_mean  perimeter_mean    area_mean  \\\n",
              "count   569.000000    569.000000      569.000000   569.000000   \n",
              "mean     14.127292     19.289649       91.969033   654.889104   \n",
              "std       3.524049      4.301036       24.298981   351.914129   \n",
              "min       6.981000      9.710000       43.790000   143.500000   \n",
              "25%      11.700000     16.170000       75.170000   420.300000   \n",
              "50%      13.370000     18.840000       86.240000   551.100000   \n",
              "75%      15.780000     21.800000      104.100000   782.700000   \n",
              "max      28.110000     39.280000      188.500000  2501.000000   \n",
              "\n",
              "       smoothness_mean  compactness_mean  concavity_mean  concave points_mean  \\\n",
              "count       569.000000        569.000000      569.000000           569.000000   \n",
              "mean          0.096360          0.104341        0.088799             0.048919   \n",
              "std           0.014064          0.052813        0.079720             0.038803   \n",
              "min           0.052630          0.019380        0.000000             0.000000   \n",
              "25%           0.086370          0.064920        0.029560             0.020310   \n",
              "50%           0.095870          0.092630        0.061540             0.033500   \n",
              "75%           0.105300          0.130400        0.130700             0.074000   \n",
              "max           0.163400          0.345400        0.426800             0.201200   \n",
              "\n",
              "       symmetry_mean  fractal_dimension_mean  ...  radius_worst  \\\n",
              "count     569.000000              569.000000  ...    569.000000   \n",
              "mean        0.181162                0.062798  ...     16.269190   \n",
              "std         0.027414                0.007060  ...      4.833242   \n",
              "min         0.106000                0.049960  ...      7.930000   \n",
              "25%         0.161900                0.057700  ...     13.010000   \n",
              "50%         0.179200                0.061540  ...     14.970000   \n",
              "75%         0.195700                0.066120  ...     18.790000   \n",
              "max         0.304000                0.097440  ...     36.040000   \n",
              "\n",
              "       texture_worst  perimeter_worst   area_worst  smoothness_worst  \\\n",
              "count     569.000000       569.000000   569.000000        569.000000   \n",
              "mean       25.677223       107.261213   880.583128          0.132369   \n",
              "std         6.146258        33.602542   569.356993          0.022832   \n",
              "min        12.020000        50.410000   185.200000          0.071170   \n",
              "25%        21.080000        84.110000   515.300000          0.116600   \n",
              "50%        25.410000        97.660000   686.500000          0.131300   \n",
              "75%        29.720000       125.400000  1084.000000          0.146000   \n",
              "max        49.540000       251.200000  4254.000000          0.222600   \n",
              "\n",
              "       compactness_worst  concavity_worst  concave points_worst  \\\n",
              "count         569.000000       569.000000            569.000000   \n",
              "mean            0.254265         0.272188              0.114606   \n",
              "std             0.157336         0.208624              0.065732   \n",
              "min             0.027290         0.000000              0.000000   \n",
              "25%             0.147200         0.114500              0.064930   \n",
              "50%             0.211900         0.226700              0.099930   \n",
              "75%             0.339100         0.382900              0.161400   \n",
              "max             1.058000         1.252000              0.291000   \n",
              "\n",
              "       symmetry_worst  fractal_dimension_worst  \n",
              "count      569.000000               569.000000  \n",
              "mean         0.290076                 0.083946  \n",
              "std          0.061867                 0.018061  \n",
              "min          0.156500                 0.055040  \n",
              "25%          0.250400                 0.071460  \n",
              "50%          0.282200                 0.080040  \n",
              "75%          0.317900                 0.092080  \n",
              "max          0.663800                 0.207500  \n",
              "\n",
              "[8 rows x 30 columns]"
            ]
          },
          "execution_count": 11,
          "metadata": {},
          "output_type": "execute_result"
        }
      ],
      "source": [
        "data.describe()"
      ]
    },
    {
      "cell_type": "code",
      "execution_count": null,
      "id": "3be4d740",
      "metadata": {
        "id": "3be4d740"
      },
      "outputs": [],
      "source": [
        "### Correlation of features value"
      ]
    },
    {
      "cell_type": "code",
      "execution_count": null,
      "id": "774358b7",
      "metadata": {
        "id": "774358b7",
        "outputId": "deb7f74a-ff3a-4dc1-ca6e-37545a25ec7f"
      },
      "outputs": [
        {
          "data": {
            "text/html": [
              "<div>\n",
              "<style scoped>\n",
              "    .dataframe tbody tr th:only-of-type {\n",
              "        vertical-align: middle;\n",
              "    }\n",
              "\n",
              "    .dataframe tbody tr th {\n",
              "        vertical-align: top;\n",
              "    }\n",
              "\n",
              "    .dataframe thead th {\n",
              "        text-align: right;\n",
              "    }\n",
              "</style>\n",
              "<table border=\"1\" class=\"dataframe\">\n",
              "  <thead>\n",
              "    <tr style=\"text-align: right;\">\n",
              "      <th></th>\n",
              "      <th>radius_mean</th>\n",
              "      <th>texture_mean</th>\n",
              "      <th>perimeter_mean</th>\n",
              "      <th>area_mean</th>\n",
              "      <th>smoothness_mean</th>\n",
              "      <th>compactness_mean</th>\n",
              "      <th>concavity_mean</th>\n",
              "      <th>concave points_mean</th>\n",
              "      <th>symmetry_mean</th>\n",
              "      <th>fractal_dimension_mean</th>\n",
              "      <th>...</th>\n",
              "      <th>radius_worst</th>\n",
              "      <th>texture_worst</th>\n",
              "      <th>perimeter_worst</th>\n",
              "      <th>area_worst</th>\n",
              "      <th>smoothness_worst</th>\n",
              "      <th>compactness_worst</th>\n",
              "      <th>concavity_worst</th>\n",
              "      <th>concave points_worst</th>\n",
              "      <th>symmetry_worst</th>\n",
              "      <th>fractal_dimension_worst</th>\n",
              "    </tr>\n",
              "  </thead>\n",
              "  <tbody>\n",
              "    <tr>\n",
              "      <th>radius_mean</th>\n",
              "      <td>1.00</td>\n",
              "      <td>0.32</td>\n",
              "      <td>1.00</td>\n",
              "      <td>0.99</td>\n",
              "      <td>0.17</td>\n",
              "      <td>0.51</td>\n",
              "      <td>0.68</td>\n",
              "      <td>0.82</td>\n",
              "      <td>0.15</td>\n",
              "      <td>-0.31</td>\n",
              "      <td>...</td>\n",
              "      <td>0.97</td>\n",
              "      <td>0.30</td>\n",
              "      <td>0.97</td>\n",
              "      <td>0.94</td>\n",
              "      <td>0.12</td>\n",
              "      <td>0.41</td>\n",
              "      <td>0.53</td>\n",
              "      <td>0.74</td>\n",
              "      <td>0.16</td>\n",
              "      <td>0.01</td>\n",
              "    </tr>\n",
              "    <tr>\n",
              "      <th>texture_mean</th>\n",
              "      <td>0.32</td>\n",
              "      <td>1.00</td>\n",
              "      <td>0.33</td>\n",
              "      <td>0.32</td>\n",
              "      <td>-0.02</td>\n",
              "      <td>0.24</td>\n",
              "      <td>0.30</td>\n",
              "      <td>0.29</td>\n",
              "      <td>0.07</td>\n",
              "      <td>-0.08</td>\n",
              "      <td>...</td>\n",
              "      <td>0.35</td>\n",
              "      <td>0.91</td>\n",
              "      <td>0.36</td>\n",
              "      <td>0.34</td>\n",
              "      <td>0.08</td>\n",
              "      <td>0.28</td>\n",
              "      <td>0.30</td>\n",
              "      <td>0.30</td>\n",
              "      <td>0.11</td>\n",
              "      <td>0.12</td>\n",
              "    </tr>\n",
              "    <tr>\n",
              "      <th>perimeter_mean</th>\n",
              "      <td>1.00</td>\n",
              "      <td>0.33</td>\n",
              "      <td>1.00</td>\n",
              "      <td>0.99</td>\n",
              "      <td>0.21</td>\n",
              "      <td>0.56</td>\n",
              "      <td>0.72</td>\n",
              "      <td>0.85</td>\n",
              "      <td>0.18</td>\n",
              "      <td>-0.26</td>\n",
              "      <td>...</td>\n",
              "      <td>0.97</td>\n",
              "      <td>0.30</td>\n",
              "      <td>0.97</td>\n",
              "      <td>0.94</td>\n",
              "      <td>0.15</td>\n",
              "      <td>0.46</td>\n",
              "      <td>0.56</td>\n",
              "      <td>0.77</td>\n",
              "      <td>0.19</td>\n",
              "      <td>0.05</td>\n",
              "    </tr>\n",
              "    <tr>\n",
              "      <th>area_mean</th>\n",
              "      <td>0.99</td>\n",
              "      <td>0.32</td>\n",
              "      <td>0.99</td>\n",
              "      <td>1.00</td>\n",
              "      <td>0.18</td>\n",
              "      <td>0.50</td>\n",
              "      <td>0.69</td>\n",
              "      <td>0.82</td>\n",
              "      <td>0.15</td>\n",
              "      <td>-0.28</td>\n",
              "      <td>...</td>\n",
              "      <td>0.96</td>\n",
              "      <td>0.29</td>\n",
              "      <td>0.96</td>\n",
              "      <td>0.96</td>\n",
              "      <td>0.12</td>\n",
              "      <td>0.39</td>\n",
              "      <td>0.51</td>\n",
              "      <td>0.72</td>\n",
              "      <td>0.14</td>\n",
              "      <td>0.00</td>\n",
              "    </tr>\n",
              "    <tr>\n",
              "      <th>smoothness_mean</th>\n",
              "      <td>0.17</td>\n",
              "      <td>-0.02</td>\n",
              "      <td>0.21</td>\n",
              "      <td>0.18</td>\n",
              "      <td>1.00</td>\n",
              "      <td>0.66</td>\n",
              "      <td>0.52</td>\n",
              "      <td>0.55</td>\n",
              "      <td>0.56</td>\n",
              "      <td>0.58</td>\n",
              "      <td>...</td>\n",
              "      <td>0.21</td>\n",
              "      <td>0.04</td>\n",
              "      <td>0.24</td>\n",
              "      <td>0.21</td>\n",
              "      <td>0.81</td>\n",
              "      <td>0.47</td>\n",
              "      <td>0.43</td>\n",
              "      <td>0.50</td>\n",
              "      <td>0.39</td>\n",
              "      <td>0.50</td>\n",
              "    </tr>\n",
              "    <tr>\n",
              "      <th>compactness_mean</th>\n",
              "      <td>0.51</td>\n",
              "      <td>0.24</td>\n",
              "      <td>0.56</td>\n",
              "      <td>0.50</td>\n",
              "      <td>0.66</td>\n",
              "      <td>1.00</td>\n",
              "      <td>0.88</td>\n",
              "      <td>0.83</td>\n",
              "      <td>0.60</td>\n",
              "      <td>0.57</td>\n",
              "      <td>...</td>\n",
              "      <td>0.54</td>\n",
              "      <td>0.25</td>\n",
              "      <td>0.59</td>\n",
              "      <td>0.51</td>\n",
              "      <td>0.57</td>\n",
              "      <td>0.87</td>\n",
              "      <td>0.82</td>\n",
              "      <td>0.82</td>\n",
              "      <td>0.51</td>\n",
              "      <td>0.69</td>\n",
              "    </tr>\n",
              "    <tr>\n",
              "      <th>concavity_mean</th>\n",
              "      <td>0.68</td>\n",
              "      <td>0.30</td>\n",
              "      <td>0.72</td>\n",
              "      <td>0.69</td>\n",
              "      <td>0.52</td>\n",
              "      <td>0.88</td>\n",
              "      <td>1.00</td>\n",
              "      <td>0.92</td>\n",
              "      <td>0.50</td>\n",
              "      <td>0.34</td>\n",
              "      <td>...</td>\n",
              "      <td>0.69</td>\n",
              "      <td>0.30</td>\n",
              "      <td>0.73</td>\n",
              "      <td>0.68</td>\n",
              "      <td>0.45</td>\n",
              "      <td>0.75</td>\n",
              "      <td>0.88</td>\n",
              "      <td>0.86</td>\n",
              "      <td>0.41</td>\n",
              "      <td>0.51</td>\n",
              "    </tr>\n",
              "    <tr>\n",
              "      <th>concave points_mean</th>\n",
              "      <td>0.82</td>\n",
              "      <td>0.29</td>\n",
              "      <td>0.85</td>\n",
              "      <td>0.82</td>\n",
              "      <td>0.55</td>\n",
              "      <td>0.83</td>\n",
              "      <td>0.92</td>\n",
              "      <td>1.00</td>\n",
              "      <td>0.46</td>\n",
              "      <td>0.17</td>\n",
              "      <td>...</td>\n",
              "      <td>0.83</td>\n",
              "      <td>0.29</td>\n",
              "      <td>0.86</td>\n",
              "      <td>0.81</td>\n",
              "      <td>0.45</td>\n",
              "      <td>0.67</td>\n",
              "      <td>0.75</td>\n",
              "      <td>0.91</td>\n",
              "      <td>0.38</td>\n",
              "      <td>0.37</td>\n",
              "    </tr>\n",
              "    <tr>\n",
              "      <th>symmetry_mean</th>\n",
              "      <td>0.15</td>\n",
              "      <td>0.07</td>\n",
              "      <td>0.18</td>\n",
              "      <td>0.15</td>\n",
              "      <td>0.56</td>\n",
              "      <td>0.60</td>\n",
              "      <td>0.50</td>\n",
              "      <td>0.46</td>\n",
              "      <td>1.00</td>\n",
              "      <td>0.48</td>\n",
              "      <td>...</td>\n",
              "      <td>0.19</td>\n",
              "      <td>0.09</td>\n",
              "      <td>0.22</td>\n",
              "      <td>0.18</td>\n",
              "      <td>0.43</td>\n",
              "      <td>0.47</td>\n",
              "      <td>0.43</td>\n",
              "      <td>0.43</td>\n",
              "      <td>0.70</td>\n",
              "      <td>0.44</td>\n",
              "    </tr>\n",
              "    <tr>\n",
              "      <th>fractal_dimension_mean</th>\n",
              "      <td>-0.31</td>\n",
              "      <td>-0.08</td>\n",
              "      <td>-0.26</td>\n",
              "      <td>-0.28</td>\n",
              "      <td>0.58</td>\n",
              "      <td>0.57</td>\n",
              "      <td>0.34</td>\n",
              "      <td>0.17</td>\n",
              "      <td>0.48</td>\n",
              "      <td>1.00</td>\n",
              "      <td>...</td>\n",
              "      <td>-0.25</td>\n",
              "      <td>-0.05</td>\n",
              "      <td>-0.21</td>\n",
              "      <td>-0.23</td>\n",
              "      <td>0.50</td>\n",
              "      <td>0.46</td>\n",
              "      <td>0.35</td>\n",
              "      <td>0.18</td>\n",
              "      <td>0.33</td>\n",
              "      <td>0.77</td>\n",
              "    </tr>\n",
              "    <tr>\n",
              "      <th>radius_se</th>\n",
              "      <td>0.68</td>\n",
              "      <td>0.28</td>\n",
              "      <td>0.69</td>\n",
              "      <td>0.73</td>\n",
              "      <td>0.30</td>\n",
              "      <td>0.50</td>\n",
              "      <td>0.63</td>\n",
              "      <td>0.70</td>\n",
              "      <td>0.30</td>\n",
              "      <td>0.00</td>\n",
              "      <td>...</td>\n",
              "      <td>0.72</td>\n",
              "      <td>0.19</td>\n",
              "      <td>0.72</td>\n",
              "      <td>0.75</td>\n",
              "      <td>0.14</td>\n",
              "      <td>0.29</td>\n",
              "      <td>0.38</td>\n",
              "      <td>0.53</td>\n",
              "      <td>0.09</td>\n",
              "      <td>0.05</td>\n",
              "    </tr>\n",
              "    <tr>\n",
              "      <th>texture_se</th>\n",
              "      <td>-0.10</td>\n",
              "      <td>0.39</td>\n",
              "      <td>-0.09</td>\n",
              "      <td>-0.07</td>\n",
              "      <td>0.07</td>\n",
              "      <td>0.05</td>\n",
              "      <td>0.08</td>\n",
              "      <td>0.02</td>\n",
              "      <td>0.13</td>\n",
              "      <td>0.16</td>\n",
              "      <td>...</td>\n",
              "      <td>-0.11</td>\n",
              "      <td>0.41</td>\n",
              "      <td>-0.10</td>\n",
              "      <td>-0.08</td>\n",
              "      <td>-0.07</td>\n",
              "      <td>-0.09</td>\n",
              "      <td>-0.07</td>\n",
              "      <td>-0.12</td>\n",
              "      <td>-0.13</td>\n",
              "      <td>-0.05</td>\n",
              "    </tr>\n",
              "    <tr>\n",
              "      <th>perimeter_se</th>\n",
              "      <td>0.67</td>\n",
              "      <td>0.28</td>\n",
              "      <td>0.69</td>\n",
              "      <td>0.73</td>\n",
              "      <td>0.30</td>\n",
              "      <td>0.55</td>\n",
              "      <td>0.66</td>\n",
              "      <td>0.71</td>\n",
              "      <td>0.31</td>\n",
              "      <td>0.04</td>\n",
              "      <td>...</td>\n",
              "      <td>0.70</td>\n",
              "      <td>0.20</td>\n",
              "      <td>0.72</td>\n",
              "      <td>0.73</td>\n",
              "      <td>0.13</td>\n",
              "      <td>0.34</td>\n",
              "      <td>0.42</td>\n",
              "      <td>0.55</td>\n",
              "      <td>0.11</td>\n",
              "      <td>0.09</td>\n",
              "    </tr>\n",
              "    <tr>\n",
              "      <th>area_se</th>\n",
              "      <td>0.74</td>\n",
              "      <td>0.26</td>\n",
              "      <td>0.74</td>\n",
              "      <td>0.80</td>\n",
              "      <td>0.25</td>\n",
              "      <td>0.46</td>\n",
              "      <td>0.62</td>\n",
              "      <td>0.69</td>\n",
              "      <td>0.22</td>\n",
              "      <td>-0.09</td>\n",
              "      <td>...</td>\n",
              "      <td>0.76</td>\n",
              "      <td>0.20</td>\n",
              "      <td>0.76</td>\n",
              "      <td>0.81</td>\n",
              "      <td>0.13</td>\n",
              "      <td>0.28</td>\n",
              "      <td>0.39</td>\n",
              "      <td>0.54</td>\n",
              "      <td>0.07</td>\n",
              "      <td>0.02</td>\n",
              "    </tr>\n",
              "    <tr>\n",
              "      <th>smoothness_se</th>\n",
              "      <td>-0.22</td>\n",
              "      <td>0.01</td>\n",
              "      <td>-0.20</td>\n",
              "      <td>-0.17</td>\n",
              "      <td>0.33</td>\n",
              "      <td>0.14</td>\n",
              "      <td>0.10</td>\n",
              "      <td>0.03</td>\n",
              "      <td>0.19</td>\n",
              "      <td>0.40</td>\n",
              "      <td>...</td>\n",
              "      <td>-0.23</td>\n",
              "      <td>-0.07</td>\n",
              "      <td>-0.22</td>\n",
              "      <td>-0.18</td>\n",
              "      <td>0.31</td>\n",
              "      <td>-0.06</td>\n",
              "      <td>-0.06</td>\n",
              "      <td>-0.10</td>\n",
              "      <td>-0.11</td>\n",
              "      <td>0.10</td>\n",
              "    </tr>\n",
              "    <tr>\n",
              "      <th>compactness_se</th>\n",
              "      <td>0.21</td>\n",
              "      <td>0.19</td>\n",
              "      <td>0.25</td>\n",
              "      <td>0.21</td>\n",
              "      <td>0.32</td>\n",
              "      <td>0.74</td>\n",
              "      <td>0.67</td>\n",
              "      <td>0.49</td>\n",
              "      <td>0.42</td>\n",
              "      <td>0.56</td>\n",
              "      <td>...</td>\n",
              "      <td>0.20</td>\n",
              "      <td>0.14</td>\n",
              "      <td>0.26</td>\n",
              "      <td>0.20</td>\n",
              "      <td>0.23</td>\n",
              "      <td>0.68</td>\n",
              "      <td>0.64</td>\n",
              "      <td>0.48</td>\n",
              "      <td>0.28</td>\n",
              "      <td>0.59</td>\n",
              "    </tr>\n",
              "    <tr>\n",
              "      <th>concavity_se</th>\n",
              "      <td>0.19</td>\n",
              "      <td>0.14</td>\n",
              "      <td>0.23</td>\n",
              "      <td>0.21</td>\n",
              "      <td>0.25</td>\n",
              "      <td>0.57</td>\n",
              "      <td>0.69</td>\n",
              "      <td>0.44</td>\n",
              "      <td>0.34</td>\n",
              "      <td>0.45</td>\n",
              "      <td>...</td>\n",
              "      <td>0.19</td>\n",
              "      <td>0.10</td>\n",
              "      <td>0.23</td>\n",
              "      <td>0.19</td>\n",
              "      <td>0.17</td>\n",
              "      <td>0.48</td>\n",
              "      <td>0.66</td>\n",
              "      <td>0.44</td>\n",
              "      <td>0.20</td>\n",
              "      <td>0.44</td>\n",
              "    </tr>\n",
              "    <tr>\n",
              "      <th>concave points_se</th>\n",
              "      <td>0.38</td>\n",
              "      <td>0.16</td>\n",
              "      <td>0.41</td>\n",
              "      <td>0.37</td>\n",
              "      <td>0.38</td>\n",
              "      <td>0.64</td>\n",
              "      <td>0.68</td>\n",
              "      <td>0.62</td>\n",
              "      <td>0.39</td>\n",
              "      <td>0.34</td>\n",
              "      <td>...</td>\n",
              "      <td>0.36</td>\n",
              "      <td>0.09</td>\n",
              "      <td>0.39</td>\n",
              "      <td>0.34</td>\n",
              "      <td>0.22</td>\n",
              "      <td>0.45</td>\n",
              "      <td>0.55</td>\n",
              "      <td>0.60</td>\n",
              "      <td>0.14</td>\n",
              "      <td>0.31</td>\n",
              "    </tr>\n",
              "    <tr>\n",
              "      <th>symmetry_se</th>\n",
              "      <td>-0.10</td>\n",
              "      <td>0.01</td>\n",
              "      <td>-0.08</td>\n",
              "      <td>-0.07</td>\n",
              "      <td>0.20</td>\n",
              "      <td>0.23</td>\n",
              "      <td>0.18</td>\n",
              "      <td>0.10</td>\n",
              "      <td>0.45</td>\n",
              "      <td>0.35</td>\n",
              "      <td>...</td>\n",
              "      <td>-0.13</td>\n",
              "      <td>-0.08</td>\n",
              "      <td>-0.10</td>\n",
              "      <td>-0.11</td>\n",
              "      <td>-0.01</td>\n",
              "      <td>0.06</td>\n",
              "      <td>0.04</td>\n",
              "      <td>-0.03</td>\n",
              "      <td>0.39</td>\n",
              "      <td>0.08</td>\n",
              "    </tr>\n",
              "    <tr>\n",
              "      <th>fractal_dimension_se</th>\n",
              "      <td>-0.04</td>\n",
              "      <td>0.05</td>\n",
              "      <td>-0.01</td>\n",
              "      <td>-0.02</td>\n",
              "      <td>0.28</td>\n",
              "      <td>0.51</td>\n",
              "      <td>0.45</td>\n",
              "      <td>0.26</td>\n",
              "      <td>0.33</td>\n",
              "      <td>0.69</td>\n",
              "      <td>...</td>\n",
              "      <td>-0.04</td>\n",
              "      <td>-0.00</td>\n",
              "      <td>-0.00</td>\n",
              "      <td>-0.02</td>\n",
              "      <td>0.17</td>\n",
              "      <td>0.39</td>\n",
              "      <td>0.38</td>\n",
              "      <td>0.22</td>\n",
              "      <td>0.11</td>\n",
              "      <td>0.59</td>\n",
              "    </tr>\n",
              "    <tr>\n",
              "      <th>radius_worst</th>\n",
              "      <td>0.97</td>\n",
              "      <td>0.35</td>\n",
              "      <td>0.97</td>\n",
              "      <td>0.96</td>\n",
              "      <td>0.21</td>\n",
              "      <td>0.54</td>\n",
              "      <td>0.69</td>\n",
              "      <td>0.83</td>\n",
              "      <td>0.19</td>\n",
              "      <td>-0.25</td>\n",
              "      <td>...</td>\n",
              "      <td>1.00</td>\n",
              "      <td>0.36</td>\n",
              "      <td>0.99</td>\n",
              "      <td>0.98</td>\n",
              "      <td>0.22</td>\n",
              "      <td>0.48</td>\n",
              "      <td>0.57</td>\n",
              "      <td>0.79</td>\n",
              "      <td>0.24</td>\n",
              "      <td>0.09</td>\n",
              "    </tr>\n",
              "    <tr>\n",
              "      <th>texture_worst</th>\n",
              "      <td>0.30</td>\n",
              "      <td>0.91</td>\n",
              "      <td>0.30</td>\n",
              "      <td>0.29</td>\n",
              "      <td>0.04</td>\n",
              "      <td>0.25</td>\n",
              "      <td>0.30</td>\n",
              "      <td>0.29</td>\n",
              "      <td>0.09</td>\n",
              "      <td>-0.05</td>\n",
              "      <td>...</td>\n",
              "      <td>0.36</td>\n",
              "      <td>1.00</td>\n",
              "      <td>0.37</td>\n",
              "      <td>0.35</td>\n",
              "      <td>0.23</td>\n",
              "      <td>0.36</td>\n",
              "      <td>0.37</td>\n",
              "      <td>0.36</td>\n",
              "      <td>0.23</td>\n",
              "      <td>0.22</td>\n",
              "    </tr>\n",
              "    <tr>\n",
              "      <th>perimeter_worst</th>\n",
              "      <td>0.97</td>\n",
              "      <td>0.36</td>\n",
              "      <td>0.97</td>\n",
              "      <td>0.96</td>\n",
              "      <td>0.24</td>\n",
              "      <td>0.59</td>\n",
              "      <td>0.73</td>\n",
              "      <td>0.86</td>\n",
              "      <td>0.22</td>\n",
              "      <td>-0.21</td>\n",
              "      <td>...</td>\n",
              "      <td>0.99</td>\n",
              "      <td>0.37</td>\n",
              "      <td>1.00</td>\n",
              "      <td>0.98</td>\n",
              "      <td>0.24</td>\n",
              "      <td>0.53</td>\n",
              "      <td>0.62</td>\n",
              "      <td>0.82</td>\n",
              "      <td>0.27</td>\n",
              "      <td>0.14</td>\n",
              "    </tr>\n",
              "    <tr>\n",
              "      <th>area_worst</th>\n",
              "      <td>0.94</td>\n",
              "      <td>0.34</td>\n",
              "      <td>0.94</td>\n",
              "      <td>0.96</td>\n",
              "      <td>0.21</td>\n",
              "      <td>0.51</td>\n",
              "      <td>0.68</td>\n",
              "      <td>0.81</td>\n",
              "      <td>0.18</td>\n",
              "      <td>-0.23</td>\n",
              "      <td>...</td>\n",
              "      <td>0.98</td>\n",
              "      <td>0.35</td>\n",
              "      <td>0.98</td>\n",
              "      <td>1.00</td>\n",
              "      <td>0.21</td>\n",
              "      <td>0.44</td>\n",
              "      <td>0.54</td>\n",
              "      <td>0.75</td>\n",
              "      <td>0.21</td>\n",
              "      <td>0.08</td>\n",
              "    </tr>\n",
              "    <tr>\n",
              "      <th>smoothness_worst</th>\n",
              "      <td>0.12</td>\n",
              "      <td>0.08</td>\n",
              "      <td>0.15</td>\n",
              "      <td>0.12</td>\n",
              "      <td>0.81</td>\n",
              "      <td>0.57</td>\n",
              "      <td>0.45</td>\n",
              "      <td>0.45</td>\n",
              "      <td>0.43</td>\n",
              "      <td>0.50</td>\n",
              "      <td>...</td>\n",
              "      <td>0.22</td>\n",
              "      <td>0.23</td>\n",
              "      <td>0.24</td>\n",
              "      <td>0.21</td>\n",
              "      <td>1.00</td>\n",
              "      <td>0.57</td>\n",
              "      <td>0.52</td>\n",
              "      <td>0.55</td>\n",
              "      <td>0.49</td>\n",
              "      <td>0.62</td>\n",
              "    </tr>\n",
              "    <tr>\n",
              "      <th>compactness_worst</th>\n",
              "      <td>0.41</td>\n",
              "      <td>0.28</td>\n",
              "      <td>0.46</td>\n",
              "      <td>0.39</td>\n",
              "      <td>0.47</td>\n",
              "      <td>0.87</td>\n",
              "      <td>0.75</td>\n",
              "      <td>0.67</td>\n",
              "      <td>0.47</td>\n",
              "      <td>0.46</td>\n",
              "      <td>...</td>\n",
              "      <td>0.48</td>\n",
              "      <td>0.36</td>\n",
              "      <td>0.53</td>\n",
              "      <td>0.44</td>\n",
              "      <td>0.57</td>\n",
              "      <td>1.00</td>\n",
              "      <td>0.89</td>\n",
              "      <td>0.80</td>\n",
              "      <td>0.61</td>\n",
              "      <td>0.81</td>\n",
              "    </tr>\n",
              "    <tr>\n",
              "      <th>concavity_worst</th>\n",
              "      <td>0.53</td>\n",
              "      <td>0.30</td>\n",
              "      <td>0.56</td>\n",
              "      <td>0.51</td>\n",
              "      <td>0.43</td>\n",
              "      <td>0.82</td>\n",
              "      <td>0.88</td>\n",
              "      <td>0.75</td>\n",
              "      <td>0.43</td>\n",
              "      <td>0.35</td>\n",
              "      <td>...</td>\n",
              "      <td>0.57</td>\n",
              "      <td>0.37</td>\n",
              "      <td>0.62</td>\n",
              "      <td>0.54</td>\n",
              "      <td>0.52</td>\n",
              "      <td>0.89</td>\n",
              "      <td>1.00</td>\n",
              "      <td>0.86</td>\n",
              "      <td>0.53</td>\n",
              "      <td>0.69</td>\n",
              "    </tr>\n",
              "    <tr>\n",
              "      <th>concave points_worst</th>\n",
              "      <td>0.74</td>\n",
              "      <td>0.30</td>\n",
              "      <td>0.77</td>\n",
              "      <td>0.72</td>\n",
              "      <td>0.50</td>\n",
              "      <td>0.82</td>\n",
              "      <td>0.86</td>\n",
              "      <td>0.91</td>\n",
              "      <td>0.43</td>\n",
              "      <td>0.18</td>\n",
              "      <td>...</td>\n",
              "      <td>0.79</td>\n",
              "      <td>0.36</td>\n",
              "      <td>0.82</td>\n",
              "      <td>0.75</td>\n",
              "      <td>0.55</td>\n",
              "      <td>0.80</td>\n",
              "      <td>0.86</td>\n",
              "      <td>1.00</td>\n",
              "      <td>0.50</td>\n",
              "      <td>0.51</td>\n",
              "    </tr>\n",
              "    <tr>\n",
              "      <th>symmetry_worst</th>\n",
              "      <td>0.16</td>\n",
              "      <td>0.11</td>\n",
              "      <td>0.19</td>\n",
              "      <td>0.14</td>\n",
              "      <td>0.39</td>\n",
              "      <td>0.51</td>\n",
              "      <td>0.41</td>\n",
              "      <td>0.38</td>\n",
              "      <td>0.70</td>\n",
              "      <td>0.33</td>\n",
              "      <td>...</td>\n",
              "      <td>0.24</td>\n",
              "      <td>0.23</td>\n",
              "      <td>0.27</td>\n",
              "      <td>0.21</td>\n",
              "      <td>0.49</td>\n",
              "      <td>0.61</td>\n",
              "      <td>0.53</td>\n",
              "      <td>0.50</td>\n",
              "      <td>1.00</td>\n",
              "      <td>0.54</td>\n",
              "    </tr>\n",
              "    <tr>\n",
              "      <th>fractal_dimension_worst</th>\n",
              "      <td>0.01</td>\n",
              "      <td>0.12</td>\n",
              "      <td>0.05</td>\n",
              "      <td>0.00</td>\n",
              "      <td>0.50</td>\n",
              "      <td>0.69</td>\n",
              "      <td>0.51</td>\n",
              "      <td>0.37</td>\n",
              "      <td>0.44</td>\n",
              "      <td>0.77</td>\n",
              "      <td>...</td>\n",
              "      <td>0.09</td>\n",
              "      <td>0.22</td>\n",
              "      <td>0.14</td>\n",
              "      <td>0.08</td>\n",
              "      <td>0.62</td>\n",
              "      <td>0.81</td>\n",
              "      <td>0.69</td>\n",
              "      <td>0.51</td>\n",
              "      <td>0.54</td>\n",
              "      <td>1.00</td>\n",
              "    </tr>\n",
              "  </tbody>\n",
              "</table>\n",
              "<p>30 rows × 30 columns</p>\n",
              "</div>"
            ],
            "text/plain": [
              "                         radius_mean  texture_mean  perimeter_mean  area_mean  \\\n",
              "radius_mean                     1.00          0.32            1.00       0.99   \n",
              "texture_mean                    0.32          1.00            0.33       0.32   \n",
              "perimeter_mean                  1.00          0.33            1.00       0.99   \n",
              "area_mean                       0.99          0.32            0.99       1.00   \n",
              "smoothness_mean                 0.17         -0.02            0.21       0.18   \n",
              "compactness_mean                0.51          0.24            0.56       0.50   \n",
              "concavity_mean                  0.68          0.30            0.72       0.69   \n",
              "concave points_mean             0.82          0.29            0.85       0.82   \n",
              "symmetry_mean                   0.15          0.07            0.18       0.15   \n",
              "fractal_dimension_mean         -0.31         -0.08           -0.26      -0.28   \n",
              "radius_se                       0.68          0.28            0.69       0.73   \n",
              "texture_se                     -0.10          0.39           -0.09      -0.07   \n",
              "perimeter_se                    0.67          0.28            0.69       0.73   \n",
              "area_se                         0.74          0.26            0.74       0.80   \n",
              "smoothness_se                  -0.22          0.01           -0.20      -0.17   \n",
              "compactness_se                  0.21          0.19            0.25       0.21   \n",
              "concavity_se                    0.19          0.14            0.23       0.21   \n",
              "concave points_se               0.38          0.16            0.41       0.37   \n",
              "symmetry_se                    -0.10          0.01           -0.08      -0.07   \n",
              "fractal_dimension_se           -0.04          0.05           -0.01      -0.02   \n",
              "radius_worst                    0.97          0.35            0.97       0.96   \n",
              "texture_worst                   0.30          0.91            0.30       0.29   \n",
              "perimeter_worst                 0.97          0.36            0.97       0.96   \n",
              "area_worst                      0.94          0.34            0.94       0.96   \n",
              "smoothness_worst                0.12          0.08            0.15       0.12   \n",
              "compactness_worst               0.41          0.28            0.46       0.39   \n",
              "concavity_worst                 0.53          0.30            0.56       0.51   \n",
              "concave points_worst            0.74          0.30            0.77       0.72   \n",
              "symmetry_worst                  0.16          0.11            0.19       0.14   \n",
              "fractal_dimension_worst         0.01          0.12            0.05       0.00   \n",
              "\n",
              "                         smoothness_mean  compactness_mean  concavity_mean  \\\n",
              "radius_mean                         0.17              0.51            0.68   \n",
              "texture_mean                       -0.02              0.24            0.30   \n",
              "perimeter_mean                      0.21              0.56            0.72   \n",
              "area_mean                           0.18              0.50            0.69   \n",
              "smoothness_mean                     1.00              0.66            0.52   \n",
              "compactness_mean                    0.66              1.00            0.88   \n",
              "concavity_mean                      0.52              0.88            1.00   \n",
              "concave points_mean                 0.55              0.83            0.92   \n",
              "symmetry_mean                       0.56              0.60            0.50   \n",
              "fractal_dimension_mean              0.58              0.57            0.34   \n",
              "radius_se                           0.30              0.50            0.63   \n",
              "texture_se                          0.07              0.05            0.08   \n",
              "perimeter_se                        0.30              0.55            0.66   \n",
              "area_se                             0.25              0.46            0.62   \n",
              "smoothness_se                       0.33              0.14            0.10   \n",
              "compactness_se                      0.32              0.74            0.67   \n",
              "concavity_se                        0.25              0.57            0.69   \n",
              "concave points_se                   0.38              0.64            0.68   \n",
              "symmetry_se                         0.20              0.23            0.18   \n",
              "fractal_dimension_se                0.28              0.51            0.45   \n",
              "radius_worst                        0.21              0.54            0.69   \n",
              "texture_worst                       0.04              0.25            0.30   \n",
              "perimeter_worst                     0.24              0.59            0.73   \n",
              "area_worst                          0.21              0.51            0.68   \n",
              "smoothness_worst                    0.81              0.57            0.45   \n",
              "compactness_worst                   0.47              0.87            0.75   \n",
              "concavity_worst                     0.43              0.82            0.88   \n",
              "concave points_worst                0.50              0.82            0.86   \n",
              "symmetry_worst                      0.39              0.51            0.41   \n",
              "fractal_dimension_worst             0.50              0.69            0.51   \n",
              "\n",
              "                         concave points_mean  symmetry_mean  \\\n",
              "radius_mean                             0.82           0.15   \n",
              "texture_mean                            0.29           0.07   \n",
              "perimeter_mean                          0.85           0.18   \n",
              "area_mean                               0.82           0.15   \n",
              "smoothness_mean                         0.55           0.56   \n",
              "compactness_mean                        0.83           0.60   \n",
              "concavity_mean                          0.92           0.50   \n",
              "concave points_mean                     1.00           0.46   \n",
              "symmetry_mean                           0.46           1.00   \n",
              "fractal_dimension_mean                  0.17           0.48   \n",
              "radius_se                               0.70           0.30   \n",
              "texture_se                              0.02           0.13   \n",
              "perimeter_se                            0.71           0.31   \n",
              "area_se                                 0.69           0.22   \n",
              "smoothness_se                           0.03           0.19   \n",
              "compactness_se                          0.49           0.42   \n",
              "concavity_se                            0.44           0.34   \n",
              "concave points_se                       0.62           0.39   \n",
              "symmetry_se                             0.10           0.45   \n",
              "fractal_dimension_se                    0.26           0.33   \n",
              "radius_worst                            0.83           0.19   \n",
              "texture_worst                           0.29           0.09   \n",
              "perimeter_worst                         0.86           0.22   \n",
              "area_worst                              0.81           0.18   \n",
              "smoothness_worst                        0.45           0.43   \n",
              "compactness_worst                       0.67           0.47   \n",
              "concavity_worst                         0.75           0.43   \n",
              "concave points_worst                    0.91           0.43   \n",
              "symmetry_worst                          0.38           0.70   \n",
              "fractal_dimension_worst                 0.37           0.44   \n",
              "\n",
              "                         fractal_dimension_mean  ...  radius_worst  \\\n",
              "radius_mean                               -0.31  ...          0.97   \n",
              "texture_mean                              -0.08  ...          0.35   \n",
              "perimeter_mean                            -0.26  ...          0.97   \n",
              "area_mean                                 -0.28  ...          0.96   \n",
              "smoothness_mean                            0.58  ...          0.21   \n",
              "compactness_mean                           0.57  ...          0.54   \n",
              "concavity_mean                             0.34  ...          0.69   \n",
              "concave points_mean                        0.17  ...          0.83   \n",
              "symmetry_mean                              0.48  ...          0.19   \n",
              "fractal_dimension_mean                     1.00  ...         -0.25   \n",
              "radius_se                                  0.00  ...          0.72   \n",
              "texture_se                                 0.16  ...         -0.11   \n",
              "perimeter_se                               0.04  ...          0.70   \n",
              "area_se                                   -0.09  ...          0.76   \n",
              "smoothness_se                              0.40  ...         -0.23   \n",
              "compactness_se                             0.56  ...          0.20   \n",
              "concavity_se                               0.45  ...          0.19   \n",
              "concave points_se                          0.34  ...          0.36   \n",
              "symmetry_se                                0.35  ...         -0.13   \n",
              "fractal_dimension_se                       0.69  ...         -0.04   \n",
              "radius_worst                              -0.25  ...          1.00   \n",
              "texture_worst                             -0.05  ...          0.36   \n",
              "perimeter_worst                           -0.21  ...          0.99   \n",
              "area_worst                                -0.23  ...          0.98   \n",
              "smoothness_worst                           0.50  ...          0.22   \n",
              "compactness_worst                          0.46  ...          0.48   \n",
              "concavity_worst                            0.35  ...          0.57   \n",
              "concave points_worst                       0.18  ...          0.79   \n",
              "symmetry_worst                             0.33  ...          0.24   \n",
              "fractal_dimension_worst                    0.77  ...          0.09   \n",
              "\n",
              "                         texture_worst  perimeter_worst  area_worst  \\\n",
              "radius_mean                       0.30             0.97        0.94   \n",
              "texture_mean                      0.91             0.36        0.34   \n",
              "perimeter_mean                    0.30             0.97        0.94   \n",
              "area_mean                         0.29             0.96        0.96   \n",
              "smoothness_mean                   0.04             0.24        0.21   \n",
              "compactness_mean                  0.25             0.59        0.51   \n",
              "concavity_mean                    0.30             0.73        0.68   \n",
              "concave points_mean               0.29             0.86        0.81   \n",
              "symmetry_mean                     0.09             0.22        0.18   \n",
              "fractal_dimension_mean           -0.05            -0.21       -0.23   \n",
              "radius_se                         0.19             0.72        0.75   \n",
              "texture_se                        0.41            -0.10       -0.08   \n",
              "perimeter_se                      0.20             0.72        0.73   \n",
              "area_se                           0.20             0.76        0.81   \n",
              "smoothness_se                    -0.07            -0.22       -0.18   \n",
              "compactness_se                    0.14             0.26        0.20   \n",
              "concavity_se                      0.10             0.23        0.19   \n",
              "concave points_se                 0.09             0.39        0.34   \n",
              "symmetry_se                      -0.08            -0.10       -0.11   \n",
              "fractal_dimension_se             -0.00            -0.00       -0.02   \n",
              "radius_worst                      0.36             0.99        0.98   \n",
              "texture_worst                     1.00             0.37        0.35   \n",
              "perimeter_worst                   0.37             1.00        0.98   \n",
              "area_worst                        0.35             0.98        1.00   \n",
              "smoothness_worst                  0.23             0.24        0.21   \n",
              "compactness_worst                 0.36             0.53        0.44   \n",
              "concavity_worst                   0.37             0.62        0.54   \n",
              "concave points_worst              0.36             0.82        0.75   \n",
              "symmetry_worst                    0.23             0.27        0.21   \n",
              "fractal_dimension_worst           0.22             0.14        0.08   \n",
              "\n",
              "                         smoothness_worst  compactness_worst  concavity_worst  \\\n",
              "radius_mean                          0.12               0.41             0.53   \n",
              "texture_mean                         0.08               0.28             0.30   \n",
              "perimeter_mean                       0.15               0.46             0.56   \n",
              "area_mean                            0.12               0.39             0.51   \n",
              "smoothness_mean                      0.81               0.47             0.43   \n",
              "compactness_mean                     0.57               0.87             0.82   \n",
              "concavity_mean                       0.45               0.75             0.88   \n",
              "concave points_mean                  0.45               0.67             0.75   \n",
              "symmetry_mean                        0.43               0.47             0.43   \n",
              "fractal_dimension_mean               0.50               0.46             0.35   \n",
              "radius_se                            0.14               0.29             0.38   \n",
              "texture_se                          -0.07              -0.09            -0.07   \n",
              "perimeter_se                         0.13               0.34             0.42   \n",
              "area_se                              0.13               0.28             0.39   \n",
              "smoothness_se                        0.31              -0.06            -0.06   \n",
              "compactness_se                       0.23               0.68             0.64   \n",
              "concavity_se                         0.17               0.48             0.66   \n",
              "concave points_se                    0.22               0.45             0.55   \n",
              "symmetry_se                         -0.01               0.06             0.04   \n",
              "fractal_dimension_se                 0.17               0.39             0.38   \n",
              "radius_worst                         0.22               0.48             0.57   \n",
              "texture_worst                        0.23               0.36             0.37   \n",
              "perimeter_worst                      0.24               0.53             0.62   \n",
              "area_worst                           0.21               0.44             0.54   \n",
              "smoothness_worst                     1.00               0.57             0.52   \n",
              "compactness_worst                    0.57               1.00             0.89   \n",
              "concavity_worst                      0.52               0.89             1.00   \n",
              "concave points_worst                 0.55               0.80             0.86   \n",
              "symmetry_worst                       0.49               0.61             0.53   \n",
              "fractal_dimension_worst              0.62               0.81             0.69   \n",
              "\n",
              "                         concave points_worst  symmetry_worst  \\\n",
              "radius_mean                              0.74            0.16   \n",
              "texture_mean                             0.30            0.11   \n",
              "perimeter_mean                           0.77            0.19   \n",
              "area_mean                                0.72            0.14   \n",
              "smoothness_mean                          0.50            0.39   \n",
              "compactness_mean                         0.82            0.51   \n",
              "concavity_mean                           0.86            0.41   \n",
              "concave points_mean                      0.91            0.38   \n",
              "symmetry_mean                            0.43            0.70   \n",
              "fractal_dimension_mean                   0.18            0.33   \n",
              "radius_se                                0.53            0.09   \n",
              "texture_se                              -0.12           -0.13   \n",
              "perimeter_se                             0.55            0.11   \n",
              "area_se                                  0.54            0.07   \n",
              "smoothness_se                           -0.10           -0.11   \n",
              "compactness_se                           0.48            0.28   \n",
              "concavity_se                             0.44            0.20   \n",
              "concave points_se                        0.60            0.14   \n",
              "symmetry_se                             -0.03            0.39   \n",
              "fractal_dimension_se                     0.22            0.11   \n",
              "radius_worst                             0.79            0.24   \n",
              "texture_worst                            0.36            0.23   \n",
              "perimeter_worst                          0.82            0.27   \n",
              "area_worst                               0.75            0.21   \n",
              "smoothness_worst                         0.55            0.49   \n",
              "compactness_worst                        0.80            0.61   \n",
              "concavity_worst                          0.86            0.53   \n",
              "concave points_worst                     1.00            0.50   \n",
              "symmetry_worst                           0.50            1.00   \n",
              "fractal_dimension_worst                  0.51            0.54   \n",
              "\n",
              "                         fractal_dimension_worst  \n",
              "radius_mean                                 0.01  \n",
              "texture_mean                                0.12  \n",
              "perimeter_mean                              0.05  \n",
              "area_mean                                   0.00  \n",
              "smoothness_mean                             0.50  \n",
              "compactness_mean                            0.69  \n",
              "concavity_mean                              0.51  \n",
              "concave points_mean                         0.37  \n",
              "symmetry_mean                               0.44  \n",
              "fractal_dimension_mean                      0.77  \n",
              "radius_se                                   0.05  \n",
              "texture_se                                 -0.05  \n",
              "perimeter_se                                0.09  \n",
              "area_se                                     0.02  \n",
              "smoothness_se                               0.10  \n",
              "compactness_se                              0.59  \n",
              "concavity_se                                0.44  \n",
              "concave points_se                           0.31  \n",
              "symmetry_se                                 0.08  \n",
              "fractal_dimension_se                        0.59  \n",
              "radius_worst                                0.09  \n",
              "texture_worst                               0.22  \n",
              "perimeter_worst                             0.14  \n",
              "area_worst                                  0.08  \n",
              "smoothness_worst                            0.62  \n",
              "compactness_worst                           0.81  \n",
              "concavity_worst                             0.69  \n",
              "concave points_worst                        0.51  \n",
              "symmetry_worst                              0.54  \n",
              "fractal_dimension_worst                     1.00  \n",
              "\n",
              "[30 rows x 30 columns]"
            ]
          },
          "execution_count": 13,
          "metadata": {},
          "output_type": "execute_result"
        }
      ],
      "source": [
        "cormat = data.corr()\n",
        "round(cormat,2)"
      ]
    },
    {
      "cell_type": "code",
      "execution_count": null,
      "id": "be10e107",
      "metadata": {
        "id": "be10e107",
        "outputId": "66f891b9-9c0e-4028-990f-98b267b99daa"
      },
      "outputs": [
        {
          "data": {
            "text/plain": [
              "<AxesSubplot:>"
            ]
          },
          "execution_count": 14,
          "metadata": {},
          "output_type": "execute_result"
        },
        {
          "data": {
            "image/png": "[encoded data removed]",
            "text/plain": [
              "<Figure size 1080x720 with 2 Axes>"
            ]
          },
          "metadata": {
            "needs_background": "light"
          },
          "output_type": "display_data"
        }
      ],
      "source": [
        "import seaborn as sns\n",
        "\n",
        "#specify size of heatmap\n",
        "fig, ax = plt.subplots(figsize=(15, 10))\n",
        "\n",
        "#create seaborn heatmap\n",
        "sns.heatmap(cormat)\n"
      ]
    },
    {
      "cell_type": "markdown",
      "id": "cfd0c1ff",
      "metadata": {
        "id": "cfd0c1ff"
      },
      "source": [
        "#### listing the features whose correlation value is more than .8 or is almost linear"
      ]
    },
    {
      "cell_type": "code",
      "execution_count": null,
      "id": "01d6b9bd",
      "metadata": {
        "id": "01d6b9bd",
        "outputId": "753a2180-8237-4a08-d681-7833b961042f"
      },
      "outputs": [
        {
          "name": "stdout",
          "output_type": "stream",
          "text": [
            "feature_pair ('perimeter_mean', 'radius_mean') 0.9978552814938109\n",
            "\n",
            "\n",
            "feature_pair ('area_mean', 'radius_mean') 0.9873571700566127\n",
            "\n",
            "\n",
            "feature_pair ('area_mean', 'perimeter_mean') 0.9865068039913907\n",
            "\n",
            "\n",
            "feature_pair ('concavity_mean', 'compactness_mean') 0.8831206701772507\n",
            "\n",
            "\n",
            "feature_pair ('concave points_mean', 'radius_mean') 0.8225285223871786\n",
            "\n",
            "\n",
            "feature_pair ('concave points_mean', 'perimeter_mean') 0.8509770412528191\n",
            "\n",
            "\n",
            "feature_pair ('concave points_mean', 'area_mean') 0.8232688686524342\n",
            "\n",
            "\n",
            "feature_pair ('concave points_mean', 'compactness_mean') 0.831135043133698\n",
            "\n",
            "\n",
            "feature_pair ('concave points_mean', 'concavity_mean') 0.9213910263788588\n",
            "\n",
            "\n",
            "feature_pair ('perimeter_se', 'radius_se') 0.9727936770160764\n",
            "\n",
            "\n",
            "feature_pair ('area_se', 'area_mean') 0.8000859212343201\n",
            "\n",
            "\n",
            "feature_pair ('area_se', 'radius_se') 0.951830112110991\n",
            "\n",
            "\n",
            "feature_pair ('area_se', 'perimeter_se') 0.9376554069544157\n",
            "\n",
            "\n",
            "feature_pair ('concavity_se', 'compactness_se') 0.8012683427383291\n",
            "\n",
            "\n",
            "feature_pair ('fractal_dimension_se', 'compactness_se') 0.8032688176617679\n",
            "\n",
            "\n",
            "feature_pair ('radius_worst', 'radius_mean') 0.9695389726112055\n",
            "\n",
            "\n",
            "feature_pair ('radius_worst', 'perimeter_mean') 0.9694763634663146\n",
            "\n",
            "\n",
            "feature_pair ('radius_worst', 'area_mean') 0.9627460860470841\n",
            "\n",
            "\n",
            "feature_pair ('radius_worst', 'concave points_mean') 0.8303176311186159\n",
            "\n",
            "\n",
            "feature_pair ('texture_worst', 'texture_mean') 0.912044588840421\n",
            "\n",
            "\n",
            "feature_pair ('perimeter_worst', 'radius_mean') 0.9651365139559871\n",
            "\n",
            "\n",
            "feature_pair ('perimeter_worst', 'perimeter_mean') 0.9703868870426394\n",
            "\n",
            "\n",
            "feature_pair ('perimeter_worst', 'area_mean') 0.9591195743552645\n",
            "\n",
            "\n",
            "feature_pair ('perimeter_worst', 'concave points_mean') 0.8559231281343119\n",
            "\n",
            "\n",
            "feature_pair ('perimeter_worst', 'radius_worst') 0.993707916102949\n",
            "\n",
            "\n",
            "feature_pair ('area_worst', 'radius_mean') 0.9410824595860461\n",
            "\n",
            "\n",
            "feature_pair ('area_worst', 'perimeter_mean') 0.9415498080023068\n",
            "\n",
            "\n",
            "feature_pair ('area_worst', 'area_mean') 0.9592133256498998\n",
            "\n",
            "\n",
            "feature_pair ('area_worst', 'concave points_mean') 0.809629619909618\n",
            "\n",
            "\n",
            "feature_pair ('area_worst', 'area_se') 0.8114079609317274\n",
            "\n",
            "\n",
            "feature_pair ('area_worst', 'radius_worst') 0.9840145644590742\n",
            "\n",
            "\n",
            "feature_pair ('area_worst', 'perimeter_worst') 0.9775780914063871\n",
            "\n",
            "\n",
            "feature_pair ('smoothness_worst', 'smoothness_mean') 0.8053241954943627\n",
            "\n",
            "\n",
            "feature_pair ('compactness_worst', 'compactness_mean') 0.8658090398022629\n",
            "\n",
            "\n",
            "feature_pair ('concavity_worst', 'compactness_mean') 0.8162752498000281\n",
            "\n",
            "\n",
            "feature_pair ('concavity_worst', 'concavity_mean') 0.8841026390943817\n",
            "\n",
            "\n",
            "feature_pair ('concavity_worst', 'compactness_worst') 0.8922608987764685\n",
            "\n",
            "\n",
            "feature_pair ('concave points_worst', 'compactness_mean') 0.8155732235690644\n",
            "\n",
            "\n",
            "feature_pair ('concave points_worst', 'concavity_mean') 0.861323033637951\n",
            "\n",
            "\n",
            "feature_pair ('concave points_worst', 'concave points_mean') 0.9101553142985918\n",
            "\n",
            "\n",
            "feature_pair ('concave points_worst', 'perimeter_worst') 0.8163221016875439\n",
            "\n",
            "\n",
            "feature_pair ('concave points_worst', 'compactness_worst') 0.8010803646352528\n",
            "\n",
            "\n",
            "feature_pair ('concave points_worst', 'concavity_worst') 0.8554338603439982\n",
            "\n",
            "\n",
            "feature_pair ('fractal_dimension_worst', 'compactness_worst') 0.8104548563116117\n",
            "\n",
            "\n"
          ]
        }
      ],
      "source": [
        "highly_corr_features = []\n",
        "# iterate over the correlation matrix and identify highly correlated feature pairs\n",
        "for i in range(len(cormat.columns)):\n",
        "    for j in range(i):\n",
        "        if abs(cormat.iloc[i, j]) > 0.8:\n",
        "            feature_pair = (cormat.columns[i], cormat.columns[j])\n",
        "            highly_corr_features.append(feature_pair)\n",
        "            print('feature_pair', feature_pair, cormat.iloc[i, j])\n",
        "            print('\\n')\n"
      ]
    },
    {
      "cell_type": "markdown",
      "id": "2276d638",
      "metadata": {
        "id": "2276d638"
      },
      "source": [
        "### Descriptive Features and Target Variable"
      ]
    },
    {
      "cell_type": "code",
      "execution_count": null,
      "id": "74f32068",
      "metadata": {
        "id": "74f32068"
      },
      "outputs": [],
      "source": [
        "df = data;\n",
        "\n",
        "# Split data into features and target variable\n",
        "X=df.iloc[:,1:]\n",
        "y= df.iloc[:,0]"
      ]
    },
    {
      "cell_type": "code",
      "execution_count": null,
      "id": "1bf1473f",
      "metadata": {
        "id": "1bf1473f",
        "outputId": "65db8d6b-f6e1-4329-de5f-8aab5de74b8a"
      },
      "outputs": [
        {
          "data": {
            "text/plain": [
              "((569, 30), (569,))"
            ]
          },
          "execution_count": 17,
          "metadata": {},
          "output_type": "execute_result"
        }
      ],
      "source": [
        "X.shape, y.shape"
      ]
    },
    {
      "cell_type": "markdown",
      "id": "68184358",
      "metadata": {
        "id": "68184358"
      },
      "source": [
        "### Encoding the Target Variable as target variable value in string format 'M' and 'B'"
      ]
    },
    {
      "cell_type": "code",
      "execution_count": null,
      "id": "9579c6f4",
      "metadata": {
        "id": "9579c6f4"
      },
      "outputs": [],
      "source": [
        "from sklearn.preprocessing import LabelEncoder\n",
        "\n",
        "encoder = LabelEncoder()\n",
        "encoder.fit(y)\n",
        "y_encoded= encoder.transform(y)\n"
      ]
    },
    {
      "cell_type": "markdown",
      "id": "8191a631",
      "metadata": {
        "id": "8191a631"
      },
      "source": [
        "### Data Normalisation"
      ]
    },
    {
      "cell_type": "code",
      "execution_count": null,
      "id": "8db52336",
      "metadata": {
        "id": "8db52336"
      },
      "outputs": [],
      "source": [
        "# Normalizing the value using min max scaler \n",
        "from sklearn.preprocessing import MinMaxScaler\n",
        "scaler = MinMaxScaler()\n",
        "X_scaled= scaler.fit_transform(X)\n"
      ]
    },
    {
      "cell_type": "markdown",
      "id": "43ce3375",
      "metadata": {
        "id": "43ce3375"
      },
      "source": [
        "## 1. (a) Use “from sklearn.tree import DecisionTreeClassifier”."
      ]
    },
    {
      "cell_type": "code",
      "execution_count": null,
      "id": "200d10e6",
      "metadata": {
        "id": "200d10e6"
      },
      "outputs": [],
      "source": [
        "from sklearn.model_selection import train_test_split\n",
        "\n",
        "\n",
        "# Split data into training and testing sets as given in requirement 70% for training and 30 % for testing\n",
        "X_train, X_test, y_train, y_test = train_test_split(X_scaled, y_encoded, train_size= 0.7, test_size=0.3, random_state=42)\n"
      ]
    },
    {
      "cell_type": "markdown",
      "id": "4f9a7a03",
      "metadata": {
        "id": "4f9a7a03"
      },
      "source": [
        "## Train a DT classifier with Entropy (C1) and GINI (C2) and compare the performance."
      ]
    },
    {
      "cell_type": "markdown",
      "id": "e8823250",
      "metadata": {
        "id": "e8823250"
      },
      "source": [
        "### Decision tree with Entropy"
      ]
    },
    {
      "cell_type": "code",
      "execution_count": null,
      "id": "52053917",
      "metadata": {
        "id": "52053917",
        "outputId": "8c73de0f-4896-4fcd-a14e-ef40c39d2c0c"
      },
      "outputs": [
        {
          "data": {
            "text/plain": [
              "DecisionTreeClassifier(criterion='entropy')"
            ]
          },
          "execution_count": 21,
          "metadata": {},
          "output_type": "execute_result"
        }
      ],
      "source": [
        "from sklearn.tree import DecisionTreeClassifier\n",
        "\n",
        "# Train a Decision Tree classifier with Entropy (C1)\n",
        "tree1 = DecisionTreeClassifier(criterion='entropy')\n",
        "tree1.fit(X_train, y_train)"
      ]
    },
    {
      "cell_type": "markdown",
      "id": "7861147d",
      "metadata": {
        "id": "7861147d"
      },
      "source": [
        "### Decision tree with GINI"
      ]
    },
    {
      "cell_type": "code",
      "execution_count": null,
      "id": "131f0da1",
      "metadata": {
        "id": "131f0da1",
        "outputId": "9f65f2ae-d514-448d-a3b2-96b4f033c76e"
      },
      "outputs": [
        {
          "data": {
            "text/plain": [
              "DecisionTreeClassifier()"
            ]
          },
          "execution_count": 22,
          "metadata": {},
          "output_type": "execute_result"
        }
      ],
      "source": [
        "# Train a Decision Tree classifier with GINI (C2)\n",
        "tree2 = DecisionTreeClassifier(criterion='gini')\n",
        "tree2.fit(X_train, y_train)"
      ]
    },
    {
      "cell_type": "code",
      "execution_count": null,
      "id": "10d5ecb4",
      "metadata": {
        "id": "10d5ecb4",
        "outputId": "bfe1ab49-edf1-43fd-9ae3-5f343837fe35"
      },
      "outputs": [
        {
          "name": "stdout",
          "output_type": "stream",
          "text": [
            "precision_score of C1 (entropy): 0.9661016949152542\n",
            "precision_score of C2 (gini): 0.8676470588235294\n",
            "----------------------\n",
            "recall_score of C1 (entropy): 0.9047619047619048\n",
            "recall_score of C2 (gini): 0.9365079365079365\n",
            "----------------------\n",
            "f1_score of C1 (entropy): 0.9344262295081968\n",
            "f1_score of C2 (gini): 0.9007633587786259\n",
            "----------------------\n",
            "accuracy_score of C1 (entropy): 0.9532163742690059\n",
            "accuracy_score of C2 (gini): 0.9239766081871345\n"
          ]
        }
      ],
      "source": [
        "from sklearn.metrics import precision_score, recall_score, f1_score, accuracy_score\n",
        "\n",
        "# Evaluate performance of C1 and C2 on the testing set\n",
        "y_pred1 = tree1.predict(X_test)\n",
        "y_pred2 = tree2.predict(X_test)\n",
        "\n",
        "\n",
        "precision1 = precision_score(y_test, y_pred1)\n",
        "precision2 = precision_score(y_test, y_pred2)\n",
        "print('precision_score of C1 (entropy):', precision1)\n",
        "print('precision_score of C2 (gini):', precision2)\n",
        "print('----------------------')\n",
        "\n",
        "recall1 = recall_score(y_test, y_pred1)\n",
        "recall2 = recall_score(y_test, y_pred2)\n",
        "print('recall_score of C1 (entropy):', recall1)\n",
        "print('recall_score of C2 (gini):', recall2)\n",
        "print('----------------------')\n",
        "\n",
        "\n",
        "f1_score1 = f1_score(y_test, y_pred1)\n",
        "f1_score2 = f1_score(y_test, y_pred2)\n",
        "print('f1_score of C1 (entropy):', f1_score1)\n",
        "print('f1_score of C2 (gini):', f1_score2)\n",
        "print('----------------------')\n",
        "\n",
        "\n",
        "acc1 = accuracy_score(y_test, y_pred1)\n",
        "acc2 = accuracy_score(y_test, y_pred2)\n",
        "print('accuracy_score of C1 (entropy):', acc1)\n",
        "print('accuracy_score of C2 (gini):', acc2)"
      ]
    },
    {
      "cell_type": "markdown",
      "id": "d2991bb5",
      "metadata": {
        "id": "d2991bb5"
      },
      "source": [
        "### Compare the performance - As we can see the accuracy with entropy measure is higher than the gini, hence we can say that entropy impurity measure is better than gini for given dataset."
      ]
    },
    {
      "cell_type": "code",
      "execution_count": null,
      "id": "0f07390d",
      "metadata": {
        "id": "0f07390d"
      },
      "outputs": [],
      "source": [
        "comp1 = pd.DataFrame({'Impurity Measure':[\"Entropy\",\"Gini Index\"],'Accuracy':[acc1, acc2], 'Recall':[recall1,recall2],'Precision':[precision1, precision2\n",
        "                                                                                            ], 'F1 Score':[f1_score1, f1_score2]})"
      ]
    },
    {
      "cell_type": "code",
      "execution_count": null,
      "id": "e154df9d",
      "metadata": {
        "id": "e154df9d",
        "outputId": "4d74d747-802a-483f-98f1-27eb9908234c"
      },
      "outputs": [
        {
          "data": {
            "image/png": "[encoded data removed]",
            "text/plain": [
              "<Figure size 720x360 with 4 Axes>"
            ]
          },
          "metadata": {
            "needs_background": "light"
          },
          "output_type": "display_data"
        }
      ],
      "source": [
        "fig,axes= plt.subplots(nrows=1, ncols= len(comp1.columns[1:]), figsize=(10,5))\n",
        "\n",
        "for a,i in enumerate(comp1.columns[1:]):\n",
        "    sns.barplot(data= comp1, x='Impurity Measure', y=i, ax= axes[a])\n",
        "    axes[a].set_title(i)\n",
        "plt.tight_layout()\n",
        "plt.show()"
      ]
    },
    {
      "cell_type": "markdown",
      "id": "8548278c",
      "metadata": {
        "id": "8548278c"
      },
      "source": [
        "##### From the results above we can see the entropy has higher accuracy, precision, recall, and f1 score as compared to Gini Index"
      ]
    },
    {
      "cell_type": "markdown",
      "id": "8f027e8a",
      "metadata": {
        "id": "8f027e8a"
      },
      "source": [
        "## (b) Visualize the C1 and C2 by using the “graphviz” library"
      ]
    },
    {
      "cell_type": "code",
      "execution_count": null,
      "id": "02c54a3e",
      "metadata": {
        "id": "02c54a3e"
      },
      "outputs": [],
      "source": [
        "from sklearn.tree import export_graphviz\n",
        "import graphviz\n",
        "from IPython.display import display\n",
        "\n",
        "# Visualize C1 and C2 using graphviz\n",
        "dot_data1 = export_graphviz(tree1, out_file=None, feature_names=X.columns, class_names=['0', '1'], filled=True, rounded=True)\n",
        "dot_data2 = export_graphviz(tree2, out_file=None, feature_names=X.columns, class_names=['0', '1'], filled=True, rounded=True)\n",
        "graph1 = graphviz.Source(dot_data1)\n",
        "graph2 = graphviz.Source(dot_data2)\n"
      ]
    },
    {
      "cell_type": "code",
      "execution_count": null,
      "id": "dd8f36dc",
      "metadata": {
        "id": "dd8f36dc",
        "outputId": "02b15c85-9946-4aad-bff9-e6c11aab0066"
      },
      "outputs": [
        {
          "data": {
            "image/svg+xml": [
              "<?xml version=\"1.0\" encoding=\"UTF-8\" standalone=\"no\"?>\n",
              "<!DOCTYPE svg PUBLIC \"-//W3C//DTD SVG 1.1//EN\"\n",
              " \"http://www.w3.org/Graphics/SVG/1.1/DTD/svg11.dtd\">\n",
              "<!-- Generated by graphviz version 6.0.1 (20220911.1526)\n",
              " -->\n",
              "<!-- Title: Tree Pages: 1 -->\n",
              "<svg width=\"1091pt\" height=\"909pt\"\n",
              " viewBox=\"0.00 0.00 1091.00 909.00\" xmlns=\"http://www.w3.org/2000/svg\" xmlns:xlink=\"http://www.w3.org/1999/xlink\">\n",
              "<g id=\"graph0\" class=\"graph\" transform=\"scale(1 1) rotate(0) translate(4 905)\">\n",
              "<title>Tree</title>\n",
              "<polygon fill=\"white\" stroke=\"none\" points=\"-4,4 -4,-905 1087,-905 1087,4 -4,4\"/>\n",
              "<!-- 0 -->\n",
              "<g id=\"node1\" class=\"node\">\n",
              "<title>0</title>\n",
              "<path fill=\"#f5ccaf\" stroke=\"black\" d=\"M857,-901C857,-901 675,-901 675,-901 669,-901 663,-895 663,-889 663,-889 663,-830 663,-830 663,-824 669,-818 675,-818 675,-818 857,-818 857,-818 863,-818 869,-824 869,-830 869,-830 869,-889 869,-889 869,-895 863,-901 857,-901\"/>\n",
              "<text text-anchor=\"middle\" x=\"766\" y=\"-885.8\" font-family=\"Helvetica,sans-Serif\" font-size=\"14.00\">concave points_mean &lt;= 0.255</text>\n",
              "<text text-anchor=\"middle\" x=\"766\" y=\"-870.8\" font-family=\"Helvetica,sans-Serif\" font-size=\"14.00\">entropy = 0.954</text>\n",
              "<text text-anchor=\"middle\" x=\"766\" y=\"-855.8\" font-family=\"Helvetica,sans-Serif\" font-size=\"14.00\">samples = 398</text>\n",
              "<text text-anchor=\"middle\" x=\"766\" y=\"-840.8\" font-family=\"Helvetica,sans-Serif\" font-size=\"14.00\">value = [249, 149]</text>\n",
              "<text text-anchor=\"middle\" x=\"766\" y=\"-825.8\" font-family=\"Helvetica,sans-Serif\" font-size=\"14.00\">class = 0</text>\n",
              "</g>\n",
              "<!-- 1 -->\n",
              "<g id=\"node2\" class=\"node\">\n",
              "<title>1</title>\n",
              "<path fill=\"#e68844\" stroke=\"black\" d=\"M667.5,-782C667.5,-782 540.5,-782 540.5,-782 534.5,-782 528.5,-776 528.5,-770 528.5,-770 528.5,-711 528.5,-711 528.5,-705 534.5,-699 540.5,-699 540.5,-699 667.5,-699 667.5,-699 673.5,-699 679.5,-705 679.5,-711 679.5,-711 679.5,-770 679.5,-770 679.5,-776 673.5,-782 667.5,-782\"/>\n",
              "<text text-anchor=\"middle\" x=\"604\" y=\"-766.8\" font-family=\"Helvetica,sans-Serif\" font-size=\"14.00\">radius_worst &lt;= 0.317</text>\n",
              "<text text-anchor=\"middle\" x=\"604\" y=\"-751.8\" font-family=\"Helvetica,sans-Serif\" font-size=\"14.00\">entropy = 0.299</text>\n",
              "<text text-anchor=\"middle\" x=\"604\" y=\"-736.8\" font-family=\"Helvetica,sans-Serif\" font-size=\"14.00\">samples = 245</text>\n",
              "<text text-anchor=\"middle\" x=\"604\" y=\"-721.8\" font-family=\"Helvetica,sans-Serif\" font-size=\"14.00\">value = [232, 13]</text>\n",
              "<text text-anchor=\"middle\" x=\"604\" y=\"-706.8\" font-family=\"Helvetica,sans-Serif\" font-size=\"14.00\">class = 0</text>\n",
              "</g>\n",
              "<!-- 0&#45;&gt;1 -->\n",
              "<g id=\"edge1\" class=\"edge\">\n",
              "<title>0&#45;&gt;1</title>\n",
              "<path fill=\"none\" stroke=\"black\" d=\"M709.79,-817.91C696.48,-808.29 682.17,-797.95 668.51,-788.09\"/>\n",
              "<polygon fill=\"black\" stroke=\"black\" points=\"670.26,-785.04 660.11,-782.02 666.16,-790.71 670.26,-785.04\"/>\n",
              "<text text-anchor=\"middle\" x=\"664.09\" y=\"-803\" font-family=\"Helvetica,sans-Serif\" font-size=\"14.00\">True</text>\n",
              "</g>\n",
              "<!-- 20 -->\n",
              "<g id=\"node21\" class=\"node\">\n",
              "<title>20</title>\n",
              "<path fill=\"#52a9e8\" stroke=\"black\" d=\"M935,-782C935,-782 787,-782 787,-782 781,-782 775,-776 775,-770 775,-770 775,-711 775,-711 775,-705 781,-699 787,-699 787,-699 935,-699 935,-699 941,-699 947,-705 947,-711 947,-711 947,-770 947,-770 947,-776 941,-782 935,-782\"/>\n",
              "<text text-anchor=\"middle\" x=\"861\" y=\"-766.8\" font-family=\"Helvetica,sans-Serif\" font-size=\"14.00\">perimeter_worst &lt;= 0.319</text>\n",
              "<text text-anchor=\"middle\" x=\"861\" y=\"-751.8\" font-family=\"Helvetica,sans-Serif\" font-size=\"14.00\">entropy = 0.503</text>\n",
              "<text text-anchor=\"middle\" x=\"861\" y=\"-736.8\" font-family=\"Helvetica,sans-Serif\" font-size=\"14.00\">samples = 153</text>\n",
              "<text text-anchor=\"middle\" x=\"861\" y=\"-721.8\" font-family=\"Helvetica,sans-Serif\" font-size=\"14.00\">value = [17, 136]</text>\n",
              "<text text-anchor=\"middle\" x=\"861\" y=\"-706.8\" font-family=\"Helvetica,sans-Serif\" font-size=\"14.00\">class = 1</text>\n",
              "</g>\n",
              "<!-- 0&#45;&gt;20 -->\n",
              "<g id=\"edge20\" class=\"edge\">\n",
              "<title>0&#45;&gt;20</title>\n",
              "<path fill=\"none\" stroke=\"black\" d=\"M798.96,-817.91C806.25,-808.92 814.06,-799.32 821.58,-790.05\"/>\n",
              "<polygon fill=\"black\" stroke=\"black\" points=\"824.51,-791.99 828.1,-782.02 819.08,-787.58 824.51,-791.99\"/>\n",
              "<text text-anchor=\"middle\" x=\"830.68\" y=\"-803.19\" font-family=\"Helvetica,sans-Serif\" font-size=\"14.00\">False</text>\n",
              "</g>\n",
              "<!-- 2 -->\n",
              "<g id=\"node3\" class=\"node\">\n",
              "<title>2</title>\n",
              "<path fill=\"#e6843d\" stroke=\"black\" d=\"M425.5,-663C425.5,-663 326.5,-663 326.5,-663 320.5,-663 314.5,-657 314.5,-651 314.5,-651 314.5,-592 314.5,-592 314.5,-586 320.5,-580 326.5,-580 326.5,-580 425.5,-580 425.5,-580 431.5,-580 437.5,-586 437.5,-592 437.5,-592 437.5,-651 437.5,-651 437.5,-657 431.5,-663 425.5,-663\"/>\n",
              "<text text-anchor=\"middle\" x=\"376\" y=\"-647.8\" font-family=\"Helvetica,sans-Serif\" font-size=\"14.00\">area_se &lt;= 0.078</text>\n",
              "<text text-anchor=\"middle\" x=\"376\" y=\"-632.8\" font-family=\"Helvetica,sans-Serif\" font-size=\"14.00\">entropy = 0.151</text>\n",
              "<text text-anchor=\"middle\" x=\"376\" y=\"-617.8\" font-family=\"Helvetica,sans-Serif\" font-size=\"14.00\">samples = 230</text>\n",
              "<text text-anchor=\"middle\" x=\"376\" y=\"-602.8\" font-family=\"Helvetica,sans-Serif\" font-size=\"14.00\">value = [225, 5]</text>\n",
              "<text text-anchor=\"middle\" x=\"376\" y=\"-587.8\" font-family=\"Helvetica,sans-Serif\" font-size=\"14.00\">class = 0</text>\n",
              "</g>\n",
              "<!-- 1&#45;&gt;2 -->\n",
              "<g id=\"edge2\" class=\"edge\">\n",
              "<title>1&#45;&gt;2</title>\n",
              "<path fill=\"none\" stroke=\"black\" d=\"M528.4,-700.7C502.07,-687.2 472.66,-672.1 446.75,-658.8\"/>\n",
              "<polygon fill=\"black\" stroke=\"black\" points=\"448.23,-655.63 437.74,-654.18 445.04,-661.86 448.23,-655.63\"/>\n",
              "</g>\n",
              "<!-- 15 -->\n",
              "<g id=\"node16\" class=\"node\">\n",
              "<title>15</title>\n",
              "<path fill=\"#e6f3fc\" stroke=\"black\" d=\"M671,-663C671,-663 537,-663 537,-663 531,-663 525,-657 525,-651 525,-651 525,-592 525,-592 525,-586 531,-580 537,-580 537,-580 671,-580 671,-580 677,-580 683,-586 683,-592 683,-592 683,-651 683,-651 683,-657 677,-663 671,-663\"/>\n",
              "<text text-anchor=\"middle\" x=\"604\" y=\"-647.8\" font-family=\"Helvetica,sans-Serif\" font-size=\"14.00\">texture_mean &lt;= 0.219</text>\n",
              "<text text-anchor=\"middle\" x=\"604\" y=\"-632.8\" font-family=\"Helvetica,sans-Serif\" font-size=\"14.00\">entropy = 0.997</text>\n",
              "<text text-anchor=\"middle\" x=\"604\" y=\"-617.8\" font-family=\"Helvetica,sans-Serif\" font-size=\"14.00\">samples = 15</text>\n",
              "<text text-anchor=\"middle\" x=\"604\" y=\"-602.8\" font-family=\"Helvetica,sans-Serif\" font-size=\"14.00\">value = [7, 8]</text>\n",
              "<text text-anchor=\"middle\" x=\"604\" y=\"-587.8\" font-family=\"Helvetica,sans-Serif\" font-size=\"14.00\">class = 1</text>\n",
              "</g>\n",
              "<!-- 1&#45;&gt;15 -->\n",
              "<g id=\"edge15\" class=\"edge\">\n",
              "<title>1&#45;&gt;15</title>\n",
              "<path fill=\"none\" stroke=\"black\" d=\"M604,-698.91C604,-690.65 604,-681.86 604,-673.3\"/>\n",
              "<polygon fill=\"black\" stroke=\"black\" points=\"607.5,-673.02 604,-663.02 600.5,-673.02 607.5,-673.02\"/>\n",
              "</g>\n",
              "<!-- 3 -->\n",
              "<g id=\"node4\" class=\"node\">\n",
              "<title>3</title>\n",
              "<path fill=\"#e5833c\" stroke=\"black\" d=\"M250.5,-544C250.5,-544 119.5,-544 119.5,-544 113.5,-544 107.5,-538 107.5,-532 107.5,-532 107.5,-473 107.5,-473 107.5,-467 113.5,-461 119.5,-461 119.5,-461 250.5,-461 250.5,-461 256.5,-461 262.5,-467 262.5,-473 262.5,-473 262.5,-532 262.5,-532 262.5,-538 256.5,-544 250.5,-544\"/>\n",
              "<text text-anchor=\"middle\" x=\"185\" y=\"-528.8\" font-family=\"Helvetica,sans-Serif\" font-size=\"14.00\">texture_worst &lt;= 0.483</text>\n",
              "<text text-anchor=\"middle\" x=\"185\" y=\"-513.8\" font-family=\"Helvetica,sans-Serif\" font-size=\"14.00\">entropy = 0.101</text>\n",
              "<text text-anchor=\"middle\" x=\"185\" y=\"-498.8\" font-family=\"Helvetica,sans-Serif\" font-size=\"14.00\">samples = 227</text>\n",
              "<text text-anchor=\"middle\" x=\"185\" y=\"-483.8\" font-family=\"Helvetica,sans-Serif\" font-size=\"14.00\">value = [224, 3]</text>\n",
              "<text text-anchor=\"middle\" x=\"185\" y=\"-468.8\" font-family=\"Helvetica,sans-Serif\" font-size=\"14.00\">class = 0</text>\n",
              "</g>\n",
              "<!-- 2&#45;&gt;3 -->\n",
              "<g id=\"edge3\" class=\"edge\">\n",
              "<title>2&#45;&gt;3</title>\n",
              "<path fill=\"none\" stroke=\"black\" d=\"M314.25,-582.68C296.92,-572.06 277.89,-560.4 259.89,-549.38\"/>\n",
              "<polygon fill=\"black\" stroke=\"black\" points=\"261.5,-546.26 251.15,-544.02 257.85,-552.23 261.5,-546.26\"/>\n",
              "</g>\n",
              "<!-- 12 -->\n",
              "<g id=\"node13\" class=\"node\">\n",
              "<title>12</title>\n",
              "<path fill=\"#9ccef2\" stroke=\"black\" d=\"M459,-544C459,-544 293,-544 293,-544 287,-544 281,-538 281,-532 281,-532 281,-473 281,-473 281,-467 287,-461 293,-461 293,-461 459,-461 459,-461 465,-461 471,-467 471,-473 471,-473 471,-532 471,-532 471,-538 465,-544 459,-544\"/>\n",
              "<text text-anchor=\"middle\" x=\"376\" y=\"-528.8\" font-family=\"Helvetica,sans-Serif\" font-size=\"14.00\">smoothness_mean &lt;= 0.344</text>\n",
              "<text text-anchor=\"middle\" x=\"376\" y=\"-513.8\" font-family=\"Helvetica,sans-Serif\" font-size=\"14.00\">entropy = 0.918</text>\n",
              "<text text-anchor=\"middle\" x=\"376\" y=\"-498.8\" font-family=\"Helvetica,sans-Serif\" font-size=\"14.00\">samples = 3</text>\n",
              "<text text-anchor=\"middle\" x=\"376\" y=\"-483.8\" font-family=\"Helvetica,sans-Serif\" font-size=\"14.00\">value = [1, 2]</text>\n",
              "<text text-anchor=\"middle\" x=\"376\" y=\"-468.8\" font-family=\"Helvetica,sans-Serif\" font-size=\"14.00\">class = 1</text>\n",
              "</g>\n",
              "<!-- 2&#45;&gt;12 -->\n",
              "<g id=\"edge12\" class=\"edge\">\n",
              "<title>2&#45;&gt;12</title>\n",
              "<path fill=\"none\" stroke=\"black\" d=\"M376,-579.91C376,-571.65 376,-562.86 376,-554.3\"/>\n",
              "<polygon fill=\"black\" stroke=\"black\" points=\"379.5,-554.02 376,-544.02 372.5,-554.02 379.5,-554.02\"/>\n",
              "</g>\n",
              "<!-- 4 -->\n",
              "<g id=\"node5\" class=\"node\">\n",
              "<title>4</title>\n",
              "<path fill=\"#e58139\" stroke=\"black\" d=\"M98,-417.5C98,-417.5 12,-417.5 12,-417.5 6,-417.5 0,-411.5 0,-405.5 0,-405.5 0,-361.5 0,-361.5 0,-355.5 6,-349.5 12,-349.5 12,-349.5 98,-349.5 98,-349.5 104,-349.5 110,-355.5 110,-361.5 110,-361.5 110,-405.5 110,-405.5 110,-411.5 104,-417.5 98,-417.5\"/>\n",
              "<text text-anchor=\"middle\" x=\"55\" y=\"-402.3\" font-family=\"Helvetica,sans-Serif\" font-size=\"14.00\">entropy = 0.0</text>\n",
              "<text text-anchor=\"middle\" x=\"55\" y=\"-387.3\" font-family=\"Helvetica,sans-Serif\" font-size=\"14.00\">samples = 197</text>\n",
              "<text text-anchor=\"middle\" x=\"55\" y=\"-372.3\" font-family=\"Helvetica,sans-Serif\" font-size=\"14.00\">value = [197, 0]</text>\n",
              "<text text-anchor=\"middle\" x=\"55\" y=\"-357.3\" font-family=\"Helvetica,sans-Serif\" font-size=\"14.00\">class = 0</text>\n",
              "</g>\n",
              "<!-- 3&#45;&gt;4 -->\n",
              "<g id=\"edge4\" class=\"edge\">\n",
              "<title>3&#45;&gt;4</title>\n",
              "<path fill=\"none\" stroke=\"black\" d=\"M139.9,-460.91C126.78,-449.1 112.46,-436.22 99.39,-424.45\"/>\n",
              "<polygon fill=\"black\" stroke=\"black\" points=\"101.63,-421.76 91.85,-417.67 96.94,-426.96 101.63,-421.76\"/>\n",
              "</g>\n",
              "<!-- 5 -->\n",
              "<g id=\"node6\" class=\"node\">\n",
              "<title>5</title>\n",
              "<path fill=\"#e88f4f\" stroke=\"black\" d=\"M257.5,-425C257.5,-425 140.5,-425 140.5,-425 134.5,-425 128.5,-419 128.5,-413 128.5,-413 128.5,-354 128.5,-354 128.5,-348 134.5,-342 140.5,-342 140.5,-342 257.5,-342 257.5,-342 263.5,-342 269.5,-348 269.5,-354 269.5,-354 269.5,-413 269.5,-413 269.5,-419 263.5,-425 257.5,-425\"/>\n",
              "<text text-anchor=\"middle\" x=\"199\" y=\"-409.8\" font-family=\"Helvetica,sans-Serif\" font-size=\"14.00\">area_worst &lt;= 0.112</text>\n",
              "<text text-anchor=\"middle\" x=\"199\" y=\"-394.8\" font-family=\"Helvetica,sans-Serif\" font-size=\"14.00\">entropy = 0.469</text>\n",
              "<text text-anchor=\"middle\" x=\"199\" y=\"-379.8\" font-family=\"Helvetica,sans-Serif\" font-size=\"14.00\">samples = 30</text>\n",
              "<text text-anchor=\"middle\" x=\"199\" y=\"-364.8\" font-family=\"Helvetica,sans-Serif\" font-size=\"14.00\">value = [27, 3]</text>\n",
              "<text text-anchor=\"middle\" x=\"199\" y=\"-349.8\" font-family=\"Helvetica,sans-Serif\" font-size=\"14.00\">class = 0</text>\n",
              "</g>\n",
              "<!-- 3&#45;&gt;5 -->\n",
              "<g id=\"edge5\" class=\"edge\">\n",
              "<title>3&#45;&gt;5</title>\n",
              "<path fill=\"none\" stroke=\"black\" d=\"M189.86,-460.91C190.86,-452.56 191.92,-443.67 192.95,-435.02\"/>\n",
              "<polygon fill=\"black\" stroke=\"black\" points=\"196.44,-435.37 194.15,-425.02 189.49,-434.53 196.44,-435.37\"/>\n",
              "</g>\n",
              "<!-- 6 -->\n",
              "<g id=\"node7\" class=\"node\">\n",
              "<title>6</title>\n",
              "<path fill=\"#e58139\" stroke=\"black\" d=\"M165,-298.5C165,-298.5 87,-298.5 87,-298.5 81,-298.5 75,-292.5 75,-286.5 75,-286.5 75,-242.5 75,-242.5 75,-236.5 81,-230.5 87,-230.5 87,-230.5 165,-230.5 165,-230.5 171,-230.5 177,-236.5 177,-242.5 177,-242.5 177,-286.5 177,-286.5 177,-292.5 171,-298.5 165,-298.5\"/>\n",
              "<text text-anchor=\"middle\" x=\"126\" y=\"-283.3\" font-family=\"Helvetica,sans-Serif\" font-size=\"14.00\">entropy = 0.0</text>\n",
              "<text text-anchor=\"middle\" x=\"126\" y=\"-268.3\" font-family=\"Helvetica,sans-Serif\" font-size=\"14.00\">samples = 21</text>\n",
              "<text text-anchor=\"middle\" x=\"126\" y=\"-253.3\" font-family=\"Helvetica,sans-Serif\" font-size=\"14.00\">value = [21, 0]</text>\n",
              "<text text-anchor=\"middle\" x=\"126\" y=\"-238.3\" font-family=\"Helvetica,sans-Serif\" font-size=\"14.00\">class = 0</text>\n",
              "</g>\n",
              "<!-- 5&#45;&gt;6 -->\n",
              "<g id=\"edge6\" class=\"edge\">\n",
              "<title>5&#45;&gt;6</title>\n",
              "<path fill=\"none\" stroke=\"black\" d=\"M173.67,-341.91C166.72,-330.76 159.17,-318.66 152.17,-307.44\"/>\n",
              "<polygon fill=\"black\" stroke=\"black\" points=\"154.96,-305.3 146.69,-298.67 149.02,-309 154.96,-305.3\"/>\n",
              "</g>\n",
              "<!-- 7 -->\n",
              "<g id=\"node8\" class=\"node\">\n",
              "<title>7</title>\n",
              "<path fill=\"#f2c09c\" stroke=\"black\" d=\"M336.5,-306C336.5,-306 207.5,-306 207.5,-306 201.5,-306 195.5,-300 195.5,-294 195.5,-294 195.5,-235 195.5,-235 195.5,-229 201.5,-223 207.5,-223 207.5,-223 336.5,-223 336.5,-223 342.5,-223 348.5,-229 348.5,-235 348.5,-235 348.5,-294 348.5,-294 348.5,-300 342.5,-306 336.5,-306\"/>\n",
              "<text text-anchor=\"middle\" x=\"272\" y=\"-290.8\" font-family=\"Helvetica,sans-Serif\" font-size=\"14.00\">radius_mean &lt;= 0.306</text>\n",
              "<text text-anchor=\"middle\" x=\"272\" y=\"-275.8\" font-family=\"Helvetica,sans-Serif\" font-size=\"14.00\">entropy = 0.918</text>\n",
              "<text text-anchor=\"middle\" x=\"272\" y=\"-260.8\" font-family=\"Helvetica,sans-Serif\" font-size=\"14.00\">samples = 9</text>\n",
              "<text text-anchor=\"middle\" x=\"272\" y=\"-245.8\" font-family=\"Helvetica,sans-Serif\" font-size=\"14.00\">value = [6, 3]</text>\n",
              "<text text-anchor=\"middle\" x=\"272\" y=\"-230.8\" font-family=\"Helvetica,sans-Serif\" font-size=\"14.00\">class = 0</text>\n",
              "</g>\n",
              "<!-- 5&#45;&gt;7 -->\n",
              "<g id=\"edge7\" class=\"edge\">\n",
              "<title>5&#45;&gt;7</title>\n",
              "<path fill=\"none\" stroke=\"black\" d=\"M224.33,-341.91C229.82,-333.1 235.69,-323.7 241.36,-314.61\"/>\n",
              "<polygon fill=\"black\" stroke=\"black\" points=\"244.39,-316.36 246.72,-306.02 238.45,-312.65 244.39,-316.36\"/>\n",
              "</g>\n",
              "<!-- 8 -->\n",
              "<g id=\"node9\" class=\"node\">\n",
              "<title>8</title>\n",
              "<path fill=\"#7bbeee\" stroke=\"black\" d=\"M269.5,-187C269.5,-187 120.5,-187 120.5,-187 114.5,-187 108.5,-181 108.5,-175 108.5,-175 108.5,-116 108.5,-116 108.5,-110 114.5,-104 120.5,-104 120.5,-104 269.5,-104 269.5,-104 275.5,-104 281.5,-110 281.5,-116 281.5,-116 281.5,-175 281.5,-175 281.5,-181 275.5,-187 269.5,-187\"/>\n",
              "<text text-anchor=\"middle\" x=\"195\" y=\"-171.8\" font-family=\"Helvetica,sans-Serif\" font-size=\"14.00\">concavity_mean &lt;= 0.069</text>\n",
              "<text text-anchor=\"middle\" x=\"195\" y=\"-156.8\" font-family=\"Helvetica,sans-Serif\" font-size=\"14.00\">entropy = 0.811</text>\n",
              "<text text-anchor=\"middle\" x=\"195\" y=\"-141.8\" font-family=\"Helvetica,sans-Serif\" font-size=\"14.00\">samples = 4</text>\n",
              "<text text-anchor=\"middle\" x=\"195\" y=\"-126.8\" font-family=\"Helvetica,sans-Serif\" font-size=\"14.00\">value = [1, 3]</text>\n",
              "<text text-anchor=\"middle\" x=\"195\" y=\"-111.8\" font-family=\"Helvetica,sans-Serif\" font-size=\"14.00\">class = 1</text>\n",
              "</g>\n",
              "<!-- 7&#45;&gt;8 -->\n",
              "<g id=\"edge8\" class=\"edge\">\n",
              "<title>7&#45;&gt;8</title>\n",
              "<path fill=\"none\" stroke=\"black\" d=\"M245.29,-222.91C239.49,-214.1 233.3,-204.7 227.32,-195.61\"/>\n",
              "<polygon fill=\"black\" stroke=\"black\" points=\"230.09,-193.45 221.67,-187.02 224.24,-197.3 230.09,-193.45\"/>\n",
              "</g>\n",
              "<!-- 11 -->\n",
              "<g id=\"node12\" class=\"node\">\n",
              "<title>11</title>\n",
              "<path fill=\"#e58139\" stroke=\"black\" d=\"M384,-179.5C384,-179.5 312,-179.5 312,-179.5 306,-179.5 300,-173.5 300,-167.5 300,-167.5 300,-123.5 300,-123.5 300,-117.5 306,-111.5 312,-111.5 312,-111.5 384,-111.5 384,-111.5 390,-111.5 396,-117.5 396,-123.5 396,-123.5 396,-167.5 396,-167.5 396,-173.5 390,-179.5 384,-179.5\"/>\n",
              "<text text-anchor=\"middle\" x=\"348\" y=\"-164.3\" font-family=\"Helvetica,sans-Serif\" font-size=\"14.00\">entropy = 0.0</text>\n",
              "<text text-anchor=\"middle\" x=\"348\" y=\"-149.3\" font-family=\"Helvetica,sans-Serif\" font-size=\"14.00\">samples = 5</text>\n",
              "<text text-anchor=\"middle\" x=\"348\" y=\"-134.3\" font-family=\"Helvetica,sans-Serif\" font-size=\"14.00\">value = [5, 0]</text>\n",
              "<text text-anchor=\"middle\" x=\"348\" y=\"-119.3\" font-family=\"Helvetica,sans-Serif\" font-size=\"14.00\">class = 0</text>\n",
              "</g>\n",
              "<!-- 7&#45;&gt;11 -->\n",
              "<g id=\"edge11\" class=\"edge\">\n",
              "<title>7&#45;&gt;11</title>\n",
              "<path fill=\"none\" stroke=\"black\" d=\"M298.37,-222.91C305.68,-211.65 313.63,-199.42 320.97,-188.11\"/>\n",
              "<polygon fill=\"black\" stroke=\"black\" points=\"323.94,-189.96 326.46,-179.67 318.07,-186.15 323.94,-189.96\"/>\n",
              "</g>\n",
              "<!-- 9 -->\n",
              "<g id=\"node10\" class=\"node\">\n",
              "<title>9</title>\n",
              "<path fill=\"#e58139\" stroke=\"black\" d=\"M174,-68C174,-68 102,-68 102,-68 96,-68 90,-62 90,-56 90,-56 90,-12 90,-12 90,-6 96,0 102,0 102,0 174,0 174,0 180,0 186,-6 186,-12 186,-12 186,-56 186,-56 186,-62 180,-68 174,-68\"/>\n",
              "<text text-anchor=\"middle\" x=\"138\" y=\"-52.8\" font-family=\"Helvetica,sans-Serif\" font-size=\"14.00\">entropy = 0.0</text>\n",
              "<text text-anchor=\"middle\" x=\"138\" y=\"-37.8\" font-family=\"Helvetica,sans-Serif\" font-size=\"14.00\">samples = 1</text>\n",
              "<text text-anchor=\"middle\" x=\"138\" y=\"-22.8\" font-family=\"Helvetica,sans-Serif\" font-size=\"14.00\">value = [1, 0]</text>\n",
              "<text text-anchor=\"middle\" x=\"138\" y=\"-7.8\" font-family=\"Helvetica,sans-Serif\" font-size=\"14.00\">class = 0</text>\n",
              "</g>\n",
              "<!-- 8&#45;&gt;9 -->\n",
              "<g id=\"edge9\" class=\"edge\">\n",
              "<title>8&#45;&gt;9</title>\n",
              "<path fill=\"none\" stroke=\"black\" d=\"M173.78,-103.73C169.26,-95.06 164.49,-85.9 159.96,-77.18\"/>\n",
              "<polygon fill=\"black\" stroke=\"black\" points=\"163.06,-75.55 155.33,-68.3 156.85,-78.79 163.06,-75.55\"/>\n",
              "</g>\n",
              "<!-- 10 -->\n",
              "<g id=\"node11\" class=\"node\">\n",
              "<title>10</title>\n",
              "<path fill=\"#399de5\" stroke=\"black\" d=\"M288,-68C288,-68 216,-68 216,-68 210,-68 204,-62 204,-56 204,-56 204,-12 204,-12 204,-6 210,0 216,0 216,0 288,0 288,0 294,0 300,-6 300,-12 300,-12 300,-56 300,-56 300,-62 294,-68 288,-68\"/>\n",
              "<text text-anchor=\"middle\" x=\"252\" y=\"-52.8\" font-family=\"Helvetica,sans-Serif\" font-size=\"14.00\">entropy = 0.0</text>\n",
              "<text text-anchor=\"middle\" x=\"252\" y=\"-37.8\" font-family=\"Helvetica,sans-Serif\" font-size=\"14.00\">samples = 3</text>\n",
              "<text text-anchor=\"middle\" x=\"252\" y=\"-22.8\" font-family=\"Helvetica,sans-Serif\" font-size=\"14.00\">value = [0, 3]</text>\n",
              "<text text-anchor=\"middle\" x=\"252\" y=\"-7.8\" font-family=\"Helvetica,sans-Serif\" font-size=\"14.00\">class = 1</text>\n",
              "</g>\n",
              "<!-- 8&#45;&gt;10 -->\n",
              "<g id=\"edge10\" class=\"edge\">\n",
              "<title>8&#45;&gt;10</title>\n",
              "<path fill=\"none\" stroke=\"black\" d=\"M216.22,-103.73C220.74,-95.06 225.51,-85.9 230.04,-77.18\"/>\n",
              "<polygon fill=\"black\" stroke=\"black\" points=\"233.15,-78.79 234.67,-68.3 226.94,-75.55 233.15,-78.79\"/>\n",
              "</g>\n",
              "<!-- 13 -->\n",
              "<g id=\"node14\" class=\"node\">\n",
              "<title>13</title>\n",
              "<path fill=\"#e58139\" stroke=\"black\" d=\"M399,-417.5C399,-417.5 327,-417.5 327,-417.5 321,-417.5 315,-411.5 315,-405.5 315,-405.5 315,-361.5 315,-361.5 315,-355.5 321,-349.5 327,-349.5 327,-349.5 399,-349.5 399,-349.5 405,-349.5 411,-355.5 411,-361.5 411,-361.5 411,-405.5 411,-405.5 411,-411.5 405,-417.5 399,-417.5\"/>\n",
              "<text text-anchor=\"middle\" x=\"363\" y=\"-402.3\" font-family=\"Helvetica,sans-Serif\" font-size=\"14.00\">entropy = 0.0</text>\n",
              "<text text-anchor=\"middle\" x=\"363\" y=\"-387.3\" font-family=\"Helvetica,sans-Serif\" font-size=\"14.00\">samples = 1</text>\n",
              "<text text-anchor=\"middle\" x=\"363\" y=\"-372.3\" font-family=\"Helvetica,sans-Serif\" font-size=\"14.00\">value = [1, 0]</text>\n",
              "<text text-anchor=\"middle\" x=\"363\" y=\"-357.3\" font-family=\"Helvetica,sans-Serif\" font-size=\"14.00\">class = 0</text>\n",
              "</g>\n",
              "<!-- 12&#45;&gt;13 -->\n",
              "<g id=\"edge13\" class=\"edge\">\n",
              "<title>12&#45;&gt;13</title>\n",
              "<path fill=\"none\" stroke=\"black\" d=\"M371.49,-460.91C370.3,-450.2 369.01,-438.62 367.81,-427.78\"/>\n",
              "<polygon fill=\"black\" stroke=\"black\" points=\"371.27,-427.22 366.69,-417.67 364.31,-427.99 371.27,-427.22\"/>\n",
              "</g>\n",
              "<!-- 14 -->\n",
              "<g id=\"node15\" class=\"node\">\n",
              "<title>14</title>\n",
              "<path fill=\"#399de5\" stroke=\"black\" d=\"M513,-417.5C513,-417.5 441,-417.5 441,-417.5 435,-417.5 429,-411.5 429,-405.5 429,-405.5 429,-361.5 429,-361.5 429,-355.5 435,-349.5 441,-349.5 441,-349.5 513,-349.5 513,-349.5 519,-349.5 525,-355.5 525,-361.5 525,-361.5 525,-405.5 525,-405.5 525,-411.5 519,-417.5 513,-417.5\"/>\n",
              "<text text-anchor=\"middle\" x=\"477\" y=\"-402.3\" font-family=\"Helvetica,sans-Serif\" font-size=\"14.00\">entropy = 0.0</text>\n",
              "<text text-anchor=\"middle\" x=\"477\" y=\"-387.3\" font-family=\"Helvetica,sans-Serif\" font-size=\"14.00\">samples = 2</text>\n",
              "<text text-anchor=\"middle\" x=\"477\" y=\"-372.3\" font-family=\"Helvetica,sans-Serif\" font-size=\"14.00\">value = [0, 2]</text>\n",
              "<text text-anchor=\"middle\" x=\"477\" y=\"-357.3\" font-family=\"Helvetica,sans-Serif\" font-size=\"14.00\">class = 1</text>\n",
              "</g>\n",
              "<!-- 12&#45;&gt;14 -->\n",
              "<g id=\"edge14\" class=\"edge\">\n",
              "<title>12&#45;&gt;14</title>\n",
              "<path fill=\"none\" stroke=\"black\" d=\"M411.04,-460.91C420.95,-449.43 431.73,-436.94 441.66,-425.44\"/>\n",
              "<polygon fill=\"black\" stroke=\"black\" points=\"444.48,-427.52 448.37,-417.67 439.18,-422.95 444.48,-427.52\"/>\n",
              "</g>\n",
              "<!-- 16 -->\n",
              "<g id=\"node17\" class=\"node\">\n",
              "<title>16</title>\n",
              "<path fill=\"#e58139\" stroke=\"black\" d=\"M573,-536.5C573,-536.5 501,-536.5 501,-536.5 495,-536.5 489,-530.5 489,-524.5 489,-524.5 489,-480.5 489,-480.5 489,-474.5 495,-468.5 501,-468.5 501,-468.5 573,-468.5 573,-468.5 579,-468.5 585,-474.5 585,-480.5 585,-480.5 585,-524.5 585,-524.5 585,-530.5 579,-536.5 573,-536.5\"/>\n",
              "<text text-anchor=\"middle\" x=\"537\" y=\"-521.3\" font-family=\"Helvetica,sans-Serif\" font-size=\"14.00\">entropy = 0.0</text>\n",
              "<text text-anchor=\"middle\" x=\"537\" y=\"-506.3\" font-family=\"Helvetica,sans-Serif\" font-size=\"14.00\">samples = 5</text>\n",
              "<text text-anchor=\"middle\" x=\"537\" y=\"-491.3\" font-family=\"Helvetica,sans-Serif\" font-size=\"14.00\">value = [5, 0]</text>\n",
              "<text text-anchor=\"middle\" x=\"537\" y=\"-476.3\" font-family=\"Helvetica,sans-Serif\" font-size=\"14.00\">class = 0</text>\n",
              "</g>\n",
              "<!-- 15&#45;&gt;16 -->\n",
              "<g id=\"edge16\" class=\"edge\">\n",
              "<title>15&#45;&gt;16</title>\n",
              "<path fill=\"none\" stroke=\"black\" d=\"M580.75,-579.91C574.37,-568.76 567.44,-556.66 561.02,-545.44\"/>\n",
              "<polygon fill=\"black\" stroke=\"black\" points=\"564,-543.61 555.99,-536.67 557.93,-547.08 564,-543.61\"/>\n",
              "</g>\n",
              "<!-- 17 -->\n",
              "<g id=\"node18\" class=\"node\">\n",
              "<title>17</title>\n",
              "<path fill=\"#6ab6ec\" stroke=\"black\" d=\"M728.5,-544C728.5,-544 615.5,-544 615.5,-544 609.5,-544 603.5,-538 603.5,-532 603.5,-532 603.5,-473 603.5,-473 603.5,-467 609.5,-461 615.5,-461 615.5,-461 728.5,-461 728.5,-461 734.5,-461 740.5,-467 740.5,-473 740.5,-473 740.5,-532 740.5,-532 740.5,-538 734.5,-544 728.5,-544\"/>\n",
              "<text text-anchor=\"middle\" x=\"672\" y=\"-528.8\" font-family=\"Helvetica,sans-Serif\" font-size=\"14.00\">texture_se &lt;= 0.225</text>\n",
              "<text text-anchor=\"middle\" x=\"672\" y=\"-513.8\" font-family=\"Helvetica,sans-Serif\" font-size=\"14.00\">entropy = 0.722</text>\n",
              "<text text-anchor=\"middle\" x=\"672\" y=\"-498.8\" font-family=\"Helvetica,sans-Serif\" font-size=\"14.00\">samples = 10</text>\n",
              "<text text-anchor=\"middle\" x=\"672\" y=\"-483.8\" font-family=\"Helvetica,sans-Serif\" font-size=\"14.00\">value = [2, 8]</text>\n",
              "<text text-anchor=\"middle\" x=\"672\" y=\"-468.8\" font-family=\"Helvetica,sans-Serif\" font-size=\"14.00\">class = 1</text>\n",
              "</g>\n",
              "<!-- 15&#45;&gt;17 -->\n",
              "<g id=\"edge17\" class=\"edge\">\n",
              "<title>15&#45;&gt;17</title>\n",
              "<path fill=\"none\" stroke=\"black\" d=\"M627.59,-579.91C632.66,-571.2 638.06,-561.9 643.29,-552.89\"/>\n",
              "<polygon fill=\"black\" stroke=\"black\" points=\"646.45,-554.43 648.45,-544.02 640.4,-550.91 646.45,-554.43\"/>\n",
              "</g>\n",
              "<!-- 18 -->\n",
              "<g id=\"node19\" class=\"node\">\n",
              "<title>18</title>\n",
              "<path fill=\"#399de5\" stroke=\"black\" d=\"M640,-417.5C640,-417.5 568,-417.5 568,-417.5 562,-417.5 556,-411.5 556,-405.5 556,-405.5 556,-361.5 556,-361.5 556,-355.5 562,-349.5 568,-349.5 568,-349.5 640,-349.5 640,-349.5 646,-349.5 652,-355.5 652,-361.5 652,-361.5 652,-405.5 652,-405.5 652,-411.5 646,-417.5 640,-417.5\"/>\n",
              "<text text-anchor=\"middle\" x=\"604\" y=\"-402.3\" font-family=\"Helvetica,sans-Serif\" font-size=\"14.00\">entropy = 0.0</text>\n",
              "<text text-anchor=\"middle\" x=\"604\" y=\"-387.3\" font-family=\"Helvetica,sans-Serif\" font-size=\"14.00\">samples = 8</text>\n",
              "<text text-anchor=\"middle\" x=\"604\" y=\"-372.3\" font-family=\"Helvetica,sans-Serif\" font-size=\"14.00\">value = [0, 8]</text>\n",
              "<text text-anchor=\"middle\" x=\"604\" y=\"-357.3\" font-family=\"Helvetica,sans-Serif\" font-size=\"14.00\">class = 1</text>\n",
              "</g>\n",
              "<!-- 17&#45;&gt;18 -->\n",
              "<g id=\"edge18\" class=\"edge\">\n",
              "<title>17&#45;&gt;18</title>\n",
              "<path fill=\"none\" stroke=\"black\" d=\"M648.41,-460.91C641.93,-449.76 634.9,-437.66 628.37,-426.44\"/>\n",
              "<polygon fill=\"black\" stroke=\"black\" points=\"631.33,-424.55 623.28,-417.67 625.28,-428.07 631.33,-424.55\"/>\n",
              "</g>\n",
              "<!-- 19 -->\n",
              "<g id=\"node20\" class=\"node\">\n",
              "<title>19</title>\n",
              "<path fill=\"#e58139\" stroke=\"black\" d=\"M754,-417.5C754,-417.5 682,-417.5 682,-417.5 676,-417.5 670,-411.5 670,-405.5 670,-405.5 670,-361.5 670,-361.5 670,-355.5 676,-349.5 682,-349.5 682,-349.5 754,-349.5 754,-349.5 760,-349.5 766,-355.5 766,-361.5 766,-361.5 766,-405.5 766,-405.5 766,-411.5 760,-417.5 754,-417.5\"/>\n",
              "<text text-anchor=\"middle\" x=\"718\" y=\"-402.3\" font-family=\"Helvetica,sans-Serif\" font-size=\"14.00\">entropy = 0.0</text>\n",
              "<text text-anchor=\"middle\" x=\"718\" y=\"-387.3\" font-family=\"Helvetica,sans-Serif\" font-size=\"14.00\">samples = 2</text>\n",
              "<text text-anchor=\"middle\" x=\"718\" y=\"-372.3\" font-family=\"Helvetica,sans-Serif\" font-size=\"14.00\">value = [2, 0]</text>\n",
              "<text text-anchor=\"middle\" x=\"718\" y=\"-357.3\" font-family=\"Helvetica,sans-Serif\" font-size=\"14.00\">class = 0</text>\n",
              "</g>\n",
              "<!-- 17&#45;&gt;19 -->\n",
              "<g id=\"edge19\" class=\"edge\">\n",
              "<title>17&#45;&gt;19</title>\n",
              "<path fill=\"none\" stroke=\"black\" d=\"M687.96,-460.91C692.25,-449.98 696.91,-438.14 701.25,-427.11\"/>\n",
              "<polygon fill=\"black\" stroke=\"black\" points=\"704.56,-428.25 704.96,-417.67 698.04,-425.69 704.56,-428.25\"/>\n",
              "</g>\n",
              "<!-- 21 -->\n",
              "<g id=\"node22\" class=\"node\">\n",
              "<title>21</title>\n",
              "<path fill=\"#d2e9f9\" stroke=\"black\" d=\"M926.5,-663C926.5,-663 795.5,-663 795.5,-663 789.5,-663 783.5,-657 783.5,-651 783.5,-651 783.5,-592 783.5,-592 783.5,-586 789.5,-580 795.5,-580 795.5,-580 926.5,-580 926.5,-580 932.5,-580 938.5,-586 938.5,-592 938.5,-592 938.5,-651 938.5,-651 938.5,-657 932.5,-663 926.5,-663\"/>\n",
              "<text text-anchor=\"middle\" x=\"861\" y=\"-647.8\" font-family=\"Helvetica,sans-Serif\" font-size=\"14.00\">texture_worst &lt;= 0.363</text>\n",
              "<text text-anchor=\"middle\" x=\"861\" y=\"-632.8\" font-family=\"Helvetica,sans-Serif\" font-size=\"14.00\">entropy = 0.988</text>\n",
              "<text text-anchor=\"middle\" x=\"861\" y=\"-617.8\" font-family=\"Helvetica,sans-Serif\" font-size=\"14.00\">samples = 39</text>\n",
              "<text text-anchor=\"middle\" x=\"861\" y=\"-602.8\" font-family=\"Helvetica,sans-Serif\" font-size=\"14.00\">value = [17, 22]</text>\n",
              "<text text-anchor=\"middle\" x=\"861\" y=\"-587.8\" font-family=\"Helvetica,sans-Serif\" font-size=\"14.00\">class = 1</text>\n",
              "</g>\n",
              "<!-- 20&#45;&gt;21 -->\n",
              "<g id=\"edge21\" class=\"edge\">\n",
              "<title>20&#45;&gt;21</title>\n",
              "<path fill=\"none\" stroke=\"black\" d=\"M861,-698.91C861,-690.65 861,-681.86 861,-673.3\"/>\n",
              "<polygon fill=\"black\" stroke=\"black\" points=\"864.5,-673.02 861,-663.02 857.5,-673.02 864.5,-673.02\"/>\n",
              "</g>\n",
              "<!-- 26 -->\n",
              "<g id=\"node27\" class=\"node\">\n",
              "<title>26</title>\n",
              "<path fill=\"#399de5\" stroke=\"black\" d=\"M1055,-655.5C1055,-655.5 969,-655.5 969,-655.5 963,-655.5 957,-649.5 957,-643.5 957,-643.5 957,-599.5 957,-599.5 957,-593.5 963,-587.5 969,-587.5 969,-587.5 1055,-587.5 1055,-587.5 1061,-587.5 1067,-593.5 1067,-599.5 1067,-599.5 1067,-643.5 1067,-643.5 1067,-649.5 1061,-655.5 1055,-655.5\"/>\n",
              "<text text-anchor=\"middle\" x=\"1012\" y=\"-640.3\" font-family=\"Helvetica,sans-Serif\" font-size=\"14.00\">entropy = 0.0</text>\n",
              "<text text-anchor=\"middle\" x=\"1012\" y=\"-625.3\" font-family=\"Helvetica,sans-Serif\" font-size=\"14.00\">samples = 114</text>\n",
              "<text text-anchor=\"middle\" x=\"1012\" y=\"-610.3\" font-family=\"Helvetica,sans-Serif\" font-size=\"14.00\">value = [0, 114]</text>\n",
              "<text text-anchor=\"middle\" x=\"1012\" y=\"-595.3\" font-family=\"Helvetica,sans-Serif\" font-size=\"14.00\">class = 1</text>\n",
              "</g>\n",
              "<!-- 20&#45;&gt;26 -->\n",
              "<g id=\"edge26\" class=\"edge\">\n",
              "<title>20&#45;&gt;26</title>\n",
              "<path fill=\"none\" stroke=\"black\" d=\"M913.39,-698.91C928.77,-686.99 945.57,-673.98 960.87,-662.12\"/>\n",
              "<polygon fill=\"black\" stroke=\"black\" points=\"963.43,-664.56 969.19,-655.67 959.15,-659.03 963.43,-664.56\"/>\n",
              "</g>\n",
              "<!-- 22 -->\n",
              "<g id=\"node23\" class=\"node\">\n",
              "<title>22</title>\n",
              "<path fill=\"#e89050\" stroke=\"black\" d=\"M951,-544C951,-544 771,-544 771,-544 765,-544 759,-538 759,-532 759,-532 759,-473 759,-473 759,-467 765,-461 771,-461 771,-461 951,-461 951,-461 957,-461 963,-467 963,-473 963,-473 963,-532 963,-532 963,-538 957,-544 951,-544\"/>\n",
              "<text text-anchor=\"middle\" x=\"861\" y=\"-528.8\" font-family=\"Helvetica,sans-Serif\" font-size=\"14.00\">concave points_worst &lt;= 0.569</text>\n",
              "<text text-anchor=\"middle\" x=\"861\" y=\"-513.8\" font-family=\"Helvetica,sans-Serif\" font-size=\"14.00\">entropy = 0.485</text>\n",
              "<text text-anchor=\"middle\" x=\"861\" y=\"-498.8\" font-family=\"Helvetica,sans-Serif\" font-size=\"14.00\">samples = 19</text>\n",
              "<text text-anchor=\"middle\" x=\"861\" y=\"-483.8\" font-family=\"Helvetica,sans-Serif\" font-size=\"14.00\">value = [17, 2]</text>\n",
              "<text text-anchor=\"middle\" x=\"861\" y=\"-468.8\" font-family=\"Helvetica,sans-Serif\" font-size=\"14.00\">class = 0</text>\n",
              "</g>\n",
              "<!-- 21&#45;&gt;22 -->\n",
              "<g id=\"edge22\" class=\"edge\">\n",
              "<title>21&#45;&gt;22</title>\n",
              "<path fill=\"none\" stroke=\"black\" d=\"M861,-579.91C861,-571.65 861,-562.86 861,-554.3\"/>\n",
              "<polygon fill=\"black\" stroke=\"black\" points=\"864.5,-554.02 861,-544.02 857.5,-554.02 864.5,-554.02\"/>\n",
              "</g>\n",
              "<!-- 25 -->\n",
              "<g id=\"node26\" class=\"node\">\n",
              "<title>25</title>\n",
              "<path fill=\"#399de5\" stroke=\"black\" d=\"M1071,-536.5C1071,-536.5 993,-536.5 993,-536.5 987,-536.5 981,-530.5 981,-524.5 981,-524.5 981,-480.5 981,-480.5 981,-474.5 987,-468.5 993,-468.5 993,-468.5 1071,-468.5 1071,-468.5 1077,-468.5 1083,-474.5 1083,-480.5 1083,-480.5 1083,-524.5 1083,-524.5 1083,-530.5 1077,-536.5 1071,-536.5\"/>\n",
              "<text text-anchor=\"middle\" x=\"1032\" y=\"-521.3\" font-family=\"Helvetica,sans-Serif\" font-size=\"14.00\">entropy = 0.0</text>\n",
              "<text text-anchor=\"middle\" x=\"1032\" y=\"-506.3\" font-family=\"Helvetica,sans-Serif\" font-size=\"14.00\">samples = 20</text>\n",
              "<text text-anchor=\"middle\" x=\"1032\" y=\"-491.3\" font-family=\"Helvetica,sans-Serif\" font-size=\"14.00\">value = [0, 20]</text>\n",
              "<text text-anchor=\"middle\" x=\"1032\" y=\"-476.3\" font-family=\"Helvetica,sans-Serif\" font-size=\"14.00\">class = 1</text>\n",
              "</g>\n",
              "<!-- 21&#45;&gt;25 -->\n",
              "<g id=\"edge25\" class=\"edge\">\n",
              "<title>21&#45;&gt;25</title>\n",
              "<path fill=\"none\" stroke=\"black\" d=\"M920.33,-579.91C938.07,-567.77 957.47,-554.49 975.05,-542.46\"/>\n",
              "<polygon fill=\"black\" stroke=\"black\" points=\"977.25,-545.2 983.53,-536.67 973.3,-539.43 977.25,-545.2\"/>\n",
              "</g>\n",
              "<!-- 23 -->\n",
              "<g id=\"node24\" class=\"node\">\n",
              "<title>23</title>\n",
              "<path fill=\"#e58139\" stroke=\"black\" d=\"M887,-417.5C887,-417.5 809,-417.5 809,-417.5 803,-417.5 797,-411.5 797,-405.5 797,-405.5 797,-361.5 797,-361.5 797,-355.5 803,-349.5 809,-349.5 809,-349.5 887,-349.5 887,-349.5 893,-349.5 899,-355.5 899,-361.5 899,-361.5 899,-405.5 899,-405.5 899,-411.5 893,-417.5 887,-417.5\"/>\n",
              "<text text-anchor=\"middle\" x=\"848\" y=\"-402.3\" font-family=\"Helvetica,sans-Serif\" font-size=\"14.00\">entropy = 0.0</text>\n",
              "<text text-anchor=\"middle\" x=\"848\" y=\"-387.3\" font-family=\"Helvetica,sans-Serif\" font-size=\"14.00\">samples = 17</text>\n",
              "<text text-anchor=\"middle\" x=\"848\" y=\"-372.3\" font-family=\"Helvetica,sans-Serif\" font-size=\"14.00\">value = [17, 0]</text>\n",
              "<text text-anchor=\"middle\" x=\"848\" y=\"-357.3\" font-family=\"Helvetica,sans-Serif\" font-size=\"14.00\">class = 0</text>\n",
              "</g>\n",
              "<!-- 22&#45;&gt;23 -->\n",
              "<g id=\"edge23\" class=\"edge\">\n",
              "<title>22&#45;&gt;23</title>\n",
              "<path fill=\"none\" stroke=\"black\" d=\"M856.49,-460.91C855.3,-450.2 854.01,-438.62 852.81,-427.78\"/>\n",
              "<polygon fill=\"black\" stroke=\"black\" points=\"856.27,-427.22 851.69,-417.67 849.31,-427.99 856.27,-427.22\"/>\n",
              "</g>\n",
              "<!-- 24 -->\n",
              "<g id=\"node25\" class=\"node\">\n",
              "<title>24</title>\n",
              "<path fill=\"#399de5\" stroke=\"black\" d=\"M1001,-417.5C1001,-417.5 929,-417.5 929,-417.5 923,-417.5 917,-411.5 917,-405.5 917,-405.5 917,-361.5 917,-361.5 917,-355.5 923,-349.5 929,-349.5 929,-349.5 1001,-349.5 1001,-349.5 1007,-349.5 1013,-355.5 1013,-361.5 1013,-361.5 1013,-405.5 1013,-405.5 1013,-411.5 1007,-417.5 1001,-417.5\"/>\n",
              "<text text-anchor=\"middle\" x=\"965\" y=\"-402.3\" font-family=\"Helvetica,sans-Serif\" font-size=\"14.00\">entropy = 0.0</text>\n",
              "<text text-anchor=\"middle\" x=\"965\" y=\"-387.3\" font-family=\"Helvetica,sans-Serif\" font-size=\"14.00\">samples = 2</text>\n",
              "<text text-anchor=\"middle\" x=\"965\" y=\"-372.3\" font-family=\"Helvetica,sans-Serif\" font-size=\"14.00\">value = [0, 2]</text>\n",
              "<text text-anchor=\"middle\" x=\"965\" y=\"-357.3\" font-family=\"Helvetica,sans-Serif\" font-size=\"14.00\">class = 1</text>\n",
              "</g>\n",
              "<!-- 22&#45;&gt;24 -->\n",
              "<g id=\"edge24\" class=\"edge\">\n",
              "<title>22&#45;&gt;24</title>\n",
              "<path fill=\"none\" stroke=\"black\" d=\"M897.08,-460.91C907.28,-449.43 918.39,-436.94 928.61,-425.44\"/>\n",
              "<polygon fill=\"black\" stroke=\"black\" points=\"931.49,-427.47 935.52,-417.67 926.26,-422.82 931.49,-427.47\"/>\n",
              "</g>\n",
              "</g>\n",
              "</svg>\n"
            ],
            "text/plain": [
              "<graphviz.sources.Source at 0x7feb70129810>"
            ]
          },
          "metadata": {},
          "output_type": "display_data"
        }
      ],
      "source": [
        "display(graph1)"
      ]
    },
    {
      "cell_type": "code",
      "execution_count": null,
      "id": "f23d134b",
      "metadata": {
        "id": "f23d134b",
        "outputId": "9302e2ca-9a7d-4bf4-d991-9606a8cccdf7"
      },
      "outputs": [
        {
          "data": {
            "image/svg+xml": [
              "<?xml version=\"1.0\" encoding=\"UTF-8\" standalone=\"no\"?>\n",
              "<!DOCTYPE svg PUBLIC \"-//W3C//DTD SVG 1.1//EN\"\n",
              " \"http://www.w3.org/Graphics/SVG/1.1/DTD/svg11.dtd\">\n",
              "<!-- Generated by graphviz version 6.0.1 (20220911.1526)\n",
              " -->\n",
              "<!-- Title: Tree Pages: 1 -->\n",
              "<svg width=\"1431pt\" height=\"909pt\"\n",
              " viewBox=\"0.00 0.00 1430.50 909.00\" xmlns=\"http://www.w3.org/2000/svg\" xmlns:xlink=\"http://www.w3.org/1999/xlink\">\n",
              "<g id=\"graph0\" class=\"graph\" transform=\"scale(1 1) rotate(0) translate(4 905)\">\n",
              "<title>Tree</title>\n",
              "<polygon fill=\"white\" stroke=\"none\" points=\"-4,4 -4,-905 1426.5,-905 1426.5,4 -4,4\"/>\n",
              "<!-- 0 -->\n",
              "<g id=\"node1\" class=\"node\">\n",
              "<title>0</title>\n",
              "<path fill=\"#f5ccaf\" stroke=\"black\" d=\"M963.5,-901C963.5,-901 781.5,-901 781.5,-901 775.5,-901 769.5,-895 769.5,-889 769.5,-889 769.5,-830 769.5,-830 769.5,-824 775.5,-818 781.5,-818 781.5,-818 963.5,-818 963.5,-818 969.5,-818 975.5,-824 975.5,-830 975.5,-830 975.5,-889 975.5,-889 975.5,-895 969.5,-901 963.5,-901\"/>\n",
              "<text text-anchor=\"middle\" x=\"872.5\" y=\"-885.8\" font-family=\"Helvetica,sans-Serif\" font-size=\"14.00\">concave points_mean &lt;= 0.255</text>\n",
              "<text text-anchor=\"middle\" x=\"872.5\" y=\"-870.8\" font-family=\"Helvetica,sans-Serif\" font-size=\"14.00\">gini = 0.468</text>\n",
              "<text text-anchor=\"middle\" x=\"872.5\" y=\"-855.8\" font-family=\"Helvetica,sans-Serif\" font-size=\"14.00\">samples = 398</text>\n",
              "<text text-anchor=\"middle\" x=\"872.5\" y=\"-840.8\" font-family=\"Helvetica,sans-Serif\" font-size=\"14.00\">value = [249, 149]</text>\n",
              "<text text-anchor=\"middle\" x=\"872.5\" y=\"-825.8\" font-family=\"Helvetica,sans-Serif\" font-size=\"14.00\">class = 0</text>\n",
              "</g>\n",
              "<!-- 1 -->\n",
              "<g id=\"node2\" class=\"node\">\n",
              "<title>1</title>\n",
              "<path fill=\"#e68844\" stroke=\"black\" d=\"M845,-782C845,-782 718,-782 718,-782 712,-782 706,-776 706,-770 706,-770 706,-711 706,-711 706,-705 712,-699 718,-699 718,-699 845,-699 845,-699 851,-699 857,-705 857,-711 857,-711 857,-770 857,-770 857,-776 851,-782 845,-782\"/>\n",
              "<text text-anchor=\"middle\" x=\"781.5\" y=\"-766.8\" font-family=\"Helvetica,sans-Serif\" font-size=\"14.00\">radius_worst &lt;= 0.317</text>\n",
              "<text text-anchor=\"middle\" x=\"781.5\" y=\"-751.8\" font-family=\"Helvetica,sans-Serif\" font-size=\"14.00\">gini = 0.1</text>\n",
              "<text text-anchor=\"middle\" x=\"781.5\" y=\"-736.8\" font-family=\"Helvetica,sans-Serif\" font-size=\"14.00\">samples = 245</text>\n",
              "<text text-anchor=\"middle\" x=\"781.5\" y=\"-721.8\" font-family=\"Helvetica,sans-Serif\" font-size=\"14.00\">value = [232, 13]</text>\n",
              "<text text-anchor=\"middle\" x=\"781.5\" y=\"-706.8\" font-family=\"Helvetica,sans-Serif\" font-size=\"14.00\">class = 0</text>\n",
              "</g>\n",
              "<!-- 0&#45;&gt;1 -->\n",
              "<g id=\"edge1\" class=\"edge\">\n",
              "<title>0&#45;&gt;1</title>\n",
              "<path fill=\"none\" stroke=\"black\" d=\"M840.93,-817.91C833.94,-808.92 826.47,-799.32 819.26,-790.05\"/>\n",
              "<polygon fill=\"black\" stroke=\"black\" points=\"821.92,-787.77 813.02,-782.02 816.39,-792.06 821.92,-787.77\"/>\n",
              "<text text-anchor=\"middle\" x=\"809.92\" y=\"-803.13\" font-family=\"Helvetica,sans-Serif\" font-size=\"14.00\">True</text>\n",
              "</g>\n",
              "<!-- 22 -->\n",
              "<g id=\"node23\" class=\"node\">\n",
              "<title>22</title>\n",
              "<path fill=\"#52a9e8\" stroke=\"black\" d=\"M1059,-782C1059,-782 928,-782 928,-782 922,-782 916,-776 916,-770 916,-770 916,-711 916,-711 916,-705 922,-699 928,-699 928,-699 1059,-699 1059,-699 1065,-699 1071,-705 1071,-711 1071,-711 1071,-770 1071,-770 1071,-776 1065,-782 1059,-782\"/>\n",
              "<text text-anchor=\"middle\" x=\"993.5\" y=\"-766.8\" font-family=\"Helvetica,sans-Serif\" font-size=\"14.00\">texture_worst &lt;= 0.223</text>\n",
              "<text text-anchor=\"middle\" x=\"993.5\" y=\"-751.8\" font-family=\"Helvetica,sans-Serif\" font-size=\"14.00\">gini = 0.198</text>\n",
              "<text text-anchor=\"middle\" x=\"993.5\" y=\"-736.8\" font-family=\"Helvetica,sans-Serif\" font-size=\"14.00\">samples = 153</text>\n",
              "<text text-anchor=\"middle\" x=\"993.5\" y=\"-721.8\" font-family=\"Helvetica,sans-Serif\" font-size=\"14.00\">value = [17, 136]</text>\n",
              "<text text-anchor=\"middle\" x=\"993.5\" y=\"-706.8\" font-family=\"Helvetica,sans-Serif\" font-size=\"14.00\">class = 1</text>\n",
              "</g>\n",
              "<!-- 0&#45;&gt;22 -->\n",
              "<g id=\"edge22\" class=\"edge\">\n",
              "<title>0&#45;&gt;22</title>\n",
              "<path fill=\"none\" stroke=\"black\" d=\"M914.48,-817.91C924.05,-808.65 934.31,-798.73 944.16,-789.21\"/>\n",
              "<polygon fill=\"black\" stroke=\"black\" points=\"946.84,-791.49 951.59,-782.02 941.97,-786.46 946.84,-791.49\"/>\n",
              "<text text-anchor=\"middle\" x=\"951.17\" y=\"-803.32\" font-family=\"Helvetica,sans-Serif\" font-size=\"14.00\">False</text>\n",
              "</g>\n",
              "<!-- 2 -->\n",
              "<g id=\"node3\" class=\"node\">\n",
              "<title>2</title>\n",
              "<path fill=\"#e6843d\" stroke=\"black\" d=\"M605,-663C605,-663 496,-663 496,-663 490,-663 484,-657 484,-651 484,-651 484,-592 484,-592 484,-586 490,-580 496,-580 496,-580 605,-580 605,-580 611,-580 617,-586 617,-592 617,-592 617,-651 617,-651 617,-657 611,-663 605,-663\"/>\n",
              "<text text-anchor=\"middle\" x=\"550.5\" y=\"-647.8\" font-family=\"Helvetica,sans-Serif\" font-size=\"14.00\">radius_se &lt;= 0.186</text>\n",
              "<text text-anchor=\"middle\" x=\"550.5\" y=\"-632.8\" font-family=\"Helvetica,sans-Serif\" font-size=\"14.00\">gini = 0.043</text>\n",
              "<text text-anchor=\"middle\" x=\"550.5\" y=\"-617.8\" font-family=\"Helvetica,sans-Serif\" font-size=\"14.00\">samples = 230</text>\n",
              "<text text-anchor=\"middle\" x=\"550.5\" y=\"-602.8\" font-family=\"Helvetica,sans-Serif\" font-size=\"14.00\">value = [225, 5]</text>\n",
              "<text text-anchor=\"middle\" x=\"550.5\" y=\"-587.8\" font-family=\"Helvetica,sans-Serif\" font-size=\"14.00\">class = 0</text>\n",
              "</g>\n",
              "<!-- 1&#45;&gt;2 -->\n",
              "<g id=\"edge2\" class=\"edge\">\n",
              "<title>1&#45;&gt;2</title>\n",
              "<path fill=\"none\" stroke=\"black\" d=\"M705.86,-701.19C680.43,-688.31 652.06,-673.94 626.6,-661.04\"/>\n",
              "<polygon fill=\"black\" stroke=\"black\" points=\"627.86,-657.76 617.36,-656.36 624.7,-664 627.86,-657.76\"/>\n",
              "</g>\n",
              "<!-- 17 -->\n",
              "<g id=\"node18\" class=\"node\">\n",
              "<title>17</title>\n",
              "<path fill=\"#e6f3fc\" stroke=\"black\" d=\"M848.5,-663C848.5,-663 714.5,-663 714.5,-663 708.5,-663 702.5,-657 702.5,-651 702.5,-651 702.5,-592 702.5,-592 702.5,-586 708.5,-580 714.5,-580 714.5,-580 848.5,-580 848.5,-580 854.5,-580 860.5,-586 860.5,-592 860.5,-592 860.5,-651 860.5,-651 860.5,-657 854.5,-663 848.5,-663\"/>\n",
              "<text text-anchor=\"middle\" x=\"781.5\" y=\"-647.8\" font-family=\"Helvetica,sans-Serif\" font-size=\"14.00\">texture_mean &lt;= 0.219</text>\n",
              "<text text-anchor=\"middle\" x=\"781.5\" y=\"-632.8\" font-family=\"Helvetica,sans-Serif\" font-size=\"14.00\">gini = 0.498</text>\n",
              "<text text-anchor=\"middle\" x=\"781.5\" y=\"-617.8\" font-family=\"Helvetica,sans-Serif\" font-size=\"14.00\">samples = 15</text>\n",
              "<text text-anchor=\"middle\" x=\"781.5\" y=\"-602.8\" font-family=\"Helvetica,sans-Serif\" font-size=\"14.00\">value = [7, 8]</text>\n",
              "<text text-anchor=\"middle\" x=\"781.5\" y=\"-587.8\" font-family=\"Helvetica,sans-Serif\" font-size=\"14.00\">class = 1</text>\n",
              "</g>\n",
              "<!-- 1&#45;&gt;17 -->\n",
              "<g id=\"edge17\" class=\"edge\">\n",
              "<title>1&#45;&gt;17</title>\n",
              "<path fill=\"none\" stroke=\"black\" d=\"M781.5,-698.91C781.5,-690.65 781.5,-681.86 781.5,-673.3\"/>\n",
              "<polygon fill=\"black\" stroke=\"black\" points=\"785,-673.02 781.5,-663.02 778,-673.02 785,-673.02\"/>\n",
              "</g>\n",
              "<!-- 3 -->\n",
              "<g id=\"node4\" class=\"node\">\n",
              "<title>3</title>\n",
              "<path fill=\"#e5833c\" stroke=\"black\" d=\"M451.5,-544C451.5,-544 287.5,-544 287.5,-544 281.5,-544 275.5,-538 275.5,-532 275.5,-532 275.5,-473 275.5,-473 275.5,-467 281.5,-461 287.5,-461 287.5,-461 451.5,-461 451.5,-461 457.5,-461 463.5,-467 463.5,-473 463.5,-473 463.5,-532 463.5,-532 463.5,-538 457.5,-544 451.5,-544\"/>\n",
              "<text text-anchor=\"middle\" x=\"369.5\" y=\"-528.8\" font-family=\"Helvetica,sans-Serif\" font-size=\"14.00\">smoothness_worst &lt;= 0.703</text>\n",
              "<text text-anchor=\"middle\" x=\"369.5\" y=\"-513.8\" font-family=\"Helvetica,sans-Serif\" font-size=\"14.00\">gini = 0.026</text>\n",
              "<text text-anchor=\"middle\" x=\"369.5\" y=\"-498.8\" font-family=\"Helvetica,sans-Serif\" font-size=\"14.00\">samples = 227</text>\n",
              "<text text-anchor=\"middle\" x=\"369.5\" y=\"-483.8\" font-family=\"Helvetica,sans-Serif\" font-size=\"14.00\">value = [224, 3]</text>\n",
              "<text text-anchor=\"middle\" x=\"369.5\" y=\"-468.8\" font-family=\"Helvetica,sans-Serif\" font-size=\"14.00\">class = 0</text>\n",
              "</g>\n",
              "<!-- 2&#45;&gt;3 -->\n",
              "<g id=\"edge3\" class=\"edge\">\n",
              "<title>2&#45;&gt;3</title>\n",
              "<path fill=\"none\" stroke=\"black\" d=\"M487.7,-579.91C472.54,-570.11 456.23,-559.56 440.71,-549.53\"/>\n",
              "<polygon fill=\"black\" stroke=\"black\" points=\"442.48,-546.51 432.19,-544.02 438.68,-552.39 442.48,-546.51\"/>\n",
              "</g>\n",
              "<!-- 14 -->\n",
              "<g id=\"node15\" class=\"node\">\n",
              "<title>14</title>\n",
              "<path fill=\"#9ccef2\" stroke=\"black\" d=\"M607,-544C607,-544 494,-544 494,-544 488,-544 482,-538 482,-532 482,-532 482,-473 482,-473 482,-467 488,-461 494,-461 494,-461 607,-461 607,-461 613,-461 619,-467 619,-473 619,-473 619,-532 619,-532 619,-538 613,-544 607,-544\"/>\n",
              "<text text-anchor=\"middle\" x=\"550.5\" y=\"-528.8\" font-family=\"Helvetica,sans-Serif\" font-size=\"14.00\">texture_se &lt;= 0.346</text>\n",
              "<text text-anchor=\"middle\" x=\"550.5\" y=\"-513.8\" font-family=\"Helvetica,sans-Serif\" font-size=\"14.00\">gini = 0.444</text>\n",
              "<text text-anchor=\"middle\" x=\"550.5\" y=\"-498.8\" font-family=\"Helvetica,sans-Serif\" font-size=\"14.00\">samples = 3</text>\n",
              "<text text-anchor=\"middle\" x=\"550.5\" y=\"-483.8\" font-family=\"Helvetica,sans-Serif\" font-size=\"14.00\">value = [1, 2]</text>\n",
              "<text text-anchor=\"middle\" x=\"550.5\" y=\"-468.8\" font-family=\"Helvetica,sans-Serif\" font-size=\"14.00\">class = 1</text>\n",
              "</g>\n",
              "<!-- 2&#45;&gt;14 -->\n",
              "<g id=\"edge14\" class=\"edge\">\n",
              "<title>2&#45;&gt;14</title>\n",
              "<path fill=\"none\" stroke=\"black\" d=\"M550.5,-579.91C550.5,-571.65 550.5,-562.86 550.5,-554.3\"/>\n",
              "<polygon fill=\"black\" stroke=\"black\" points=\"554,-554.02 550.5,-544.02 547,-554.02 554,-554.02\"/>\n",
              "</g>\n",
              "<!-- 4 -->\n",
              "<g id=\"node5\" class=\"node\">\n",
              "<title>4</title>\n",
              "<path fill=\"#e5823b\" stroke=\"black\" d=\"M308.5,-425C308.5,-425 162.5,-425 162.5,-425 156.5,-425 150.5,-419 150.5,-413 150.5,-413 150.5,-354 150.5,-354 150.5,-348 156.5,-342 162.5,-342 162.5,-342 308.5,-342 308.5,-342 314.5,-342 320.5,-348 320.5,-354 320.5,-354 320.5,-413 320.5,-413 320.5,-419 314.5,-425 308.5,-425\"/>\n",
              "<text text-anchor=\"middle\" x=\"235.5\" y=\"-409.8\" font-family=\"Helvetica,sans-Serif\" font-size=\"14.00\">smoothness_se &lt;= 0.054</text>\n",
              "<text text-anchor=\"middle\" x=\"235.5\" y=\"-394.8\" font-family=\"Helvetica,sans-Serif\" font-size=\"14.00\">gini = 0.018</text>\n",
              "<text text-anchor=\"middle\" x=\"235.5\" y=\"-379.8\" font-family=\"Helvetica,sans-Serif\" font-size=\"14.00\">samples = 226</text>\n",
              "<text text-anchor=\"middle\" x=\"235.5\" y=\"-364.8\" font-family=\"Helvetica,sans-Serif\" font-size=\"14.00\">value = [224, 2]</text>\n",
              "<text text-anchor=\"middle\" x=\"235.5\" y=\"-349.8\" font-family=\"Helvetica,sans-Serif\" font-size=\"14.00\">class = 0</text>\n",
              "</g>\n",
              "<!-- 3&#45;&gt;4 -->\n",
              "<g id=\"edge4\" class=\"edge\">\n",
              "<title>3&#45;&gt;4</title>\n",
              "<path fill=\"none\" stroke=\"black\" d=\"M323.01,-460.91C312.2,-451.47 300.6,-441.34 289.5,-431.65\"/>\n",
              "<polygon fill=\"black\" stroke=\"black\" points=\"291.74,-428.96 281.91,-425.02 287.14,-434.23 291.74,-428.96\"/>\n",
              "</g>\n",
              "<!-- 13 -->\n",
              "<g id=\"node14\" class=\"node\">\n",
              "<title>13</title>\n",
              "<path fill=\"#399de5\" stroke=\"black\" d=\"M422,-417.5C422,-417.5 351,-417.5 351,-417.5 345,-417.5 339,-411.5 339,-405.5 339,-405.5 339,-361.5 339,-361.5 339,-355.5 345,-349.5 351,-349.5 351,-349.5 422,-349.5 422,-349.5 428,-349.5 434,-355.5 434,-361.5 434,-361.5 434,-405.5 434,-405.5 434,-411.5 428,-417.5 422,-417.5\"/>\n",
              "<text text-anchor=\"middle\" x=\"386.5\" y=\"-402.3\" font-family=\"Helvetica,sans-Serif\" font-size=\"14.00\">gini = 0.0</text>\n",
              "<text text-anchor=\"middle\" x=\"386.5\" y=\"-387.3\" font-family=\"Helvetica,sans-Serif\" font-size=\"14.00\">samples = 1</text>\n",
              "<text text-anchor=\"middle\" x=\"386.5\" y=\"-372.3\" font-family=\"Helvetica,sans-Serif\" font-size=\"14.00\">value = [0, 1]</text>\n",
              "<text text-anchor=\"middle\" x=\"386.5\" y=\"-357.3\" font-family=\"Helvetica,sans-Serif\" font-size=\"14.00\">class = 1</text>\n",
              "</g>\n",
              "<!-- 3&#45;&gt;13 -->\n",
              "<g id=\"edge13\" class=\"edge\">\n",
              "<title>3&#45;&gt;13</title>\n",
              "<path fill=\"none\" stroke=\"black\" d=\"M375.4,-460.91C376.95,-450.2 378.64,-438.62 380.21,-427.78\"/>\n",
              "<polygon fill=\"black\" stroke=\"black\" points=\"383.71,-428.07 381.68,-417.67 376.78,-427.06 383.71,-428.07\"/>\n",
              "</g>\n",
              "<!-- 5 -->\n",
              "<g id=\"node6\" class=\"node\">\n",
              "<title>5</title>\n",
              "<path fill=\"#eca06a\" stroke=\"black\" d=\"M218.5,-306C218.5,-306 70.5,-306 70.5,-306 64.5,-306 58.5,-300 58.5,-294 58.5,-294 58.5,-235 58.5,-235 58.5,-229 64.5,-223 70.5,-223 70.5,-223 218.5,-223 218.5,-223 224.5,-223 230.5,-229 230.5,-235 230.5,-235 230.5,-294 230.5,-294 230.5,-300 224.5,-306 218.5,-306\"/>\n",
              "<text text-anchor=\"middle\" x=\"144.5\" y=\"-290.8\" font-family=\"Helvetica,sans-Serif\" font-size=\"14.00\">perimeter_worst &lt;= 0.246</text>\n",
              "<text text-anchor=\"middle\" x=\"144.5\" y=\"-275.8\" font-family=\"Helvetica,sans-Serif\" font-size=\"14.00\">gini = 0.32</text>\n",
              "<text text-anchor=\"middle\" x=\"144.5\" y=\"-260.8\" font-family=\"Helvetica,sans-Serif\" font-size=\"14.00\">samples = 5</text>\n",
              "<text text-anchor=\"middle\" x=\"144.5\" y=\"-245.8\" font-family=\"Helvetica,sans-Serif\" font-size=\"14.00\">value = [4, 1]</text>\n",
              "<text text-anchor=\"middle\" x=\"144.5\" y=\"-230.8\" font-family=\"Helvetica,sans-Serif\" font-size=\"14.00\">class = 0</text>\n",
              "</g>\n",
              "<!-- 4&#45;&gt;5 -->\n",
              "<g id=\"edge5\" class=\"edge\">\n",
              "<title>4&#45;&gt;5</title>\n",
              "<path fill=\"none\" stroke=\"black\" d=\"M203.93,-341.91C196.94,-332.92 189.47,-323.32 182.26,-314.05\"/>\n",
              "<polygon fill=\"black\" stroke=\"black\" points=\"184.92,-311.77 176.02,-306.02 179.39,-316.06 184.92,-311.77\"/>\n",
              "</g>\n",
              "<!-- 8 -->\n",
              "<g id=\"node9\" class=\"node\">\n",
              "<title>8</title>\n",
              "<path fill=\"#e5823a\" stroke=\"black\" d=\"M392,-306C392,-306 261,-306 261,-306 255,-306 249,-300 249,-294 249,-294 249,-235 249,-235 249,-229 255,-223 261,-223 261,-223 392,-223 392,-223 398,-223 404,-229 404,-235 404,-235 404,-294 404,-294 404,-300 398,-306 392,-306\"/>\n",
              "<text text-anchor=\"middle\" x=\"326.5\" y=\"-290.8\" font-family=\"Helvetica,sans-Serif\" font-size=\"14.00\">texture_worst &lt;= 0.568</text>\n",
              "<text text-anchor=\"middle\" x=\"326.5\" y=\"-275.8\" font-family=\"Helvetica,sans-Serif\" font-size=\"14.00\">gini = 0.009</text>\n",
              "<text text-anchor=\"middle\" x=\"326.5\" y=\"-260.8\" font-family=\"Helvetica,sans-Serif\" font-size=\"14.00\">samples = 221</text>\n",
              "<text text-anchor=\"middle\" x=\"326.5\" y=\"-245.8\" font-family=\"Helvetica,sans-Serif\" font-size=\"14.00\">value = [220, 1]</text>\n",
              "<text text-anchor=\"middle\" x=\"326.5\" y=\"-230.8\" font-family=\"Helvetica,sans-Serif\" font-size=\"14.00\">class = 0</text>\n",
              "</g>\n",
              "<!-- 4&#45;&gt;8 -->\n",
              "<g id=\"edge8\" class=\"edge\">\n",
              "<title>4&#45;&gt;8</title>\n",
              "<path fill=\"none\" stroke=\"black\" d=\"M267.07,-341.91C274.06,-332.92 281.53,-323.32 288.74,-314.05\"/>\n",
              "<polygon fill=\"black\" stroke=\"black\" points=\"291.61,-316.06 294.98,-306.02 286.08,-311.77 291.61,-316.06\"/>\n",
              "</g>\n",
              "<!-- 6 -->\n",
              "<g id=\"node7\" class=\"node\">\n",
              "<title>6</title>\n",
              "<path fill=\"#e58139\" stroke=\"black\" d=\"M83,-179.5C83,-179.5 12,-179.5 12,-179.5 6,-179.5 0,-173.5 0,-167.5 0,-167.5 0,-123.5 0,-123.5 0,-117.5 6,-111.5 12,-111.5 12,-111.5 83,-111.5 83,-111.5 89,-111.5 95,-117.5 95,-123.5 95,-123.5 95,-167.5 95,-167.5 95,-173.5 89,-179.5 83,-179.5\"/>\n",
              "<text text-anchor=\"middle\" x=\"47.5\" y=\"-164.3\" font-family=\"Helvetica,sans-Serif\" font-size=\"14.00\">gini = 0.0</text>\n",
              "<text text-anchor=\"middle\" x=\"47.5\" y=\"-149.3\" font-family=\"Helvetica,sans-Serif\" font-size=\"14.00\">samples = 4</text>\n",
              "<text text-anchor=\"middle\" x=\"47.5\" y=\"-134.3\" font-family=\"Helvetica,sans-Serif\" font-size=\"14.00\">value = [4, 0]</text>\n",
              "<text text-anchor=\"middle\" x=\"47.5\" y=\"-119.3\" font-family=\"Helvetica,sans-Serif\" font-size=\"14.00\">class = 0</text>\n",
              "</g>\n",
              "<!-- 5&#45;&gt;6 -->\n",
              "<g id=\"edge6\" class=\"edge\">\n",
              "<title>5&#45;&gt;6</title>\n",
              "<path fill=\"none\" stroke=\"black\" d=\"M110.85,-222.91C101.33,-211.43 90.97,-198.94 81.44,-187.44\"/>\n",
              "<polygon fill=\"black\" stroke=\"black\" points=\"84.07,-185.13 75,-179.67 78.69,-189.6 84.07,-185.13\"/>\n",
              "</g>\n",
              "<!-- 7 -->\n",
              "<g id=\"node8\" class=\"node\">\n",
              "<title>7</title>\n",
              "<path fill=\"#399de5\" stroke=\"black\" d=\"M196,-179.5C196,-179.5 125,-179.5 125,-179.5 119,-179.5 113,-173.5 113,-167.5 113,-167.5 113,-123.5 113,-123.5 113,-117.5 119,-111.5 125,-111.5 125,-111.5 196,-111.5 196,-111.5 202,-111.5 208,-117.5 208,-123.5 208,-123.5 208,-167.5 208,-167.5 208,-173.5 202,-179.5 196,-179.5\"/>\n",
              "<text text-anchor=\"middle\" x=\"160.5\" y=\"-164.3\" font-family=\"Helvetica,sans-Serif\" font-size=\"14.00\">gini = 0.0</text>\n",
              "<text text-anchor=\"middle\" x=\"160.5\" y=\"-149.3\" font-family=\"Helvetica,sans-Serif\" font-size=\"14.00\">samples = 1</text>\n",
              "<text text-anchor=\"middle\" x=\"160.5\" y=\"-134.3\" font-family=\"Helvetica,sans-Serif\" font-size=\"14.00\">value = [0, 1]</text>\n",
              "<text text-anchor=\"middle\" x=\"160.5\" y=\"-119.3\" font-family=\"Helvetica,sans-Serif\" font-size=\"14.00\">class = 1</text>\n",
              "</g>\n",
              "<!-- 5&#45;&gt;7 -->\n",
              "<g id=\"edge7\" class=\"edge\">\n",
              "<title>5&#45;&gt;7</title>\n",
              "<path fill=\"none\" stroke=\"black\" d=\"M150.05,-222.91C151.51,-212.2 153.1,-200.62 154.58,-189.78\"/>\n",
              "<polygon fill=\"black\" stroke=\"black\" points=\"158.08,-190.05 155.96,-179.67 151.14,-189.1 158.08,-190.05\"/>\n",
              "</g>\n",
              "<!-- 9 -->\n",
              "<g id=\"node10\" class=\"node\">\n",
              "<title>9</title>\n",
              "<path fill=\"#e58139\" stroke=\"black\" d=\"M354.5,-179.5C354.5,-179.5 268.5,-179.5 268.5,-179.5 262.5,-179.5 256.5,-173.5 256.5,-167.5 256.5,-167.5 256.5,-123.5 256.5,-123.5 256.5,-117.5 262.5,-111.5 268.5,-111.5 268.5,-111.5 354.5,-111.5 354.5,-111.5 360.5,-111.5 366.5,-117.5 366.5,-123.5 366.5,-123.5 366.5,-167.5 366.5,-167.5 366.5,-173.5 360.5,-179.5 354.5,-179.5\"/>\n",
              "<text text-anchor=\"middle\" x=\"311.5\" y=\"-164.3\" font-family=\"Helvetica,sans-Serif\" font-size=\"14.00\">gini = 0.0</text>\n",
              "<text text-anchor=\"middle\" x=\"311.5\" y=\"-149.3\" font-family=\"Helvetica,sans-Serif\" font-size=\"14.00\">samples = 208</text>\n",
              "<text text-anchor=\"middle\" x=\"311.5\" y=\"-134.3\" font-family=\"Helvetica,sans-Serif\" font-size=\"14.00\">value = [208, 0]</text>\n",
              "<text text-anchor=\"middle\" x=\"311.5\" y=\"-119.3\" font-family=\"Helvetica,sans-Serif\" font-size=\"14.00\">class = 0</text>\n",
              "</g>\n",
              "<!-- 8&#45;&gt;9 -->\n",
              "<g id=\"edge9\" class=\"edge\">\n",
              "<title>8&#45;&gt;9</title>\n",
              "<path fill=\"none\" stroke=\"black\" d=\"M321.3,-222.91C319.92,-212.2 318.44,-200.62 317.05,-189.78\"/>\n",
              "<polygon fill=\"black\" stroke=\"black\" points=\"320.5,-189.14 315.75,-179.67 313.55,-190.03 320.5,-189.14\"/>\n",
              "</g>\n",
              "<!-- 10 -->\n",
              "<g id=\"node11\" class=\"node\">\n",
              "<title>10</title>\n",
              "<path fill=\"#e78c49\" stroke=\"black\" d=\"M528,-187C528,-187 397,-187 397,-187 391,-187 385,-181 385,-175 385,-175 385,-116 385,-116 385,-110 391,-104 397,-104 397,-104 528,-104 528,-104 534,-104 540,-110 540,-116 540,-116 540,-175 540,-175 540,-181 534,-187 528,-187\"/>\n",
              "<text text-anchor=\"middle\" x=\"462.5\" y=\"-171.8\" font-family=\"Helvetica,sans-Serif\" font-size=\"14.00\">texture_worst &lt;= 0.599</text>\n",
              "<text text-anchor=\"middle\" x=\"462.5\" y=\"-156.8\" font-family=\"Helvetica,sans-Serif\" font-size=\"14.00\">gini = 0.142</text>\n",
              "<text text-anchor=\"middle\" x=\"462.5\" y=\"-141.8\" font-family=\"Helvetica,sans-Serif\" font-size=\"14.00\">samples = 13</text>\n",
              "<text text-anchor=\"middle\" x=\"462.5\" y=\"-126.8\" font-family=\"Helvetica,sans-Serif\" font-size=\"14.00\">value = [12, 1]</text>\n",
              "<text text-anchor=\"middle\" x=\"462.5\" y=\"-111.8\" font-family=\"Helvetica,sans-Serif\" font-size=\"14.00\">class = 0</text>\n",
              "</g>\n",
              "<!-- 8&#45;&gt;10 -->\n",
              "<g id=\"edge10\" class=\"edge\">\n",
              "<title>8&#45;&gt;10</title>\n",
              "<path fill=\"none\" stroke=\"black\" d=\"M373.68,-222.91C384.66,-213.47 396.43,-203.34 407.69,-193.65\"/>\n",
              "<polygon fill=\"black\" stroke=\"black\" points=\"410.1,-196.2 415.4,-187.02 405.54,-190.89 410.1,-196.2\"/>\n",
              "</g>\n",
              "<!-- 11 -->\n",
              "<g id=\"node12\" class=\"node\">\n",
              "<title>11</title>\n",
              "<path fill=\"#399de5\" stroke=\"black\" d=\"M439,-68C439,-68 368,-68 368,-68 362,-68 356,-62 356,-56 356,-56 356,-12 356,-12 356,-6 362,0 368,0 368,0 439,0 439,0 445,0 451,-6 451,-12 451,-12 451,-56 451,-56 451,-62 445,-68 439,-68\"/>\n",
              "<text text-anchor=\"middle\" x=\"403.5\" y=\"-52.8\" font-family=\"Helvetica,sans-Serif\" font-size=\"14.00\">gini = 0.0</text>\n",
              "<text text-anchor=\"middle\" x=\"403.5\" y=\"-37.8\" font-family=\"Helvetica,sans-Serif\" font-size=\"14.00\">samples = 1</text>\n",
              "<text text-anchor=\"middle\" x=\"403.5\" y=\"-22.8\" font-family=\"Helvetica,sans-Serif\" font-size=\"14.00\">value = [0, 1]</text>\n",
              "<text text-anchor=\"middle\" x=\"403.5\" y=\"-7.8\" font-family=\"Helvetica,sans-Serif\" font-size=\"14.00\">class = 1</text>\n",
              "</g>\n",
              "<!-- 10&#45;&gt;11 -->\n",
              "<g id=\"edge11\" class=\"edge\">\n",
              "<title>10&#45;&gt;11</title>\n",
              "<path fill=\"none\" stroke=\"black\" d=\"M440.53,-103.73C435.86,-95.06 430.92,-85.9 426.23,-77.18\"/>\n",
              "<polygon fill=\"black\" stroke=\"black\" points=\"429.27,-75.44 421.44,-68.3 423.1,-78.76 429.27,-75.44\"/>\n",
              "</g>\n",
              "<!-- 12 -->\n",
              "<g id=\"node13\" class=\"node\">\n",
              "<title>12</title>\n",
              "<path fill=\"#e58139\" stroke=\"black\" d=\"M559.5,-68C559.5,-68 481.5,-68 481.5,-68 475.5,-68 469.5,-62 469.5,-56 469.5,-56 469.5,-12 469.5,-12 469.5,-6 475.5,0 481.5,0 481.5,0 559.5,0 559.5,0 565.5,0 571.5,-6 571.5,-12 571.5,-12 571.5,-56 571.5,-56 571.5,-62 565.5,-68 559.5,-68\"/>\n",
              "<text text-anchor=\"middle\" x=\"520.5\" y=\"-52.8\" font-family=\"Helvetica,sans-Serif\" font-size=\"14.00\">gini = 0.0</text>\n",
              "<text text-anchor=\"middle\" x=\"520.5\" y=\"-37.8\" font-family=\"Helvetica,sans-Serif\" font-size=\"14.00\">samples = 12</text>\n",
              "<text text-anchor=\"middle\" x=\"520.5\" y=\"-22.8\" font-family=\"Helvetica,sans-Serif\" font-size=\"14.00\">value = [12, 0]</text>\n",
              "<text text-anchor=\"middle\" x=\"520.5\" y=\"-7.8\" font-family=\"Helvetica,sans-Serif\" font-size=\"14.00\">class = 0</text>\n",
              "</g>\n",
              "<!-- 10&#45;&gt;12 -->\n",
              "<g id=\"edge12\" class=\"edge\">\n",
              "<title>10&#45;&gt;12</title>\n",
              "<path fill=\"none\" stroke=\"black\" d=\"M484.1,-103.73C488.69,-95.06 493.54,-85.9 498.16,-77.18\"/>\n",
              "<polygon fill=\"black\" stroke=\"black\" points=\"501.27,-78.77 502.86,-68.3 495.09,-75.5 501.27,-78.77\"/>\n",
              "</g>\n",
              "<!-- 15 -->\n",
              "<g id=\"node16\" class=\"node\">\n",
              "<title>15</title>\n",
              "<path fill=\"#e58139\" stroke=\"black\" d=\"M569,-417.5C569,-417.5 498,-417.5 498,-417.5 492,-417.5 486,-411.5 486,-405.5 486,-405.5 486,-361.5 486,-361.5 486,-355.5 492,-349.5 498,-349.5 498,-349.5 569,-349.5 569,-349.5 575,-349.5 581,-355.5 581,-361.5 581,-361.5 581,-405.5 581,-405.5 581,-411.5 575,-417.5 569,-417.5\"/>\n",
              "<text text-anchor=\"middle\" x=\"533.5\" y=\"-402.3\" font-family=\"Helvetica,sans-Serif\" font-size=\"14.00\">gini = 0.0</text>\n",
              "<text text-anchor=\"middle\" x=\"533.5\" y=\"-387.3\" font-family=\"Helvetica,sans-Serif\" font-size=\"14.00\">samples = 1</text>\n",
              "<text text-anchor=\"middle\" x=\"533.5\" y=\"-372.3\" font-family=\"Helvetica,sans-Serif\" font-size=\"14.00\">value = [1, 0]</text>\n",
              "<text text-anchor=\"middle\" x=\"533.5\" y=\"-357.3\" font-family=\"Helvetica,sans-Serif\" font-size=\"14.00\">class = 0</text>\n",
              "</g>\n",
              "<!-- 14&#45;&gt;15 -->\n",
              "<g id=\"edge15\" class=\"edge\">\n",
              "<title>14&#45;&gt;15</title>\n",
              "<path fill=\"none\" stroke=\"black\" d=\"M544.6,-460.91C543.05,-450.2 541.36,-438.62 539.79,-427.78\"/>\n",
              "<polygon fill=\"black\" stroke=\"black\" points=\"543.22,-427.06 538.32,-417.67 536.29,-428.07 543.22,-427.06\"/>\n",
              "</g>\n",
              "<!-- 16 -->\n",
              "<g id=\"node17\" class=\"node\">\n",
              "<title>16</title>\n",
              "<path fill=\"#399de5\" stroke=\"black\" d=\"M682,-417.5C682,-417.5 611,-417.5 611,-417.5 605,-417.5 599,-411.5 599,-405.5 599,-405.5 599,-361.5 599,-361.5 599,-355.5 605,-349.5 611,-349.5 611,-349.5 682,-349.5 682,-349.5 688,-349.5 694,-355.5 694,-361.5 694,-361.5 694,-405.5 694,-405.5 694,-411.5 688,-417.5 682,-417.5\"/>\n",
              "<text text-anchor=\"middle\" x=\"646.5\" y=\"-402.3\" font-family=\"Helvetica,sans-Serif\" font-size=\"14.00\">gini = 0.0</text>\n",
              "<text text-anchor=\"middle\" x=\"646.5\" y=\"-387.3\" font-family=\"Helvetica,sans-Serif\" font-size=\"14.00\">samples = 2</text>\n",
              "<text text-anchor=\"middle\" x=\"646.5\" y=\"-372.3\" font-family=\"Helvetica,sans-Serif\" font-size=\"14.00\">value = [0, 2]</text>\n",
              "<text text-anchor=\"middle\" x=\"646.5\" y=\"-357.3\" font-family=\"Helvetica,sans-Serif\" font-size=\"14.00\">class = 1</text>\n",
              "</g>\n",
              "<!-- 14&#45;&gt;16 -->\n",
              "<g id=\"edge16\" class=\"edge\">\n",
              "<title>14&#45;&gt;16</title>\n",
              "<path fill=\"none\" stroke=\"black\" d=\"M583.81,-460.91C593.22,-449.43 603.47,-436.94 612.91,-425.44\"/>\n",
              "<polygon fill=\"black\" stroke=\"black\" points=\"615.65,-427.62 619.29,-417.67 610.24,-423.18 615.65,-427.62\"/>\n",
              "</g>\n",
              "<!-- 18 -->\n",
              "<g id=\"node19\" class=\"node\">\n",
              "<title>18</title>\n",
              "<path fill=\"#e58139\" stroke=\"black\" d=\"M720,-536.5C720,-536.5 649,-536.5 649,-536.5 643,-536.5 637,-530.5 637,-524.5 637,-524.5 637,-480.5 637,-480.5 637,-474.5 643,-468.5 649,-468.5 649,-468.5 720,-468.5 720,-468.5 726,-468.5 732,-474.5 732,-480.5 732,-480.5 732,-524.5 732,-524.5 732,-530.5 726,-536.5 720,-536.5\"/>\n",
              "<text text-anchor=\"middle\" x=\"684.5\" y=\"-521.3\" font-family=\"Helvetica,sans-Serif\" font-size=\"14.00\">gini = 0.0</text>\n",
              "<text text-anchor=\"middle\" x=\"684.5\" y=\"-506.3\" font-family=\"Helvetica,sans-Serif\" font-size=\"14.00\">samples = 5</text>\n",
              "<text text-anchor=\"middle\" x=\"684.5\" y=\"-491.3\" font-family=\"Helvetica,sans-Serif\" font-size=\"14.00\">value = [5, 0]</text>\n",
              "<text text-anchor=\"middle\" x=\"684.5\" y=\"-476.3\" font-family=\"Helvetica,sans-Serif\" font-size=\"14.00\">class = 0</text>\n",
              "</g>\n",
              "<!-- 17&#45;&gt;18 -->\n",
              "<g id=\"edge18\" class=\"edge\">\n",
              "<title>17&#45;&gt;18</title>\n",
              "<path fill=\"none\" stroke=\"black\" d=\"M747.85,-579.91C738.33,-568.43 727.97,-555.94 718.44,-544.44\"/>\n",
              "<polygon fill=\"black\" stroke=\"black\" points=\"721.07,-542.13 712,-536.67 715.69,-546.6 721.07,-542.13\"/>\n",
              "</g>\n",
              "<!-- 19 -->\n",
              "<g id=\"node20\" class=\"node\">\n",
              "<title>19</title>\n",
              "<path fill=\"#6ab6ec\" stroke=\"black\" d=\"M875,-544C875,-544 762,-544 762,-544 756,-544 750,-538 750,-532 750,-532 750,-473 750,-473 750,-467 756,-461 762,-461 762,-461 875,-461 875,-461 881,-461 887,-467 887,-473 887,-473 887,-532 887,-532 887,-538 881,-544 875,-544\"/>\n",
              "<text text-anchor=\"middle\" x=\"818.5\" y=\"-528.8\" font-family=\"Helvetica,sans-Serif\" font-size=\"14.00\">texture_se &lt;= 0.225</text>\n",
              "<text text-anchor=\"middle\" x=\"818.5\" y=\"-513.8\" font-family=\"Helvetica,sans-Serif\" font-size=\"14.00\">gini = 0.32</text>\n",
              "<text text-anchor=\"middle\" x=\"818.5\" y=\"-498.8\" font-family=\"Helvetica,sans-Serif\" font-size=\"14.00\">samples = 10</text>\n",
              "<text text-anchor=\"middle\" x=\"818.5\" y=\"-483.8\" font-family=\"Helvetica,sans-Serif\" font-size=\"14.00\">value = [2, 8]</text>\n",
              "<text text-anchor=\"middle\" x=\"818.5\" y=\"-468.8\" font-family=\"Helvetica,sans-Serif\" font-size=\"14.00\">class = 1</text>\n",
              "</g>\n",
              "<!-- 17&#45;&gt;19 -->\n",
              "<g id=\"edge19\" class=\"edge\">\n",
              "<title>17&#45;&gt;19</title>\n",
              "<path fill=\"none\" stroke=\"black\" d=\"M794.34,-579.91C797.01,-571.47 799.85,-562.48 802.61,-553.74\"/>\n",
              "<polygon fill=\"black\" stroke=\"black\" points=\"806.01,-554.61 805.69,-544.02 799.33,-552.5 806.01,-554.61\"/>\n",
              "</g>\n",
              "<!-- 20 -->\n",
              "<g id=\"node21\" class=\"node\">\n",
              "<title>20</title>\n",
              "<path fill=\"#399de5\" stroke=\"black\" d=\"M825,-417.5C825,-417.5 754,-417.5 754,-417.5 748,-417.5 742,-411.5 742,-405.5 742,-405.5 742,-361.5 742,-361.5 742,-355.5 748,-349.5 754,-349.5 754,-349.5 825,-349.5 825,-349.5 831,-349.5 837,-355.5 837,-361.5 837,-361.5 837,-405.5 837,-405.5 837,-411.5 831,-417.5 825,-417.5\"/>\n",
              "<text text-anchor=\"middle\" x=\"789.5\" y=\"-402.3\" font-family=\"Helvetica,sans-Serif\" font-size=\"14.00\">gini = 0.0</text>\n",
              "<text text-anchor=\"middle\" x=\"789.5\" y=\"-387.3\" font-family=\"Helvetica,sans-Serif\" font-size=\"14.00\">samples = 8</text>\n",
              "<text text-anchor=\"middle\" x=\"789.5\" y=\"-372.3\" font-family=\"Helvetica,sans-Serif\" font-size=\"14.00\">value = [0, 8]</text>\n",
              "<text text-anchor=\"middle\" x=\"789.5\" y=\"-357.3\" font-family=\"Helvetica,sans-Serif\" font-size=\"14.00\">class = 1</text>\n",
              "</g>\n",
              "<!-- 19&#45;&gt;20 -->\n",
              "<g id=\"edge20\" class=\"edge\">\n",
              "<title>19&#45;&gt;20</title>\n",
              "<path fill=\"none\" stroke=\"black\" d=\"M808.44,-460.91C805.76,-450.09 802.85,-438.38 800.14,-427.44\"/>\n",
              "<polygon fill=\"black\" stroke=\"black\" points=\"803.52,-426.53 797.72,-417.67 796.73,-428.22 803.52,-426.53\"/>\n",
              "</g>\n",
              "<!-- 21 -->\n",
              "<g id=\"node22\" class=\"node\">\n",
              "<title>21</title>\n",
              "<path fill=\"#e58139\" stroke=\"black\" d=\"M938,-417.5C938,-417.5 867,-417.5 867,-417.5 861,-417.5 855,-411.5 855,-405.5 855,-405.5 855,-361.5 855,-361.5 855,-355.5 861,-349.5 867,-349.5 867,-349.5 938,-349.5 938,-349.5 944,-349.5 950,-355.5 950,-361.5 950,-361.5 950,-405.5 950,-405.5 950,-411.5 944,-417.5 938,-417.5\"/>\n",
              "<text text-anchor=\"middle\" x=\"902.5\" y=\"-402.3\" font-family=\"Helvetica,sans-Serif\" font-size=\"14.00\">gini = 0.0</text>\n",
              "<text text-anchor=\"middle\" x=\"902.5\" y=\"-387.3\" font-family=\"Helvetica,sans-Serif\" font-size=\"14.00\">samples = 2</text>\n",
              "<text text-anchor=\"middle\" x=\"902.5\" y=\"-372.3\" font-family=\"Helvetica,sans-Serif\" font-size=\"14.00\">value = [2, 0]</text>\n",
              "<text text-anchor=\"middle\" x=\"902.5\" y=\"-357.3\" font-family=\"Helvetica,sans-Serif\" font-size=\"14.00\">class = 0</text>\n",
              "</g>\n",
              "<!-- 19&#45;&gt;21 -->\n",
              "<g id=\"edge21\" class=\"edge\">\n",
              "<title>19&#45;&gt;21</title>\n",
              "<path fill=\"none\" stroke=\"black\" d=\"M847.64,-460.91C855.72,-449.65 864.51,-437.42 872.63,-426.11\"/>\n",
              "<polygon fill=\"black\" stroke=\"black\" points=\"875.7,-427.83 878.69,-417.67 870.01,-423.75 875.7,-427.83\"/>\n",
              "</g>\n",
              "<!-- 23 -->\n",
              "<g id=\"node24\" class=\"node\">\n",
              "<title>23</title>\n",
              "<path fill=\"#efb388\" stroke=\"black\" d=\"M1067.5,-663C1067.5,-663 919.5,-663 919.5,-663 913.5,-663 907.5,-657 907.5,-651 907.5,-651 907.5,-592 907.5,-592 907.5,-586 913.5,-580 919.5,-580 919.5,-580 1067.5,-580 1067.5,-580 1073.5,-580 1079.5,-586 1079.5,-592 1079.5,-592 1079.5,-651 1079.5,-651 1079.5,-657 1073.5,-663 1067.5,-663\"/>\n",
              "<text text-anchor=\"middle\" x=\"993.5\" y=\"-647.8\" font-family=\"Helvetica,sans-Serif\" font-size=\"14.00\">perimeter_worst &lt;= 0.345</text>\n",
              "<text text-anchor=\"middle\" x=\"993.5\" y=\"-632.8\" font-family=\"Helvetica,sans-Serif\" font-size=\"14.00\">gini = 0.408</text>\n",
              "<text text-anchor=\"middle\" x=\"993.5\" y=\"-617.8\" font-family=\"Helvetica,sans-Serif\" font-size=\"14.00\">samples = 14</text>\n",
              "<text text-anchor=\"middle\" x=\"993.5\" y=\"-602.8\" font-family=\"Helvetica,sans-Serif\" font-size=\"14.00\">value = [10, 4]</text>\n",
              "<text text-anchor=\"middle\" x=\"993.5\" y=\"-587.8\" font-family=\"Helvetica,sans-Serif\" font-size=\"14.00\">class = 0</text>\n",
              "</g>\n",
              "<!-- 22&#45;&gt;23 -->\n",
              "<g id=\"edge23\" class=\"edge\">\n",
              "<title>22&#45;&gt;23</title>\n",
              "<path fill=\"none\" stroke=\"black\" d=\"M993.5,-698.91C993.5,-690.65 993.5,-681.86 993.5,-673.3\"/>\n",
              "<polygon fill=\"black\" stroke=\"black\" points=\"997,-673.02 993.5,-663.02 990,-673.02 997,-673.02\"/>\n",
              "</g>\n",
              "<!-- 26 -->\n",
              "<g id=\"node27\" class=\"node\">\n",
              "<title>26</title>\n",
              "<path fill=\"#44a2e6\" stroke=\"black\" d=\"M1275,-663C1275,-663 1158,-663 1158,-663 1152,-663 1146,-657 1146,-651 1146,-651 1146,-592 1146,-592 1146,-586 1152,-580 1158,-580 1158,-580 1275,-580 1275,-580 1281,-580 1287,-586 1287,-592 1287,-592 1287,-651 1287,-651 1287,-657 1281,-663 1275,-663\"/>\n",
              "<text text-anchor=\"middle\" x=\"1216.5\" y=\"-647.8\" font-family=\"Helvetica,sans-Serif\" font-size=\"14.00\">area_worst &lt;= 0.131</text>\n",
              "<text text-anchor=\"middle\" x=\"1216.5\" y=\"-632.8\" font-family=\"Helvetica,sans-Serif\" font-size=\"14.00\">gini = 0.096</text>\n",
              "<text text-anchor=\"middle\" x=\"1216.5\" y=\"-617.8\" font-family=\"Helvetica,sans-Serif\" font-size=\"14.00\">samples = 139</text>\n",
              "<text text-anchor=\"middle\" x=\"1216.5\" y=\"-602.8\" font-family=\"Helvetica,sans-Serif\" font-size=\"14.00\">value = [7, 132]</text>\n",
              "<text text-anchor=\"middle\" x=\"1216.5\" y=\"-587.8\" font-family=\"Helvetica,sans-Serif\" font-size=\"14.00\">class = 1</text>\n",
              "</g>\n",
              "<!-- 22&#45;&gt;26 -->\n",
              "<g id=\"edge26\" class=\"edge\">\n",
              "<title>22&#45;&gt;26</title>\n",
              "<path fill=\"none\" stroke=\"black\" d=\"M1070.87,-698.91C1092.22,-687.7 1115.42,-675.53 1136.9,-664.26\"/>\n",
              "<polygon fill=\"black\" stroke=\"black\" points=\"1138.76,-667.24 1145.99,-659.49 1135.51,-661.04 1138.76,-667.24\"/>\n",
              "</g>\n",
              "<!-- 24 -->\n",
              "<g id=\"node25\" class=\"node\">\n",
              "<title>24</title>\n",
              "<path fill=\"#e58139\" stroke=\"black\" d=\"M995.5,-536.5C995.5,-536.5 917.5,-536.5 917.5,-536.5 911.5,-536.5 905.5,-530.5 905.5,-524.5 905.5,-524.5 905.5,-480.5 905.5,-480.5 905.5,-474.5 911.5,-468.5 917.5,-468.5 917.5,-468.5 995.5,-468.5 995.5,-468.5 1001.5,-468.5 1007.5,-474.5 1007.5,-480.5 1007.5,-480.5 1007.5,-524.5 1007.5,-524.5 1007.5,-530.5 1001.5,-536.5 995.5,-536.5\"/>\n",
              "<text text-anchor=\"middle\" x=\"956.5\" y=\"-521.3\" font-family=\"Helvetica,sans-Serif\" font-size=\"14.00\">gini = 0.0</text>\n",
              "<text text-anchor=\"middle\" x=\"956.5\" y=\"-506.3\" font-family=\"Helvetica,sans-Serif\" font-size=\"14.00\">samples = 10</text>\n",
              "<text text-anchor=\"middle\" x=\"956.5\" y=\"-491.3\" font-family=\"Helvetica,sans-Serif\" font-size=\"14.00\">value = [10, 0]</text>\n",
              "<text text-anchor=\"middle\" x=\"956.5\" y=\"-476.3\" font-family=\"Helvetica,sans-Serif\" font-size=\"14.00\">class = 0</text>\n",
              "</g>\n",
              "<!-- 23&#45;&gt;24 -->\n",
              "<g id=\"edge24\" class=\"edge\">\n",
              "<title>23&#45;&gt;24</title>\n",
              "<path fill=\"none\" stroke=\"black\" d=\"M980.66,-579.91C977.24,-569.09 973.54,-557.38 970.08,-546.44\"/>\n",
              "<polygon fill=\"black\" stroke=\"black\" points=\"973.34,-545.15 966.99,-536.67 966.67,-547.26 973.34,-545.15\"/>\n",
              "</g>\n",
              "<!-- 25 -->\n",
              "<g id=\"node26\" class=\"node\">\n",
              "<title>25</title>\n",
              "<path fill=\"#399de5\" stroke=\"black\" d=\"M1109,-536.5C1109,-536.5 1038,-536.5 1038,-536.5 1032,-536.5 1026,-530.5 1026,-524.5 1026,-524.5 1026,-480.5 1026,-480.5 1026,-474.5 1032,-468.5 1038,-468.5 1038,-468.5 1109,-468.5 1109,-468.5 1115,-468.5 1121,-474.5 1121,-480.5 1121,-480.5 1121,-524.5 1121,-524.5 1121,-530.5 1115,-536.5 1109,-536.5\"/>\n",
              "<text text-anchor=\"middle\" x=\"1073.5\" y=\"-521.3\" font-family=\"Helvetica,sans-Serif\" font-size=\"14.00\">gini = 0.0</text>\n",
              "<text text-anchor=\"middle\" x=\"1073.5\" y=\"-506.3\" font-family=\"Helvetica,sans-Serif\" font-size=\"14.00\">samples = 4</text>\n",
              "<text text-anchor=\"middle\" x=\"1073.5\" y=\"-491.3\" font-family=\"Helvetica,sans-Serif\" font-size=\"14.00\">value = [0, 4]</text>\n",
              "<text text-anchor=\"middle\" x=\"1073.5\" y=\"-476.3\" font-family=\"Helvetica,sans-Serif\" font-size=\"14.00\">class = 1</text>\n",
              "</g>\n",
              "<!-- 23&#45;&gt;25 -->\n",
              "<g id=\"edge25\" class=\"edge\">\n",
              "<title>23&#45;&gt;25</title>\n",
              "<path fill=\"none\" stroke=\"black\" d=\"M1021.26,-579.91C1028.95,-568.65 1037.32,-556.42 1045.05,-545.11\"/>\n",
              "<polygon fill=\"black\" stroke=\"black\" points=\"1048.07,-546.9 1050.82,-536.67 1042.29,-542.95 1048.07,-546.9\"/>\n",
              "</g>\n",
              "<!-- 27 -->\n",
              "<g id=\"node28\" class=\"node\">\n",
              "<title>27</title>\n",
              "<path fill=\"#fbede3\" stroke=\"black\" d=\"M1282,-544C1282,-544 1151,-544 1151,-544 1145,-544 1139,-538 1139,-532 1139,-532 1139,-473 1139,-473 1139,-467 1145,-461 1151,-461 1151,-461 1282,-461 1282,-461 1288,-461 1294,-467 1294,-473 1294,-473 1294,-532 1294,-532 1294,-538 1288,-544 1282,-544\"/>\n",
              "<text text-anchor=\"middle\" x=\"1216.5\" y=\"-528.8\" font-family=\"Helvetica,sans-Serif\" font-size=\"14.00\">texture_worst &lt;= 0.371</text>\n",
              "<text text-anchor=\"middle\" x=\"1216.5\" y=\"-513.8\" font-family=\"Helvetica,sans-Serif\" font-size=\"14.00\">gini = 0.497</text>\n",
              "<text text-anchor=\"middle\" x=\"1216.5\" y=\"-498.8\" font-family=\"Helvetica,sans-Serif\" font-size=\"14.00\">samples = 13</text>\n",
              "<text text-anchor=\"middle\" x=\"1216.5\" y=\"-483.8\" font-family=\"Helvetica,sans-Serif\" font-size=\"14.00\">value = [7, 6]</text>\n",
              "<text text-anchor=\"middle\" x=\"1216.5\" y=\"-468.8\" font-family=\"Helvetica,sans-Serif\" font-size=\"14.00\">class = 0</text>\n",
              "</g>\n",
              "<!-- 26&#45;&gt;27 -->\n",
              "<g id=\"edge27\" class=\"edge\">\n",
              "<title>26&#45;&gt;27</title>\n",
              "<path fill=\"none\" stroke=\"black\" d=\"M1216.5,-579.91C1216.5,-571.65 1216.5,-562.86 1216.5,-554.3\"/>\n",
              "<polygon fill=\"black\" stroke=\"black\" points=\"1220,-554.02 1216.5,-544.02 1213,-554.02 1220,-554.02\"/>\n",
              "</g>\n",
              "<!-- 30 -->\n",
              "<g id=\"node31\" class=\"node\">\n",
              "<title>30</title>\n",
              "<path fill=\"#399de5\" stroke=\"black\" d=\"M1410.5,-536.5C1410.5,-536.5 1324.5,-536.5 1324.5,-536.5 1318.5,-536.5 1312.5,-530.5 1312.5,-524.5 1312.5,-524.5 1312.5,-480.5 1312.5,-480.5 1312.5,-474.5 1318.5,-468.5 1324.5,-468.5 1324.5,-468.5 1410.5,-468.5 1410.5,-468.5 1416.5,-468.5 1422.5,-474.5 1422.5,-480.5 1422.5,-480.5 1422.5,-524.5 1422.5,-524.5 1422.5,-530.5 1416.5,-536.5 1410.5,-536.5\"/>\n",
              "<text text-anchor=\"middle\" x=\"1367.5\" y=\"-521.3\" font-family=\"Helvetica,sans-Serif\" font-size=\"14.00\">gini = 0.0</text>\n",
              "<text text-anchor=\"middle\" x=\"1367.5\" y=\"-506.3\" font-family=\"Helvetica,sans-Serif\" font-size=\"14.00\">samples = 126</text>\n",
              "<text text-anchor=\"middle\" x=\"1367.5\" y=\"-491.3\" font-family=\"Helvetica,sans-Serif\" font-size=\"14.00\">value = [0, 126]</text>\n",
              "<text text-anchor=\"middle\" x=\"1367.5\" y=\"-476.3\" font-family=\"Helvetica,sans-Serif\" font-size=\"14.00\">class = 1</text>\n",
              "</g>\n",
              "<!-- 26&#45;&gt;30 -->\n",
              "<g id=\"edge30\" class=\"edge\">\n",
              "<title>26&#45;&gt;30</title>\n",
              "<path fill=\"none\" stroke=\"black\" d=\"M1268.89,-579.91C1284.27,-567.99 1301.07,-554.98 1316.37,-543.12\"/>\n",
              "<polygon fill=\"black\" stroke=\"black\" points=\"1318.93,-545.56 1324.69,-536.67 1314.65,-540.03 1318.93,-545.56\"/>\n",
              "</g>\n",
              "<!-- 28 -->\n",
              "<g id=\"node29\" class=\"node\">\n",
              "<title>28</title>\n",
              "<path fill=\"#e58139\" stroke=\"black\" d=\"M1195,-417.5C1195,-417.5 1124,-417.5 1124,-417.5 1118,-417.5 1112,-411.5 1112,-405.5 1112,-405.5 1112,-361.5 1112,-361.5 1112,-355.5 1118,-349.5 1124,-349.5 1124,-349.5 1195,-349.5 1195,-349.5 1201,-349.5 1207,-355.5 1207,-361.5 1207,-361.5 1207,-405.5 1207,-405.5 1207,-411.5 1201,-417.5 1195,-417.5\"/>\n",
              "<text text-anchor=\"middle\" x=\"1159.5\" y=\"-402.3\" font-family=\"Helvetica,sans-Serif\" font-size=\"14.00\">gini = 0.0</text>\n",
              "<text text-anchor=\"middle\" x=\"1159.5\" y=\"-387.3\" font-family=\"Helvetica,sans-Serif\" font-size=\"14.00\">samples = 7</text>\n",
              "<text text-anchor=\"middle\" x=\"1159.5\" y=\"-372.3\" font-family=\"Helvetica,sans-Serif\" font-size=\"14.00\">value = [7, 0]</text>\n",
              "<text text-anchor=\"middle\" x=\"1159.5\" y=\"-357.3\" font-family=\"Helvetica,sans-Serif\" font-size=\"14.00\">class = 0</text>\n",
              "</g>\n",
              "<!-- 27&#45;&gt;28 -->\n",
              "<g id=\"edge28\" class=\"edge\">\n",
              "<title>27&#45;&gt;28</title>\n",
              "<path fill=\"none\" stroke=\"black\" d=\"M1196.72,-460.91C1191.35,-449.87 1185.51,-437.9 1180.09,-426.77\"/>\n",
              "<polygon fill=\"black\" stroke=\"black\" points=\"1183.18,-425.12 1175.66,-417.67 1176.89,-428.19 1183.18,-425.12\"/>\n",
              "</g>\n",
              "<!-- 29 -->\n",
              "<g id=\"node30\" class=\"node\">\n",
              "<title>29</title>\n",
              "<path fill=\"#399de5\" stroke=\"black\" d=\"M1308,-417.5C1308,-417.5 1237,-417.5 1237,-417.5 1231,-417.5 1225,-411.5 1225,-405.5 1225,-405.5 1225,-361.5 1225,-361.5 1225,-355.5 1231,-349.5 1237,-349.5 1237,-349.5 1308,-349.5 1308,-349.5 1314,-349.5 1320,-355.5 1320,-361.5 1320,-361.5 1320,-405.5 1320,-405.5 1320,-411.5 1314,-417.5 1308,-417.5\"/>\n",
              "<text text-anchor=\"middle\" x=\"1272.5\" y=\"-402.3\" font-family=\"Helvetica,sans-Serif\" font-size=\"14.00\">gini = 0.0</text>\n",
              "<text text-anchor=\"middle\" x=\"1272.5\" y=\"-387.3\" font-family=\"Helvetica,sans-Serif\" font-size=\"14.00\">samples = 6</text>\n",
              "<text text-anchor=\"middle\" x=\"1272.5\" y=\"-372.3\" font-family=\"Helvetica,sans-Serif\" font-size=\"14.00\">value = [0, 6]</text>\n",
              "<text text-anchor=\"middle\" x=\"1272.5\" y=\"-357.3\" font-family=\"Helvetica,sans-Serif\" font-size=\"14.00\">class = 1</text>\n",
              "</g>\n",
              "<!-- 27&#45;&gt;29 -->\n",
              "<g id=\"edge29\" class=\"edge\">\n",
              "<title>27&#45;&gt;29</title>\n",
              "<path fill=\"none\" stroke=\"black\" d=\"M1235.93,-460.91C1241.21,-449.87 1246.94,-437.9 1252.27,-426.77\"/>\n",
              "<polygon fill=\"black\" stroke=\"black\" points=\"1255.46,-428.2 1256.63,-417.67 1249.15,-425.18 1255.46,-428.2\"/>\n",
              "</g>\n",
              "</g>\n",
              "</svg>\n"
            ],
            "text/plain": [
              "<graphviz.sources.Source at 0x7feba48f77d0>"
            ]
          },
          "metadata": {},
          "output_type": "display_data"
        }
      ],
      "source": [
        "display(graph2)\n"
      ]
    },
    {
      "cell_type": "markdown",
      "id": "2bc53738",
      "metadata": {
        "id": "2bc53738"
      },
      "source": [
        "## (c) Prune C1 and C2 by limiting the depth"
      ]
    },
    {
      "cell_type": "code",
      "execution_count": null,
      "id": "242ffd09",
      "metadata": {
        "id": "242ffd09",
        "outputId": "f270c1e5-56a5-4ae9-e253-bfae2b55facd"
      },
      "outputs": [
        {
          "name": "stdout",
          "output_type": "stream",
          "text": [
            "Accuracy of pruned C1: 0.9473684210526315\n",
            "Accuracy of pruned C2: 0.9590643274853801\n"
          ]
        }
      ],
      "source": [
        "# Prune C1 by limiting depth\n",
        "pruned_tree1 = DecisionTreeClassifier(criterion='entropy', max_depth=4)\n",
        "pruned_tree1.fit(X_train, y_train)\n",
        "print(\"Accuracy of pruned C1:\", pruned_tree1.score(X_test, y_test))\n",
        "\n",
        "# Prune C2 by limiting depth\n",
        "pruned_tree2 = DecisionTreeClassifier(criterion='gini', max_depth=4)\n",
        "pruned_tree2.fit(X_train, y_train)\n",
        "print(\"Accuracy of pruned C2:\", pruned_tree2.score(X_test, y_test))"
      ]
    },
    {
      "cell_type": "markdown",
      "id": "75dd36d0",
      "metadata": {
        "id": "75dd36d0"
      },
      "source": [
        "## Compare their performance with the unpruned versions of tree."
      ]
    },
    {
      "cell_type": "markdown",
      "id": "37561206",
      "metadata": {
        "id": "37561206"
      },
      "source": [
        "As we can see after pruning with the depth of 4 the the trees C1 and C2 the accuracy is almost same. Both are giving .95 accuracy. Where before pruning the accuracy of C1 is better than the C2. "
      ]
    },
    {
      "cell_type": "code",
      "execution_count": null,
      "id": "c94c5a88",
      "metadata": {
        "id": "c94c5a88",
        "outputId": "df334152-1e0f-4396-dc3f-96e3549045ca"
      },
      "outputs": [
        {
          "data": {
            "image/png": "[encoded data removed]",
            "text/plain": [
              "<Figure size 720x360 with 4 Axes>"
            ]
          },
          "metadata": {
            "needs_background": "light"
          },
          "output_type": "display_data"
        }
      ],
      "source": [
        "from sklearn.metrics import precision_score, recall_score, f1_score, accuracy_score\n",
        "\n",
        "# Evaluate performance of C1 and C2 on the testing set\n",
        "y_pred3 = pruned_tree1.predict(X_test)\n",
        "y_pred4 = pruned_tree2.predict(X_test)\n",
        "\n",
        "precision3 = precision_score(y_test, y_pred3)\n",
        "precision4 = precision_score(y_test, y_pred4)\n",
        "\n",
        "recall3 = recall_score(y_test, y_pred3)\n",
        "recall4 = recall_score(y_test, y_pred4)\n",
        "\n",
        "f1_score3 = f1_score(y_test, y_pred3)\n",
        "f1_score4 = f1_score(y_test, y_pred4)\n",
        "\n",
        "acc3 = accuracy_score(y_test, y_pred3)\n",
        "acc4 = accuracy_score(y_test, y_pred4)\n",
        "\n",
        "comp2 = pd.DataFrame({'Impurity Measure':[\"Entropy\",\"Gini Index\"],'Accuracy':[acc3, acc4], 'Recall':[recall3,recall4],'Precision':[precision3, precision4\n",
        "                                                                                            ], 'F1 Score':[f1_score3, f1_score4]})\n",
        "# Plot the C1 and C2 performance \n",
        "fig,axes= plt.subplots(nrows=1, ncols= len(comp2.columns[1:]), figsize=(10,5))\n",
        "\n",
        "for a,i in enumerate(comp2.columns[1:]):\n",
        "    sns.barplot(data= comp2, x='Impurity Measure', y=i, ax= axes[a])\n",
        "    axes[a].set_title(i)\n",
        "plt.tight_layout()\n",
        "plt.show()\n"
      ]
    },
    {
      "cell_type": "code",
      "execution_count": null,
      "id": "4b8cf51b",
      "metadata": {
        "id": "4b8cf51b",
        "outputId": "adb501ed-ac6f-493a-efc8-49df4671c9f2"
      },
      "outputs": [
        {
          "name": "stdout",
          "output_type": "stream",
          "text": [
            "Unpruned tree of C1 and C2\n"
          ]
        },
        {
          "data": {
            "text/html": [
              "<div>\n",
              "<style scoped>\n",
              "    .dataframe tbody tr th:only-of-type {\n",
              "        vertical-align: middle;\n",
              "    }\n",
              "\n",
              "    .dataframe tbody tr th {\n",
              "        vertical-align: top;\n",
              "    }\n",
              "\n",
              "    .dataframe thead th {\n",
              "        text-align: right;\n",
              "    }\n",
              "</style>\n",
              "<table border=\"1\" class=\"dataframe\">\n",
              "  <thead>\n",
              "    <tr style=\"text-align: right;\">\n",
              "      <th></th>\n",
              "      <th>Impurity Measure</th>\n",
              "      <th>Accuracy</th>\n",
              "      <th>Recall</th>\n",
              "      <th>Precision</th>\n",
              "      <th>F1 Score</th>\n",
              "    </tr>\n",
              "  </thead>\n",
              "  <tbody>\n",
              "    <tr>\n",
              "      <th>0</th>\n",
              "      <td>Entropy</td>\n",
              "      <td>0.953216</td>\n",
              "      <td>0.904762</td>\n",
              "      <td>0.966102</td>\n",
              "      <td>0.934426</td>\n",
              "    </tr>\n",
              "    <tr>\n",
              "      <th>1</th>\n",
              "      <td>Gini Index</td>\n",
              "      <td>0.923977</td>\n",
              "      <td>0.936508</td>\n",
              "      <td>0.867647</td>\n",
              "      <td>0.900763</td>\n",
              "    </tr>\n",
              "  </tbody>\n",
              "</table>\n",
              "</div>"
            ],
            "text/plain": [
              "  Impurity Measure  Accuracy    Recall  Precision  F1 Score\n",
              "0          Entropy  0.953216  0.904762   0.966102  0.934426\n",
              "1       Gini Index  0.923977  0.936508   0.867647  0.900763"
            ]
          },
          "execution_count": 31,
          "metadata": {},
          "output_type": "execute_result"
        }
      ],
      "source": [
        "print(\"Unpruned tree of C1 and C2\")\n",
        "comp1"
      ]
    },
    {
      "cell_type": "code",
      "execution_count": null,
      "id": "8e1e7b6b",
      "metadata": {
        "id": "8e1e7b6b",
        "outputId": "5fcab7a0-4945-4ee6-b85b-428151f5e451"
      },
      "outputs": [
        {
          "name": "stdout",
          "output_type": "stream",
          "text": [
            "Prunned Tree of C1 and C2\n"
          ]
        },
        {
          "data": {
            "text/html": [
              "<div>\n",
              "<style scoped>\n",
              "    .dataframe tbody tr th:only-of-type {\n",
              "        vertical-align: middle;\n",
              "    }\n",
              "\n",
              "    .dataframe tbody tr th {\n",
              "        vertical-align: top;\n",
              "    }\n",
              "\n",
              "    .dataframe thead th {\n",
              "        text-align: right;\n",
              "    }\n",
              "</style>\n",
              "<table border=\"1\" class=\"dataframe\">\n",
              "  <thead>\n",
              "    <tr style=\"text-align: right;\">\n",
              "      <th></th>\n",
              "      <th>Impurity Measure</th>\n",
              "      <th>Accuracy</th>\n",
              "      <th>Recall</th>\n",
              "      <th>Precision</th>\n",
              "      <th>F1 Score</th>\n",
              "    </tr>\n",
              "  </thead>\n",
              "  <tbody>\n",
              "    <tr>\n",
              "      <th>0</th>\n",
              "      <td>Entropy</td>\n",
              "      <td>0.947368</td>\n",
              "      <td>0.904762</td>\n",
              "      <td>0.9500</td>\n",
              "      <td>0.926829</td>\n",
              "    </tr>\n",
              "    <tr>\n",
              "      <th>1</th>\n",
              "      <td>Gini Index</td>\n",
              "      <td>0.959064</td>\n",
              "      <td>0.952381</td>\n",
              "      <td>0.9375</td>\n",
              "      <td>0.944882</td>\n",
              "    </tr>\n",
              "  </tbody>\n",
              "</table>\n",
              "</div>"
            ],
            "text/plain": [
              "  Impurity Measure  Accuracy    Recall  Precision  F1 Score\n",
              "0          Entropy  0.947368  0.904762     0.9500  0.926829\n",
              "1       Gini Index  0.959064  0.952381     0.9375  0.944882"
            ]
          },
          "execution_count": 32,
          "metadata": {},
          "output_type": "execute_result"
        }
      ],
      "source": [
        "print(\"Prunned Tree of C1 and C2\")\n",
        "comp2"
      ]
    },
    {
      "cell_type": "markdown",
      "id": "2cce6d8f",
      "metadata": {
        "id": "2cce6d8f"
      },
      "source": [
        "As we can see in plotted graph and table after pruned the tree Accuracy of C1 is greater than C2 where in Recall C1 is less than C2 and in precision C1 greater than C2 but in F1 score C1 is greater than C2. "
      ]
    },
    {
      "cell_type": "code",
      "execution_count": null,
      "id": "300510fe",
      "metadata": {
        "id": "300510fe"
      },
      "outputs": [],
      "source": []
    },
    {
      "cell_type": "markdown",
      "id": "a5853e0c",
      "metadata": {
        "id": "a5853e0c"
      },
      "source": [
        "## (d) Use depth 1,...,20 and plot the performance for C1 and C2 separately."
      ]
    },
    {
      "cell_type": "code",
      "execution_count": null,
      "id": "5fb4e2d9",
      "metadata": {
        "id": "5fb4e2d9"
      },
      "outputs": [],
      "source": [
        "import matplotlib.pyplot as plt\n",
        "\n",
        "# Prune C1 and C2 by limiting the depth and compare their performance with the unpruned versions\n",
        "train_acc1 = []\n",
        "test_acc1 = []\n",
        "train_acc2 = []\n",
        "test_acc2 = []\n",
        "for depth in range(1, 21):\n",
        "    # Prune C1\n",
        "    pruned_tree1 = DecisionTreeClassifier(criterion='entropy', max_depth=depth)\n",
        "    pruned_tree1.fit(X_train, y_train)\n",
        "    test_acc1.append(accuracy_score(y_test, pruned_tree1.predict(X_test)))\n",
        "    # Prune C2\n",
        "    pruned_tree2 = DecisionTreeClassifier(criterion='gini', max_depth=depth)\n",
        "    pruned_tree2.fit(X_train, y_train)\n",
        "    test_acc2.append(accuracy_score(y_test, pruned_tree2.predict(X_test)))\n",
        "\n",
        "\n",
        "\n"
      ]
    },
    {
      "cell_type": "markdown",
      "id": "9442c032",
      "metadata": {
        "id": "9442c032"
      },
      "source": [
        "### Plot the accuracy of C1 on test data "
      ]
    },
    {
      "cell_type": "code",
      "execution_count": null,
      "id": "f92d8366",
      "metadata": {
        "id": "f92d8366",
        "outputId": "a5d69306-bd41-4950-ffac-9ee1982090d9"
      },
      "outputs": [
        {
          "data": {
            "image/png": "[encoded data removed]",
            "text/plain": [
              "<Figure size 432x288 with 1 Axes>"
            ]
          },
          "metadata": {
            "needs_background": "light"
          },
          "output_type": "display_data"
        }
      ],
      "source": [
        "plt.plot(range(1, 21), test_acc1, label='Test accuracy (C1)')\n",
        "plt.xlabel('Depth')\n",
        "plt.ylabel('Accuracy')\n",
        "plt.legend()\n",
        "plt.show()"
      ]
    },
    {
      "cell_type": "markdown",
      "id": "b9d7b027",
      "metadata": {
        "id": "b9d7b027"
      },
      "source": [
        "### Plot the accuracy of C2 on test data "
      ]
    },
    {
      "cell_type": "code",
      "execution_count": null,
      "id": "0dd8cd3c",
      "metadata": {
        "id": "0dd8cd3c",
        "outputId": "5d98110f-d57d-4107-8361-571695e543e3"
      },
      "outputs": [
        {
          "data": {
            "image/png": "[encoded data removed]",
            "text/plain": [
              "<Figure size 432x288 with 1 Axes>"
            ]
          },
          "metadata": {
            "needs_background": "light"
          },
          "output_type": "display_data"
        }
      ],
      "source": [
        "plt.plot(range(1, 21), test_acc2, label='Test accuracy (C2)', color = \"orange\")\n",
        "plt.xlabel('Depth')\n",
        "plt.ylabel('Accuracy')\n",
        "plt.legend()\n",
        "plt.show()"
      ]
    },
    {
      "cell_type": "markdown",
      "id": "c99475d6",
      "metadata": {
        "id": "c99475d6"
      },
      "source": [
        "## Compare the performance of C1 and C2 by plotting a graph"
      ]
    },
    {
      "cell_type": "markdown",
      "id": "b2a4c27c",
      "metadata": {
        "id": "b2a4c27c"
      },
      "source": [
        "From the Line Graph we can see that:\n",
        "1. For C1 Entropy based Decision Tree, accuracy is best when max depth is set 3 after that the accuracy is not increasing.\n",
        "2. For C2 Gini Index based Decision Tree, accuracy is best when max depth is set at 3 but after that accuracy is gradually decreasing."
      ]
    },
    {
      "cell_type": "markdown",
      "id": "340cfe02",
      "metadata": {
        "id": "340cfe02"
      },
      "source": [
        "## (e) Choose the best value for depth and visualize C1 and C2."
      ]
    },
    {
      "cell_type": "code",
      "execution_count": null,
      "id": "5318451a",
      "metadata": {
        "id": "5318451a",
        "outputId": "995722e8-5f94-4235-800d-205b8f0a38d5"
      },
      "outputs": [
        {
          "name": "stdout",
          "output_type": "stream",
          "text": [
            "best depth for C1 3\n",
            "best depth for C2 3\n"
          ]
        }
      ],
      "source": [
        "# Choose the best value for depth and visualize C1 and C2\n",
        "best_depth1 = test_acc1.index(max(test_acc1)) + 1\n",
        "best_depth2 = test_acc2.index(max(test_acc2)) + 1\n",
        "\n",
        "print(\"best depth for C1\", best_depth1)\n",
        "print(\"best depth for C2\", best_depth2)"
      ]
    },
    {
      "cell_type": "code",
      "execution_count": null,
      "id": "aa7672a9",
      "metadata": {
        "id": "aa7672a9",
        "outputId": "a3379a5c-39d7-4696-8fcd-c92a8af3d3d0"
      },
      "outputs": [
        {
          "name": "stdout",
          "output_type": "stream",
          "text": [
            "Accuracy of pruned C1: 0.9590643274853801\n"
          ]
        }
      ],
      "source": [
        "bestDepthC1 = DecisionTreeClassifier(criterion='entropy', max_depth=3)\n",
        "bestDepthC1.fit(X_train, y_train)\n",
        "print(\"Accuracy of pruned C1:\", pruned_tree1.score(X_test, y_test))"
      ]
    },
    {
      "cell_type": "code",
      "execution_count": null,
      "id": "7539723d",
      "metadata": {
        "id": "7539723d",
        "outputId": "e0fc9978-ad21-438d-9fff-37f4bedf60e0"
      },
      "outputs": [
        {
          "name": "stdout",
          "output_type": "stream",
          "text": [
            "Accuracy of pruned C2: 0.9590643274853801\n"
          ]
        }
      ],
      "source": [
        "bestDepthC2 = DecisionTreeClassifier(criterion='gini', max_depth=3)\n",
        "bestDepthC2.fit(X_train, y_train)\n",
        "print(\"Accuracy of pruned C2:\", pruned_tree1.score(X_test, y_test))"
      ]
    },
    {
      "cell_type": "code",
      "execution_count": null,
      "id": "d75af2f6",
      "metadata": {
        "id": "d75af2f6"
      },
      "outputs": [],
      "source": [
        "dot_data1 = export_graphviz(bestDepthC1, out_file=None, feature_names=X.columns, class_names=['0', '1'], filled=True, rounded=True)\n",
        "dot_data2 = export_graphviz(bestDepthC2, out_file=None, feature_names=X.columns, class_names=['0', '1'], filled=True, rounded=True)\n",
        "graph1 = graphviz.Source(dot_data1)\n",
        "graph2 = graphviz.Source(dot_data2)\n"
      ]
    },
    {
      "cell_type": "code",
      "execution_count": null,
      "id": "f467f5fb",
      "metadata": {
        "id": "f467f5fb",
        "outputId": "3ac4fa7f-63bd-44bc-aef2-c2c48b760b6e"
      },
      "outputs": [
        {
          "data": {
            "image/svg+xml": [
              "<?xml version=\"1.0\" encoding=\"UTF-8\" standalone=\"no\"?>\n",
              "<!DOCTYPE svg PUBLIC \"-//W3C//DTD SVG 1.1//EN\"\n",
              " \"http://www.w3.org/Graphics/SVG/1.1/DTD/svg11.dtd\">\n",
              "<!-- Generated by graphviz version 6.0.1 (20220911.1526)\n",
              " -->\n",
              "<!-- Title: Tree Pages: 1 -->\n",
              "<svg width=\"772pt\" height=\"433pt\"\n",
              " viewBox=\"0.00 0.00 771.50 433.00\" xmlns=\"http://www.w3.org/2000/svg\" xmlns:xlink=\"http://www.w3.org/1999/xlink\">\n",
              "<g id=\"graph0\" class=\"graph\" transform=\"scale(1 1) rotate(0) translate(4 429)\">\n",
              "<title>Tree</title>\n",
              "<polygon fill=\"white\" stroke=\"none\" points=\"-4,4 -4,-429 767.5,-429 767.5,4 -4,4\"/>\n",
              "<!-- 0 -->\n",
              "<g id=\"node1\" class=\"node\">\n",
              "<title>0</title>\n",
              "<path fill=\"#f5ccaf\" stroke=\"black\" d=\"M557.5,-425C557.5,-425 375.5,-425 375.5,-425 369.5,-425 363.5,-419 363.5,-413 363.5,-413 363.5,-354 363.5,-354 363.5,-348 369.5,-342 375.5,-342 375.5,-342 557.5,-342 557.5,-342 563.5,-342 569.5,-348 569.5,-354 569.5,-354 569.5,-413 569.5,-413 569.5,-419 563.5,-425 557.5,-425\"/>\n",
              "<text text-anchor=\"middle\" x=\"466.5\" y=\"-409.8\" font-family=\"Helvetica,sans-Serif\" font-size=\"14.00\">concave points_mean &lt;= 0.255</text>\n",
              "<text text-anchor=\"middle\" x=\"466.5\" y=\"-394.8\" font-family=\"Helvetica,sans-Serif\" font-size=\"14.00\">entropy = 0.954</text>\n",
              "<text text-anchor=\"middle\" x=\"466.5\" y=\"-379.8\" font-family=\"Helvetica,sans-Serif\" font-size=\"14.00\">samples = 398</text>\n",
              "<text text-anchor=\"middle\" x=\"466.5\" y=\"-364.8\" font-family=\"Helvetica,sans-Serif\" font-size=\"14.00\">value = [249, 149]</text>\n",
              "<text text-anchor=\"middle\" x=\"466.5\" y=\"-349.8\" font-family=\"Helvetica,sans-Serif\" font-size=\"14.00\">class = 0</text>\n",
              "</g>\n",
              "<!-- 1 -->\n",
              "<g id=\"node2\" class=\"node\">\n",
              "<title>1</title>\n",
              "<path fill=\"#e68844\" stroke=\"black\" d=\"M421,-306C421,-306 294,-306 294,-306 288,-306 282,-300 282,-294 282,-294 282,-235 282,-235 282,-229 288,-223 294,-223 294,-223 421,-223 421,-223 427,-223 433,-229 433,-235 433,-235 433,-294 433,-294 433,-300 427,-306 421,-306\"/>\n",
              "<text text-anchor=\"middle\" x=\"357.5\" y=\"-290.8\" font-family=\"Helvetica,sans-Serif\" font-size=\"14.00\">radius_worst &lt;= 0.317</text>\n",
              "<text text-anchor=\"middle\" x=\"357.5\" y=\"-275.8\" font-family=\"Helvetica,sans-Serif\" font-size=\"14.00\">entropy = 0.299</text>\n",
              "<text text-anchor=\"middle\" x=\"357.5\" y=\"-260.8\" font-family=\"Helvetica,sans-Serif\" font-size=\"14.00\">samples = 245</text>\n",
              "<text text-anchor=\"middle\" x=\"357.5\" y=\"-245.8\" font-family=\"Helvetica,sans-Serif\" font-size=\"14.00\">value = [232, 13]</text>\n",
              "<text text-anchor=\"middle\" x=\"357.5\" y=\"-230.8\" font-family=\"Helvetica,sans-Serif\" font-size=\"14.00\">class = 0</text>\n",
              "</g>\n",
              "<!-- 0&#45;&gt;1 -->\n",
              "<g id=\"edge1\" class=\"edge\">\n",
              "<title>0&#45;&gt;1</title>\n",
              "<path fill=\"none\" stroke=\"black\" d=\"M428.68,-341.91C420.14,-332.74 411,-322.93 402.21,-313.49\"/>\n",
              "<polygon fill=\"black\" stroke=\"black\" points=\"404.63,-310.95 395.25,-306.02 399.51,-315.72 404.63,-310.95\"/>\n",
              "<text text-anchor=\"middle\" x=\"394.37\" y=\"-327.31\" font-family=\"Helvetica,sans-Serif\" font-size=\"14.00\">True</text>\n",
              "</g>\n",
              "<!-- 8 -->\n",
              "<g id=\"node9\" class=\"node\">\n",
              "<title>8</title>\n",
              "<path fill=\"#52a9e8\" stroke=\"black\" d=\"M631.5,-306C631.5,-306 483.5,-306 483.5,-306 477.5,-306 471.5,-300 471.5,-294 471.5,-294 471.5,-235 471.5,-235 471.5,-229 477.5,-223 483.5,-223 483.5,-223 631.5,-223 631.5,-223 637.5,-223 643.5,-229 643.5,-235 643.5,-235 643.5,-294 643.5,-294 643.5,-300 637.5,-306 631.5,-306\"/>\n",
              "<text text-anchor=\"middle\" x=\"557.5\" y=\"-290.8\" font-family=\"Helvetica,sans-Serif\" font-size=\"14.00\">perimeter_worst &lt;= 0.319</text>\n",
              "<text text-anchor=\"middle\" x=\"557.5\" y=\"-275.8\" font-family=\"Helvetica,sans-Serif\" font-size=\"14.00\">entropy = 0.503</text>\n",
              "<text text-anchor=\"middle\" x=\"557.5\" y=\"-260.8\" font-family=\"Helvetica,sans-Serif\" font-size=\"14.00\">samples = 153</text>\n",
              "<text text-anchor=\"middle\" x=\"557.5\" y=\"-245.8\" font-family=\"Helvetica,sans-Serif\" font-size=\"14.00\">value = [17, 136]</text>\n",
              "<text text-anchor=\"middle\" x=\"557.5\" y=\"-230.8\" font-family=\"Helvetica,sans-Serif\" font-size=\"14.00\">class = 1</text>\n",
              "</g>\n",
              "<!-- 0&#45;&gt;8 -->\n",
              "<g id=\"edge8\" class=\"edge\">\n",
              "<title>0&#45;&gt;8</title>\n",
              "<path fill=\"none\" stroke=\"black\" d=\"M498.07,-341.91C505.06,-332.92 512.53,-323.32 519.74,-314.05\"/>\n",
              "<polygon fill=\"black\" stroke=\"black\" points=\"522.61,-316.06 525.98,-306.02 517.08,-311.77 522.61,-316.06\"/>\n",
              "<text text-anchor=\"middle\" x=\"529.08\" y=\"-327.13\" font-family=\"Helvetica,sans-Serif\" font-size=\"14.00\">False</text>\n",
              "</g>\n",
              "<!-- 2 -->\n",
              "<g id=\"node3\" class=\"node\">\n",
              "<title>2</title>\n",
              "<path fill=\"#e6843d\" stroke=\"black\" d=\"M234,-187C234,-187 135,-187 135,-187 129,-187 123,-181 123,-175 123,-175 123,-116 123,-116 123,-110 129,-104 135,-104 135,-104 234,-104 234,-104 240,-104 246,-110 246,-116 246,-116 246,-175 246,-175 246,-181 240,-187 234,-187\"/>\n",
              "<text text-anchor=\"middle\" x=\"184.5\" y=\"-171.8\" font-family=\"Helvetica,sans-Serif\" font-size=\"14.00\">area_se &lt;= 0.078</text>\n",
              "<text text-anchor=\"middle\" x=\"184.5\" y=\"-156.8\" font-family=\"Helvetica,sans-Serif\" font-size=\"14.00\">entropy = 0.151</text>\n",
              "<text text-anchor=\"middle\" x=\"184.5\" y=\"-141.8\" font-family=\"Helvetica,sans-Serif\" font-size=\"14.00\">samples = 230</text>\n",
              "<text text-anchor=\"middle\" x=\"184.5\" y=\"-126.8\" font-family=\"Helvetica,sans-Serif\" font-size=\"14.00\">value = [225, 5]</text>\n",
              "<text text-anchor=\"middle\" x=\"184.5\" y=\"-111.8\" font-family=\"Helvetica,sans-Serif\" font-size=\"14.00\">class = 0</text>\n",
              "</g>\n",
              "<!-- 1&#45;&gt;2 -->\n",
              "<g id=\"edge2\" class=\"edge\">\n",
              "<title>1&#45;&gt;2</title>\n",
              "<path fill=\"none\" stroke=\"black\" d=\"M297.48,-222.91C283.12,-213.2 267.69,-202.76 252.98,-192.81\"/>\n",
              "<polygon fill=\"black\" stroke=\"black\" points=\"254.66,-189.72 244.42,-187.02 250.74,-195.52 254.66,-189.72\"/>\n",
              "</g>\n",
              "<!-- 5 -->\n",
              "<g id=\"node6\" class=\"node\">\n",
              "<title>5</title>\n",
              "<path fill=\"#e6f3fc\" stroke=\"black\" d=\"M419.5,-187C419.5,-187 295.5,-187 295.5,-187 289.5,-187 283.5,-181 283.5,-175 283.5,-175 283.5,-116 283.5,-116 283.5,-110 289.5,-104 295.5,-104 295.5,-104 419.5,-104 419.5,-104 425.5,-104 431.5,-110 431.5,-116 431.5,-116 431.5,-175 431.5,-175 431.5,-181 425.5,-187 419.5,-187\"/>\n",
              "<text text-anchor=\"middle\" x=\"357.5\" y=\"-171.8\" font-family=\"Helvetica,sans-Serif\" font-size=\"14.00\">texture_worst &lt;= 0.21</text>\n",
              "<text text-anchor=\"middle\" x=\"357.5\" y=\"-156.8\" font-family=\"Helvetica,sans-Serif\" font-size=\"14.00\">entropy = 0.997</text>\n",
              "<text text-anchor=\"middle\" x=\"357.5\" y=\"-141.8\" font-family=\"Helvetica,sans-Serif\" font-size=\"14.00\">samples = 15</text>\n",
              "<text text-anchor=\"middle\" x=\"357.5\" y=\"-126.8\" font-family=\"Helvetica,sans-Serif\" font-size=\"14.00\">value = [7, 8]</text>\n",
              "<text text-anchor=\"middle\" x=\"357.5\" y=\"-111.8\" font-family=\"Helvetica,sans-Serif\" font-size=\"14.00\">class = 1</text>\n",
              "</g>\n",
              "<!-- 1&#45;&gt;5 -->\n",
              "<g id=\"edge5\" class=\"edge\">\n",
              "<title>1&#45;&gt;5</title>\n",
              "<path fill=\"none\" stroke=\"black\" d=\"M357.5,-222.91C357.5,-214.65 357.5,-205.86 357.5,-197.3\"/>\n",
              "<polygon fill=\"black\" stroke=\"black\" points=\"361,-197.02 357.5,-187.02 354,-197.02 361,-197.02\"/>\n",
              "</g>\n",
              "<!-- 3 -->\n",
              "<g id=\"node4\" class=\"node\">\n",
              "<title>3</title>\n",
              "<path fill=\"#e5833c\" stroke=\"black\" d=\"M99,-68C99,-68 12,-68 12,-68 6,-68 0,-62 0,-56 0,-56 0,-12 0,-12 0,-6 6,0 12,0 12,0 99,0 99,0 105,0 111,-6 111,-12 111,-12 111,-56 111,-56 111,-62 105,-68 99,-68\"/>\n",
              "<text text-anchor=\"middle\" x=\"55.5\" y=\"-52.8\" font-family=\"Helvetica,sans-Serif\" font-size=\"14.00\">entropy = 0.101</text>\n",
              "<text text-anchor=\"middle\" x=\"55.5\" y=\"-37.8\" font-family=\"Helvetica,sans-Serif\" font-size=\"14.00\">samples = 227</text>\n",
              "<text text-anchor=\"middle\" x=\"55.5\" y=\"-22.8\" font-family=\"Helvetica,sans-Serif\" font-size=\"14.00\">value = [224, 3]</text>\n",
              "<text text-anchor=\"middle\" x=\"55.5\" y=\"-7.8\" font-family=\"Helvetica,sans-Serif\" font-size=\"14.00\">class = 0</text>\n",
              "</g>\n",
              "<!-- 2&#45;&gt;3 -->\n",
              "<g id=\"edge3\" class=\"edge\">\n",
              "<title>2&#45;&gt;3</title>\n",
              "<path fill=\"none\" stroke=\"black\" d=\"M136.47,-103.73C125.4,-94.33 113.64,-84.35 102.61,-74.99\"/>\n",
              "<polygon fill=\"black\" stroke=\"black\" points=\"104.62,-72.1 94.73,-68.3 100.09,-77.44 104.62,-72.1\"/>\n",
              "</g>\n",
              "<!-- 4 -->\n",
              "<g id=\"node5\" class=\"node\">\n",
              "<title>4</title>\n",
              "<path fill=\"#9ccef2\" stroke=\"black\" d=\"M228,-68C228,-68 141,-68 141,-68 135,-68 129,-62 129,-56 129,-56 129,-12 129,-12 129,-6 135,0 141,0 141,0 228,0 228,0 234,0 240,-6 240,-12 240,-12 240,-56 240,-56 240,-62 234,-68 228,-68\"/>\n",
              "<text text-anchor=\"middle\" x=\"184.5\" y=\"-52.8\" font-family=\"Helvetica,sans-Serif\" font-size=\"14.00\">entropy = 0.918</text>\n",
              "<text text-anchor=\"middle\" x=\"184.5\" y=\"-37.8\" font-family=\"Helvetica,sans-Serif\" font-size=\"14.00\">samples = 3</text>\n",
              "<text text-anchor=\"middle\" x=\"184.5\" y=\"-22.8\" font-family=\"Helvetica,sans-Serif\" font-size=\"14.00\">value = [1, 2]</text>\n",
              "<text text-anchor=\"middle\" x=\"184.5\" y=\"-7.8\" font-family=\"Helvetica,sans-Serif\" font-size=\"14.00\">class = 1</text>\n",
              "</g>\n",
              "<!-- 2&#45;&gt;4 -->\n",
              "<g id=\"edge4\" class=\"edge\">\n",
              "<title>2&#45;&gt;4</title>\n",
              "<path fill=\"none\" stroke=\"black\" d=\"M184.5,-103.73C184.5,-95.52 184.5,-86.86 184.5,-78.56\"/>\n",
              "<polygon fill=\"black\" stroke=\"black\" points=\"188,-78.3 184.5,-68.3 181,-78.3 188,-78.3\"/>\n",
              "</g>\n",
              "<!-- 6 -->\n",
              "<g id=\"node7\" class=\"node\">\n",
              "<title>6</title>\n",
              "<path fill=\"#e58139\" stroke=\"black\" d=\"M342.5,-68C342.5,-68 270.5,-68 270.5,-68 264.5,-68 258.5,-62 258.5,-56 258.5,-56 258.5,-12 258.5,-12 258.5,-6 264.5,0 270.5,0 270.5,0 342.5,0 342.5,0 348.5,0 354.5,-6 354.5,-12 354.5,-12 354.5,-56 354.5,-56 354.5,-62 348.5,-68 342.5,-68\"/>\n",
              "<text text-anchor=\"middle\" x=\"306.5\" y=\"-52.8\" font-family=\"Helvetica,sans-Serif\" font-size=\"14.00\">entropy = 0.0</text>\n",
              "<text text-anchor=\"middle\" x=\"306.5\" y=\"-37.8\" font-family=\"Helvetica,sans-Serif\" font-size=\"14.00\">samples = 5</text>\n",
              "<text text-anchor=\"middle\" x=\"306.5\" y=\"-22.8\" font-family=\"Helvetica,sans-Serif\" font-size=\"14.00\">value = [5, 0]</text>\n",
              "<text text-anchor=\"middle\" x=\"306.5\" y=\"-7.8\" font-family=\"Helvetica,sans-Serif\" font-size=\"14.00\">class = 0</text>\n",
              "</g>\n",
              "<!-- 5&#45;&gt;6 -->\n",
              "<g id=\"edge6\" class=\"edge\">\n",
              "<title>5&#45;&gt;6</title>\n",
              "<path fill=\"none\" stroke=\"black\" d=\"M338.51,-103.73C334.52,-95.15 330.29,-86.09 326.27,-77.46\"/>\n",
              "<polygon fill=\"black\" stroke=\"black\" points=\"329.4,-75.89 322.01,-68.3 323.06,-78.84 329.4,-75.89\"/>\n",
              "</g>\n",
              "<!-- 7 -->\n",
              "<g id=\"node8\" class=\"node\">\n",
              "<title>7</title>\n",
              "<path fill=\"#6ab6ec\" stroke=\"black\" d=\"M472,-68C472,-68 385,-68 385,-68 379,-68 373,-62 373,-56 373,-56 373,-12 373,-12 373,-6 379,0 385,0 385,0 472,0 472,0 478,0 484,-6 484,-12 484,-12 484,-56 484,-56 484,-62 478,-68 472,-68\"/>\n",
              "<text text-anchor=\"middle\" x=\"428.5\" y=\"-52.8\" font-family=\"Helvetica,sans-Serif\" font-size=\"14.00\">entropy = 0.722</text>\n",
              "<text text-anchor=\"middle\" x=\"428.5\" y=\"-37.8\" font-family=\"Helvetica,sans-Serif\" font-size=\"14.00\">samples = 10</text>\n",
              "<text text-anchor=\"middle\" x=\"428.5\" y=\"-22.8\" font-family=\"Helvetica,sans-Serif\" font-size=\"14.00\">value = [2, 8]</text>\n",
              "<text text-anchor=\"middle\" x=\"428.5\" y=\"-7.8\" font-family=\"Helvetica,sans-Serif\" font-size=\"14.00\">class = 1</text>\n",
              "</g>\n",
              "<!-- 5&#45;&gt;7 -->\n",
              "<g id=\"edge7\" class=\"edge\">\n",
              "<title>5&#45;&gt;7</title>\n",
              "<path fill=\"none\" stroke=\"black\" d=\"M383.94,-103.73C389.62,-94.97 395.62,-85.7 401.33,-76.91\"/>\n",
              "<polygon fill=\"black\" stroke=\"black\" points=\"404.4,-78.59 406.91,-68.3 398.53,-74.79 404.4,-78.59\"/>\n",
              "</g>\n",
              "<!-- 9 -->\n",
              "<g id=\"node10\" class=\"node\">\n",
              "<title>9</title>\n",
              "<path fill=\"#d2e9f9\" stroke=\"black\" d=\"M623,-187C623,-187 492,-187 492,-187 486,-187 480,-181 480,-175 480,-175 480,-116 480,-116 480,-110 486,-104 492,-104 492,-104 623,-104 623,-104 629,-104 635,-110 635,-116 635,-116 635,-175 635,-175 635,-181 629,-187 623,-187\"/>\n",
              "<text text-anchor=\"middle\" x=\"557.5\" y=\"-171.8\" font-family=\"Helvetica,sans-Serif\" font-size=\"14.00\">texture_worst &lt;= 0.363</text>\n",
              "<text text-anchor=\"middle\" x=\"557.5\" y=\"-156.8\" font-family=\"Helvetica,sans-Serif\" font-size=\"14.00\">entropy = 0.988</text>\n",
              "<text text-anchor=\"middle\" x=\"557.5\" y=\"-141.8\" font-family=\"Helvetica,sans-Serif\" font-size=\"14.00\">samples = 39</text>\n",
              "<text text-anchor=\"middle\" x=\"557.5\" y=\"-126.8\" font-family=\"Helvetica,sans-Serif\" font-size=\"14.00\">value = [17, 22]</text>\n",
              "<text text-anchor=\"middle\" x=\"557.5\" y=\"-111.8\" font-family=\"Helvetica,sans-Serif\" font-size=\"14.00\">class = 1</text>\n",
              "</g>\n",
              "<!-- 8&#45;&gt;9 -->\n",
              "<g id=\"edge9\" class=\"edge\">\n",
              "<title>8&#45;&gt;9</title>\n",
              "<path fill=\"none\" stroke=\"black\" d=\"M557.5,-222.91C557.5,-214.65 557.5,-205.86 557.5,-197.3\"/>\n",
              "<polygon fill=\"black\" stroke=\"black\" points=\"561,-197.02 557.5,-187.02 554,-197.02 561,-197.02\"/>\n",
              "</g>\n",
              "<!-- 12 -->\n",
              "<g id=\"node13\" class=\"node\">\n",
              "<title>12</title>\n",
              "<path fill=\"#399de5\" stroke=\"black\" d=\"M751.5,-179.5C751.5,-179.5 665.5,-179.5 665.5,-179.5 659.5,-179.5 653.5,-173.5 653.5,-167.5 653.5,-167.5 653.5,-123.5 653.5,-123.5 653.5,-117.5 659.5,-111.5 665.5,-111.5 665.5,-111.5 751.5,-111.5 751.5,-111.5 757.5,-111.5 763.5,-117.5 763.5,-123.5 763.5,-123.5 763.5,-167.5 763.5,-167.5 763.5,-173.5 757.5,-179.5 751.5,-179.5\"/>\n",
              "<text text-anchor=\"middle\" x=\"708.5\" y=\"-164.3\" font-family=\"Helvetica,sans-Serif\" font-size=\"14.00\">entropy = 0.0</text>\n",
              "<text text-anchor=\"middle\" x=\"708.5\" y=\"-149.3\" font-family=\"Helvetica,sans-Serif\" font-size=\"14.00\">samples = 114</text>\n",
              "<text text-anchor=\"middle\" x=\"708.5\" y=\"-134.3\" font-family=\"Helvetica,sans-Serif\" font-size=\"14.00\">value = [0, 114]</text>\n",
              "<text text-anchor=\"middle\" x=\"708.5\" y=\"-119.3\" font-family=\"Helvetica,sans-Serif\" font-size=\"14.00\">class = 1</text>\n",
              "</g>\n",
              "<!-- 8&#45;&gt;12 -->\n",
              "<g id=\"edge12\" class=\"edge\">\n",
              "<title>8&#45;&gt;12</title>\n",
              "<path fill=\"none\" stroke=\"black\" d=\"M609.89,-222.91C625.27,-210.99 642.07,-197.98 657.37,-186.12\"/>\n",
              "<polygon fill=\"black\" stroke=\"black\" points=\"659.93,-188.56 665.69,-179.67 655.65,-183.03 659.93,-188.56\"/>\n",
              "</g>\n",
              "<!-- 10 -->\n",
              "<g id=\"node11\" class=\"node\">\n",
              "<title>10</title>\n",
              "<path fill=\"#e89050\" stroke=\"black\" d=\"M601,-68C601,-68 514,-68 514,-68 508,-68 502,-62 502,-56 502,-56 502,-12 502,-12 502,-6 508,0 514,0 514,0 601,0 601,0 607,0 613,-6 613,-12 613,-12 613,-56 613,-56 613,-62 607,-68 601,-68\"/>\n",
              "<text text-anchor=\"middle\" x=\"557.5\" y=\"-52.8\" font-family=\"Helvetica,sans-Serif\" font-size=\"14.00\">entropy = 0.485</text>\n",
              "<text text-anchor=\"middle\" x=\"557.5\" y=\"-37.8\" font-family=\"Helvetica,sans-Serif\" font-size=\"14.00\">samples = 19</text>\n",
              "<text text-anchor=\"middle\" x=\"557.5\" y=\"-22.8\" font-family=\"Helvetica,sans-Serif\" font-size=\"14.00\">value = [17, 2]</text>\n",
              "<text text-anchor=\"middle\" x=\"557.5\" y=\"-7.8\" font-family=\"Helvetica,sans-Serif\" font-size=\"14.00\">class = 0</text>\n",
              "</g>\n",
              "<!-- 9&#45;&gt;10 -->\n",
              "<g id=\"edge10\" class=\"edge\">\n",
              "<title>9&#45;&gt;10</title>\n",
              "<path fill=\"none\" stroke=\"black\" d=\"M557.5,-103.73C557.5,-95.52 557.5,-86.86 557.5,-78.56\"/>\n",
              "<polygon fill=\"black\" stroke=\"black\" points=\"561,-78.3 557.5,-68.3 554,-78.3 561,-78.3\"/>\n",
              "</g>\n",
              "<!-- 11 -->\n",
              "<g id=\"node12\" class=\"node\">\n",
              "<title>11</title>\n",
              "<path fill=\"#399de5\" stroke=\"black\" d=\"M721.5,-68C721.5,-68 643.5,-68 643.5,-68 637.5,-68 631.5,-62 631.5,-56 631.5,-56 631.5,-12 631.5,-12 631.5,-6 637.5,0 643.5,0 643.5,0 721.5,0 721.5,0 727.5,0 733.5,-6 733.5,-12 733.5,-12 733.5,-56 733.5,-56 733.5,-62 727.5,-68 721.5,-68\"/>\n",
              "<text text-anchor=\"middle\" x=\"682.5\" y=\"-52.8\" font-family=\"Helvetica,sans-Serif\" font-size=\"14.00\">entropy = 0.0</text>\n",
              "<text text-anchor=\"middle\" x=\"682.5\" y=\"-37.8\" font-family=\"Helvetica,sans-Serif\" font-size=\"14.00\">samples = 20</text>\n",
              "<text text-anchor=\"middle\" x=\"682.5\" y=\"-22.8\" font-family=\"Helvetica,sans-Serif\" font-size=\"14.00\">value = [0, 20]</text>\n",
              "<text text-anchor=\"middle\" x=\"682.5\" y=\"-7.8\" font-family=\"Helvetica,sans-Serif\" font-size=\"14.00\">class = 1</text>\n",
              "</g>\n",
              "<!-- 9&#45;&gt;11 -->\n",
              "<g id=\"edge11\" class=\"edge\">\n",
              "<title>9&#45;&gt;11</title>\n",
              "<path fill=\"none\" stroke=\"black\" d=\"M604.05,-103.73C614.77,-94.33 626.17,-84.35 636.85,-74.99\"/>\n",
              "<polygon fill=\"black\" stroke=\"black\" points=\"639.27,-77.52 644.49,-68.3 634.66,-72.26 639.27,-77.52\"/>\n",
              "</g>\n",
              "</g>\n",
              "</svg>\n"
            ],
            "text/plain": [
              "<graphviz.sources.Source at 0x7feb8067b250>"
            ]
          },
          "metadata": {},
          "output_type": "display_data"
        }
      ],
      "source": [
        "display(graph1)"
      ]
    },
    {
      "cell_type": "code",
      "execution_count": null,
      "id": "4b93c839",
      "metadata": {
        "id": "4b93c839",
        "outputId": "e44f5207-a181-4536-b31a-f4fe5911031f"
      },
      "outputs": [
        {
          "data": {
            "image/svg+xml": [
              "<?xml version=\"1.0\" encoding=\"UTF-8\" standalone=\"no\"?>\n",
              "<!DOCTYPE svg PUBLIC \"-//W3C//DTD SVG 1.1//EN\"\n",
              " \"http://www.w3.org/Graphics/SVG/1.1/DTD/svg11.dtd\">\n",
              "<!-- Generated by graphviz version 6.0.1 (20220911.1526)\n",
              " -->\n",
              "<!-- Title: Tree Pages: 1 -->\n",
              "<svg width=\"939pt\" height=\"433pt\"\n",
              " viewBox=\"0.00 0.00 939.00 433.00\" xmlns=\"http://www.w3.org/2000/svg\" xmlns:xlink=\"http://www.w3.org/1999/xlink\">\n",
              "<g id=\"graph0\" class=\"graph\" transform=\"scale(1 1) rotate(0) translate(4 429)\">\n",
              "<title>Tree</title>\n",
              "<polygon fill=\"white\" stroke=\"none\" points=\"-4,4 -4,-429 935,-429 935,4 -4,4\"/>\n",
              "<!-- 0 -->\n",
              "<g id=\"node1\" class=\"node\">\n",
              "<title>0</title>\n",
              "<path fill=\"#f5ccaf\" stroke=\"black\" d=\"M528,-425C528,-425 346,-425 346,-425 340,-425 334,-419 334,-413 334,-413 334,-354 334,-354 334,-348 340,-342 346,-342 346,-342 528,-342 528,-342 534,-342 540,-348 540,-354 540,-354 540,-413 540,-413 540,-419 534,-425 528,-425\"/>\n",
              "<text text-anchor=\"middle\" x=\"437\" y=\"-409.8\" font-family=\"Helvetica,sans-Serif\" font-size=\"14.00\">concave points_mean &lt;= 0.255</text>\n",
              "<text text-anchor=\"middle\" x=\"437\" y=\"-394.8\" font-family=\"Helvetica,sans-Serif\" font-size=\"14.00\">gini = 0.468</text>\n",
              "<text text-anchor=\"middle\" x=\"437\" y=\"-379.8\" font-family=\"Helvetica,sans-Serif\" font-size=\"14.00\">samples = 398</text>\n",
              "<text text-anchor=\"middle\" x=\"437\" y=\"-364.8\" font-family=\"Helvetica,sans-Serif\" font-size=\"14.00\">value = [249, 149]</text>\n",
              "<text text-anchor=\"middle\" x=\"437\" y=\"-349.8\" font-family=\"Helvetica,sans-Serif\" font-size=\"14.00\">class = 0</text>\n",
              "</g>\n",
              "<!-- 1 -->\n",
              "<g id=\"node2\" class=\"node\">\n",
              "<title>1</title>\n",
              "<path fill=\"#e68844\" stroke=\"black\" d=\"M403.5,-306C403.5,-306 276.5,-306 276.5,-306 270.5,-306 264.5,-300 264.5,-294 264.5,-294 264.5,-235 264.5,-235 264.5,-229 270.5,-223 276.5,-223 276.5,-223 403.5,-223 403.5,-223 409.5,-223 415.5,-229 415.5,-235 415.5,-235 415.5,-294 415.5,-294 415.5,-300 409.5,-306 403.5,-306\"/>\n",
              "<text text-anchor=\"middle\" x=\"340\" y=\"-290.8\" font-family=\"Helvetica,sans-Serif\" font-size=\"14.00\">radius_worst &lt;= 0.317</text>\n",
              "<text text-anchor=\"middle\" x=\"340\" y=\"-275.8\" font-family=\"Helvetica,sans-Serif\" font-size=\"14.00\">gini = 0.1</text>\n",
              "<text text-anchor=\"middle\" x=\"340\" y=\"-260.8\" font-family=\"Helvetica,sans-Serif\" font-size=\"14.00\">samples = 245</text>\n",
              "<text text-anchor=\"middle\" x=\"340\" y=\"-245.8\" font-family=\"Helvetica,sans-Serif\" font-size=\"14.00\">value = [232, 13]</text>\n",
              "<text text-anchor=\"middle\" x=\"340\" y=\"-230.8\" font-family=\"Helvetica,sans-Serif\" font-size=\"14.00\">class = 0</text>\n",
              "</g>\n",
              "<!-- 0&#45;&gt;1 -->\n",
              "<g id=\"edge1\" class=\"edge\">\n",
              "<title>0&#45;&gt;1</title>\n",
              "<path fill=\"none\" stroke=\"black\" d=\"M403.35,-341.91C395.82,-332.83 387.77,-323.12 380.02,-313.77\"/>\n",
              "<polygon fill=\"black\" stroke=\"black\" points=\"382.67,-311.49 373.59,-306.02 377.28,-315.95 382.67,-311.49\"/>\n",
              "<text text-anchor=\"middle\" x=\"371.27\" y=\"-327.21\" font-family=\"Helvetica,sans-Serif\" font-size=\"14.00\">True</text>\n",
              "</g>\n",
              "<!-- 8 -->\n",
              "<g id=\"node9\" class=\"node\">\n",
              "<title>8</title>\n",
              "<path fill=\"#52a9e8\" stroke=\"black\" d=\"M618.5,-306C618.5,-306 487.5,-306 487.5,-306 481.5,-306 475.5,-300 475.5,-294 475.5,-294 475.5,-235 475.5,-235 475.5,-229 481.5,-223 487.5,-223 487.5,-223 618.5,-223 618.5,-223 624.5,-223 630.5,-229 630.5,-235 630.5,-235 630.5,-294 630.5,-294 630.5,-300 624.5,-306 618.5,-306\"/>\n",
              "<text text-anchor=\"middle\" x=\"553\" y=\"-290.8\" font-family=\"Helvetica,sans-Serif\" font-size=\"14.00\">texture_worst &lt;= 0.223</text>\n",
              "<text text-anchor=\"middle\" x=\"553\" y=\"-275.8\" font-family=\"Helvetica,sans-Serif\" font-size=\"14.00\">gini = 0.198</text>\n",
              "<text text-anchor=\"middle\" x=\"553\" y=\"-260.8\" font-family=\"Helvetica,sans-Serif\" font-size=\"14.00\">samples = 153</text>\n",
              "<text text-anchor=\"middle\" x=\"553\" y=\"-245.8\" font-family=\"Helvetica,sans-Serif\" font-size=\"14.00\">value = [17, 136]</text>\n",
              "<text text-anchor=\"middle\" x=\"553\" y=\"-230.8\" font-family=\"Helvetica,sans-Serif\" font-size=\"14.00\">class = 1</text>\n",
              "</g>\n",
              "<!-- 0&#45;&gt;8 -->\n",
              "<g id=\"edge8\" class=\"edge\">\n",
              "<title>0&#45;&gt;8</title>\n",
              "<path fill=\"none\" stroke=\"black\" d=\"M477.25,-341.91C486.42,-332.65 496.26,-322.73 505.7,-313.21\"/>\n",
              "<polygon fill=\"black\" stroke=\"black\" points=\"508.27,-315.59 512.83,-306.02 503.3,-310.66 508.27,-315.59\"/>\n",
              "<text text-anchor=\"middle\" x=\"512.93\" y=\"-327.32\" font-family=\"Helvetica,sans-Serif\" font-size=\"14.00\">False</text>\n",
              "</g>\n",
              "<!-- 2 -->\n",
              "<g id=\"node3\" class=\"node\">\n",
              "<title>2</title>\n",
              "<path fill=\"#e6843d\" stroke=\"black\" d=\"M225.5,-187C225.5,-187 126.5,-187 126.5,-187 120.5,-187 114.5,-181 114.5,-175 114.5,-175 114.5,-116 114.5,-116 114.5,-110 120.5,-104 126.5,-104 126.5,-104 225.5,-104 225.5,-104 231.5,-104 237.5,-110 237.5,-116 237.5,-116 237.5,-175 237.5,-175 237.5,-181 231.5,-187 225.5,-187\"/>\n",
              "<text text-anchor=\"middle\" x=\"176\" y=\"-171.8\" font-family=\"Helvetica,sans-Serif\" font-size=\"14.00\">area_se &lt;= 0.078</text>\n",
              "<text text-anchor=\"middle\" x=\"176\" y=\"-156.8\" font-family=\"Helvetica,sans-Serif\" font-size=\"14.00\">gini = 0.043</text>\n",
              "<text text-anchor=\"middle\" x=\"176\" y=\"-141.8\" font-family=\"Helvetica,sans-Serif\" font-size=\"14.00\">samples = 230</text>\n",
              "<text text-anchor=\"middle\" x=\"176\" y=\"-126.8\" font-family=\"Helvetica,sans-Serif\" font-size=\"14.00\">value = [225, 5]</text>\n",
              "<text text-anchor=\"middle\" x=\"176\" y=\"-111.8\" font-family=\"Helvetica,sans-Serif\" font-size=\"14.00\">class = 0</text>\n",
              "</g>\n",
              "<!-- 1&#45;&gt;2 -->\n",
              "<g id=\"edge2\" class=\"edge\">\n",
              "<title>1&#45;&gt;2</title>\n",
              "<path fill=\"none\" stroke=\"black\" d=\"M283.1,-222.91C269.62,-213.29 255.13,-202.95 241.31,-193.09\"/>\n",
              "<polygon fill=\"black\" stroke=\"black\" points=\"242.97,-189.98 232.8,-187.02 238.91,-195.68 242.97,-189.98\"/>\n",
              "</g>\n",
              "<!-- 5 -->\n",
              "<g id=\"node6\" class=\"node\">\n",
              "<title>5</title>\n",
              "<path fill=\"#e6f3fc\" stroke=\"black\" d=\"M402,-187C402,-187 278,-187 278,-187 272,-187 266,-181 266,-175 266,-175 266,-116 266,-116 266,-110 272,-104 278,-104 278,-104 402,-104 402,-104 408,-104 414,-110 414,-116 414,-116 414,-175 414,-175 414,-181 408,-187 402,-187\"/>\n",
              "<text text-anchor=\"middle\" x=\"340\" y=\"-171.8\" font-family=\"Helvetica,sans-Serif\" font-size=\"14.00\">texture_worst &lt;= 0.21</text>\n",
              "<text text-anchor=\"middle\" x=\"340\" y=\"-156.8\" font-family=\"Helvetica,sans-Serif\" font-size=\"14.00\">gini = 0.498</text>\n",
              "<text text-anchor=\"middle\" x=\"340\" y=\"-141.8\" font-family=\"Helvetica,sans-Serif\" font-size=\"14.00\">samples = 15</text>\n",
              "<text text-anchor=\"middle\" x=\"340\" y=\"-126.8\" font-family=\"Helvetica,sans-Serif\" font-size=\"14.00\">value = [7, 8]</text>\n",
              "<text text-anchor=\"middle\" x=\"340\" y=\"-111.8\" font-family=\"Helvetica,sans-Serif\" font-size=\"14.00\">class = 1</text>\n",
              "</g>\n",
              "<!-- 1&#45;&gt;5 -->\n",
              "<g id=\"edge5\" class=\"edge\">\n",
              "<title>1&#45;&gt;5</title>\n",
              "<path fill=\"none\" stroke=\"black\" d=\"M340,-222.91C340,-214.65 340,-205.86 340,-197.3\"/>\n",
              "<polygon fill=\"black\" stroke=\"black\" points=\"343.5,-197.02 340,-187.02 336.5,-197.02 343.5,-197.02\"/>\n",
              "</g>\n",
              "<!-- 3 -->\n",
              "<g id=\"node4\" class=\"node\">\n",
              "<title>3</title>\n",
              "<path fill=\"#e5833c\" stroke=\"black\" d=\"M98,-68C98,-68 12,-68 12,-68 6,-68 0,-62 0,-56 0,-56 0,-12 0,-12 0,-6 6,0 12,0 12,0 98,0 98,0 104,0 110,-6 110,-12 110,-12 110,-56 110,-56 110,-62 104,-68 98,-68\"/>\n",
              "<text text-anchor=\"middle\" x=\"55\" y=\"-52.8\" font-family=\"Helvetica,sans-Serif\" font-size=\"14.00\">gini = 0.026</text>\n",
              "<text text-anchor=\"middle\" x=\"55\" y=\"-37.8\" font-family=\"Helvetica,sans-Serif\" font-size=\"14.00\">samples = 227</text>\n",
              "<text text-anchor=\"middle\" x=\"55\" y=\"-22.8\" font-family=\"Helvetica,sans-Serif\" font-size=\"14.00\">value = [224, 3]</text>\n",
              "<text text-anchor=\"middle\" x=\"55\" y=\"-7.8\" font-family=\"Helvetica,sans-Serif\" font-size=\"14.00\">class = 0</text>\n",
              "</g>\n",
              "<!-- 2&#45;&gt;3 -->\n",
              "<g id=\"edge3\" class=\"edge\">\n",
              "<title>2&#45;&gt;3</title>\n",
              "<path fill=\"none\" stroke=\"black\" d=\"M130.94,-103.73C120.66,-94.42 109.75,-84.54 99.49,-75.26\"/>\n",
              "<polygon fill=\"black\" stroke=\"black\" points=\"101.56,-72.41 91.8,-68.3 96.86,-77.6 101.56,-72.41\"/>\n",
              "</g>\n",
              "<!-- 4 -->\n",
              "<g id=\"node5\" class=\"node\">\n",
              "<title>4</title>\n",
              "<path fill=\"#9ccef2\" stroke=\"black\" d=\"M211.5,-68C211.5,-68 140.5,-68 140.5,-68 134.5,-68 128.5,-62 128.5,-56 128.5,-56 128.5,-12 128.5,-12 128.5,-6 134.5,0 140.5,0 140.5,0 211.5,0 211.5,0 217.5,0 223.5,-6 223.5,-12 223.5,-12 223.5,-56 223.5,-56 223.5,-62 217.5,-68 211.5,-68\"/>\n",
              "<text text-anchor=\"middle\" x=\"176\" y=\"-52.8\" font-family=\"Helvetica,sans-Serif\" font-size=\"14.00\">gini = 0.444</text>\n",
              "<text text-anchor=\"middle\" x=\"176\" y=\"-37.8\" font-family=\"Helvetica,sans-Serif\" font-size=\"14.00\">samples = 3</text>\n",
              "<text text-anchor=\"middle\" x=\"176\" y=\"-22.8\" font-family=\"Helvetica,sans-Serif\" font-size=\"14.00\">value = [1, 2]</text>\n",
              "<text text-anchor=\"middle\" x=\"176\" y=\"-7.8\" font-family=\"Helvetica,sans-Serif\" font-size=\"14.00\">class = 1</text>\n",
              "</g>\n",
              "<!-- 2&#45;&gt;4 -->\n",
              "<g id=\"edge4\" class=\"edge\">\n",
              "<title>2&#45;&gt;4</title>\n",
              "<path fill=\"none\" stroke=\"black\" d=\"M176,-103.73C176,-95.52 176,-86.86 176,-78.56\"/>\n",
              "<polygon fill=\"black\" stroke=\"black\" points=\"179.5,-78.3 176,-68.3 172.5,-78.3 179.5,-78.3\"/>\n",
              "</g>\n",
              "<!-- 6 -->\n",
              "<g id=\"node7\" class=\"node\">\n",
              "<title>6</title>\n",
              "<path fill=\"#e58139\" stroke=\"black\" d=\"M324.5,-68C324.5,-68 253.5,-68 253.5,-68 247.5,-68 241.5,-62 241.5,-56 241.5,-56 241.5,-12 241.5,-12 241.5,-6 247.5,0 253.5,0 253.5,0 324.5,0 324.5,0 330.5,0 336.5,-6 336.5,-12 336.5,-12 336.5,-56 336.5,-56 336.5,-62 330.5,-68 324.5,-68\"/>\n",
              "<text text-anchor=\"middle\" x=\"289\" y=\"-52.8\" font-family=\"Helvetica,sans-Serif\" font-size=\"14.00\">gini = 0.0</text>\n",
              "<text text-anchor=\"middle\" x=\"289\" y=\"-37.8\" font-family=\"Helvetica,sans-Serif\" font-size=\"14.00\">samples = 5</text>\n",
              "<text text-anchor=\"middle\" x=\"289\" y=\"-22.8\" font-family=\"Helvetica,sans-Serif\" font-size=\"14.00\">value = [5, 0]</text>\n",
              "<text text-anchor=\"middle\" x=\"289\" y=\"-7.8\" font-family=\"Helvetica,sans-Serif\" font-size=\"14.00\">class = 0</text>\n",
              "</g>\n",
              "<!-- 5&#45;&gt;6 -->\n",
              "<g id=\"edge6\" class=\"edge\">\n",
              "<title>5&#45;&gt;6</title>\n",
              "<path fill=\"none\" stroke=\"black\" d=\"M321.01,-103.73C317.02,-95.15 312.79,-86.09 308.77,-77.46\"/>\n",
              "<polygon fill=\"black\" stroke=\"black\" points=\"311.9,-75.89 304.51,-68.3 305.56,-78.84 311.9,-75.89\"/>\n",
              "</g>\n",
              "<!-- 7 -->\n",
              "<g id=\"node8\" class=\"node\">\n",
              "<title>7</title>\n",
              "<path fill=\"#6ab6ec\" stroke=\"black\" d=\"M441,-68C441,-68 367,-68 367,-68 361,-68 355,-62 355,-56 355,-56 355,-12 355,-12 355,-6 361,0 367,0 367,0 441,0 441,0 447,0 453,-6 453,-12 453,-12 453,-56 453,-56 453,-62 447,-68 441,-68\"/>\n",
              "<text text-anchor=\"middle\" x=\"404\" y=\"-52.8\" font-family=\"Helvetica,sans-Serif\" font-size=\"14.00\">gini = 0.32</text>\n",
              "<text text-anchor=\"middle\" x=\"404\" y=\"-37.8\" font-family=\"Helvetica,sans-Serif\" font-size=\"14.00\">samples = 10</text>\n",
              "<text text-anchor=\"middle\" x=\"404\" y=\"-22.8\" font-family=\"Helvetica,sans-Serif\" font-size=\"14.00\">value = [2, 8]</text>\n",
              "<text text-anchor=\"middle\" x=\"404\" y=\"-7.8\" font-family=\"Helvetica,sans-Serif\" font-size=\"14.00\">class = 1</text>\n",
              "</g>\n",
              "<!-- 5&#45;&gt;7 -->\n",
              "<g id=\"edge7\" class=\"edge\">\n",
              "<title>5&#45;&gt;7</title>\n",
              "<path fill=\"none\" stroke=\"black\" d=\"M363.83,-103.73C368.9,-95.06 374.25,-85.9 379.35,-77.18\"/>\n",
              "<polygon fill=\"black\" stroke=\"black\" points=\"382.51,-78.7 384.54,-68.3 376.47,-75.17 382.51,-78.7\"/>\n",
              "</g>\n",
              "<!-- 9 -->\n",
              "<g id=\"node10\" class=\"node\">\n",
              "<title>9</title>\n",
              "<path fill=\"#efb388\" stroke=\"black\" d=\"M644,-187C644,-187 462,-187 462,-187 456,-187 450,-181 450,-175 450,-175 450,-116 450,-116 450,-110 456,-104 462,-104 462,-104 644,-104 644,-104 650,-104 656,-110 656,-116 656,-116 656,-175 656,-175 656,-181 650,-187 644,-187\"/>\n",
              "<text text-anchor=\"middle\" x=\"553\" y=\"-171.8\" font-family=\"Helvetica,sans-Serif\" font-size=\"14.00\">concave points_mean &lt;= 0.452</text>\n",
              "<text text-anchor=\"middle\" x=\"553\" y=\"-156.8\" font-family=\"Helvetica,sans-Serif\" font-size=\"14.00\">gini = 0.408</text>\n",
              "<text text-anchor=\"middle\" x=\"553\" y=\"-141.8\" font-family=\"Helvetica,sans-Serif\" font-size=\"14.00\">samples = 14</text>\n",
              "<text text-anchor=\"middle\" x=\"553\" y=\"-126.8\" font-family=\"Helvetica,sans-Serif\" font-size=\"14.00\">value = [10, 4]</text>\n",
              "<text text-anchor=\"middle\" x=\"553\" y=\"-111.8\" font-family=\"Helvetica,sans-Serif\" font-size=\"14.00\">class = 0</text>\n",
              "</g>\n",
              "<!-- 8&#45;&gt;9 -->\n",
              "<g id=\"edge9\" class=\"edge\">\n",
              "<title>8&#45;&gt;9</title>\n",
              "<path fill=\"none\" stroke=\"black\" d=\"M553,-222.91C553,-214.65 553,-205.86 553,-197.3\"/>\n",
              "<polygon fill=\"black\" stroke=\"black\" points=\"556.5,-197.02 553,-187.02 549.5,-197.02 556.5,-197.02\"/>\n",
              "</g>\n",
              "<!-- 12 -->\n",
              "<g id=\"node13\" class=\"node\">\n",
              "<title>12</title>\n",
              "<path fill=\"#44a2e6\" stroke=\"black\" d=\"M812.5,-187C812.5,-187 695.5,-187 695.5,-187 689.5,-187 683.5,-181 683.5,-175 683.5,-175 683.5,-116 683.5,-116 683.5,-110 689.5,-104 695.5,-104 695.5,-104 812.5,-104 812.5,-104 818.5,-104 824.5,-110 824.5,-116 824.5,-116 824.5,-175 824.5,-175 824.5,-181 818.5,-187 812.5,-187\"/>\n",
              "<text text-anchor=\"middle\" x=\"754\" y=\"-171.8\" font-family=\"Helvetica,sans-Serif\" font-size=\"14.00\">area_worst &lt;= 0.131</text>\n",
              "<text text-anchor=\"middle\" x=\"754\" y=\"-156.8\" font-family=\"Helvetica,sans-Serif\" font-size=\"14.00\">gini = 0.096</text>\n",
              "<text text-anchor=\"middle\" x=\"754\" y=\"-141.8\" font-family=\"Helvetica,sans-Serif\" font-size=\"14.00\">samples = 139</text>\n",
              "<text text-anchor=\"middle\" x=\"754\" y=\"-126.8\" font-family=\"Helvetica,sans-Serif\" font-size=\"14.00\">value = [7, 132]</text>\n",
              "<text text-anchor=\"middle\" x=\"754\" y=\"-111.8\" font-family=\"Helvetica,sans-Serif\" font-size=\"14.00\">class = 1</text>\n",
              "</g>\n",
              "<!-- 8&#45;&gt;12 -->\n",
              "<g id=\"edge12\" class=\"edge\">\n",
              "<title>8&#45;&gt;12</title>\n",
              "<path fill=\"none\" stroke=\"black\" d=\"M622.74,-222.91C639.73,-213.02 658.02,-202.37 675.4,-192.25\"/>\n",
              "<polygon fill=\"black\" stroke=\"black\" points=\"677.51,-195.08 684.39,-187.02 673.98,-189.03 677.51,-195.08\"/>\n",
              "</g>\n",
              "<!-- 10 -->\n",
              "<g id=\"node11\" class=\"node\">\n",
              "<title>10</title>\n",
              "<path fill=\"#e58139\" stroke=\"black\" d=\"M561,-68C561,-68 483,-68 483,-68 477,-68 471,-62 471,-56 471,-56 471,-12 471,-12 471,-6 477,0 483,0 483,0 561,0 561,0 567,0 573,-6 573,-12 573,-12 573,-56 573,-56 573,-62 567,-68 561,-68\"/>\n",
              "<text text-anchor=\"middle\" x=\"522\" y=\"-52.8\" font-family=\"Helvetica,sans-Serif\" font-size=\"14.00\">gini = 0.0</text>\n",
              "<text text-anchor=\"middle\" x=\"522\" y=\"-37.8\" font-family=\"Helvetica,sans-Serif\" font-size=\"14.00\">samples = 10</text>\n",
              "<text text-anchor=\"middle\" x=\"522\" y=\"-22.8\" font-family=\"Helvetica,sans-Serif\" font-size=\"14.00\">value = [10, 0]</text>\n",
              "<text text-anchor=\"middle\" x=\"522\" y=\"-7.8\" font-family=\"Helvetica,sans-Serif\" font-size=\"14.00\">class = 0</text>\n",
              "</g>\n",
              "<!-- 9&#45;&gt;10 -->\n",
              "<g id=\"edge10\" class=\"edge\">\n",
              "<title>9&#45;&gt;10</title>\n",
              "<path fill=\"none\" stroke=\"black\" d=\"M541.46,-103.73C539.08,-95.34 536.57,-86.47 534.18,-78.01\"/>\n",
              "<polygon fill=\"black\" stroke=\"black\" points=\"537.52,-76.97 531.43,-68.3 530.78,-78.87 537.52,-76.97\"/>\n",
              "</g>\n",
              "<!-- 11 -->\n",
              "<g id=\"node12\" class=\"node\">\n",
              "<title>11</title>\n",
              "<path fill=\"#399de5\" stroke=\"black\" d=\"M674.5,-68C674.5,-68 603.5,-68 603.5,-68 597.5,-68 591.5,-62 591.5,-56 591.5,-56 591.5,-12 591.5,-12 591.5,-6 597.5,0 603.5,0 603.5,0 674.5,0 674.5,0 680.5,0 686.5,-6 686.5,-12 686.5,-12 686.5,-56 686.5,-56 686.5,-62 680.5,-68 674.5,-68\"/>\n",
              "<text text-anchor=\"middle\" x=\"639\" y=\"-52.8\" font-family=\"Helvetica,sans-Serif\" font-size=\"14.00\">gini = 0.0</text>\n",
              "<text text-anchor=\"middle\" x=\"639\" y=\"-37.8\" font-family=\"Helvetica,sans-Serif\" font-size=\"14.00\">samples = 4</text>\n",
              "<text text-anchor=\"middle\" x=\"639\" y=\"-22.8\" font-family=\"Helvetica,sans-Serif\" font-size=\"14.00\">value = [0, 4]</text>\n",
              "<text text-anchor=\"middle\" x=\"639\" y=\"-7.8\" font-family=\"Helvetica,sans-Serif\" font-size=\"14.00\">class = 1</text>\n",
              "</g>\n",
              "<!-- 9&#45;&gt;11 -->\n",
              "<g id=\"edge11\" class=\"edge\">\n",
              "<title>9&#45;&gt;11</title>\n",
              "<path fill=\"none\" stroke=\"black\" d=\"M585.02,-103.73C592.04,-94.79 599.48,-85.32 606.52,-76.36\"/>\n",
              "<polygon fill=\"black\" stroke=\"black\" points=\"609.42,-78.33 612.85,-68.3 603.92,-74 609.42,-78.33\"/>\n",
              "</g>\n",
              "<!-- 13 -->\n",
              "<g id=\"node14\" class=\"node\">\n",
              "<title>13</title>\n",
              "<path fill=\"#fbede3\" stroke=\"black\" d=\"M791,-68C791,-68 717,-68 717,-68 711,-68 705,-62 705,-56 705,-56 705,-12 705,-12 705,-6 711,0 717,0 717,0 791,0 791,0 797,0 803,-6 803,-12 803,-12 803,-56 803,-56 803,-62 797,-68 791,-68\"/>\n",
              "<text text-anchor=\"middle\" x=\"754\" y=\"-52.8\" font-family=\"Helvetica,sans-Serif\" font-size=\"14.00\">gini = 0.497</text>\n",
              "<text text-anchor=\"middle\" x=\"754\" y=\"-37.8\" font-family=\"Helvetica,sans-Serif\" font-size=\"14.00\">samples = 13</text>\n",
              "<text text-anchor=\"middle\" x=\"754\" y=\"-22.8\" font-family=\"Helvetica,sans-Serif\" font-size=\"14.00\">value = [7, 6]</text>\n",
              "<text text-anchor=\"middle\" x=\"754\" y=\"-7.8\" font-family=\"Helvetica,sans-Serif\" font-size=\"14.00\">class = 0</text>\n",
              "</g>\n",
              "<!-- 12&#45;&gt;13 -->\n",
              "<g id=\"edge13\" class=\"edge\">\n",
              "<title>12&#45;&gt;13</title>\n",
              "<path fill=\"none\" stroke=\"black\" d=\"M754,-103.73C754,-95.52 754,-86.86 754,-78.56\"/>\n",
              "<polygon fill=\"black\" stroke=\"black\" points=\"757.5,-78.3 754,-68.3 750.5,-78.3 757.5,-78.3\"/>\n",
              "</g>\n",
              "<!-- 14 -->\n",
              "<g id=\"node15\" class=\"node\">\n",
              "<title>14</title>\n",
              "<path fill=\"#399de5\" stroke=\"black\" d=\"M919,-68C919,-68 833,-68 833,-68 827,-68 821,-62 821,-56 821,-56 821,-12 821,-12 821,-6 827,0 833,0 833,0 919,0 919,0 925,0 931,-6 931,-12 931,-12 931,-56 931,-56 931,-62 925,-68 919,-68\"/>\n",
              "<text text-anchor=\"middle\" x=\"876\" y=\"-52.8\" font-family=\"Helvetica,sans-Serif\" font-size=\"14.00\">gini = 0.0</text>\n",
              "<text text-anchor=\"middle\" x=\"876\" y=\"-37.8\" font-family=\"Helvetica,sans-Serif\" font-size=\"14.00\">samples = 126</text>\n",
              "<text text-anchor=\"middle\" x=\"876\" y=\"-22.8\" font-family=\"Helvetica,sans-Serif\" font-size=\"14.00\">value = [0, 126]</text>\n",
              "<text text-anchor=\"middle\" x=\"876\" y=\"-7.8\" font-family=\"Helvetica,sans-Serif\" font-size=\"14.00\">class = 1</text>\n",
              "</g>\n",
              "<!-- 12&#45;&gt;14 -->\n",
              "<g id=\"edge14\" class=\"edge\">\n",
              "<title>12&#45;&gt;14</title>\n",
              "<path fill=\"none\" stroke=\"black\" d=\"M799.43,-103.73C809.9,-94.33 821.02,-84.35 831.45,-74.99\"/>\n",
              "<polygon fill=\"black\" stroke=\"black\" points=\"833.79,-77.58 838.9,-68.3 829.12,-72.37 833.79,-77.58\"/>\n",
              "</g>\n",
              "</g>\n",
              "</svg>\n"
            ],
            "text/plain": [
              "<graphviz.sources.Source at 0x7feba4b9eb50>"
            ]
          },
          "metadata": {},
          "output_type": "display_data"
        }
      ],
      "source": [
        "display(graph2)\n"
      ]
    },
    {
      "cell_type": "markdown",
      "id": "fd35c671",
      "metadata": {
        "id": "fd35c671"
      },
      "source": [
        "# 2.(a)"
      ]
    },
    {
      "cell_type": "markdown",
      "id": "5e11ce56",
      "metadata": {
        "id": "5e11ce56"
      },
      "source": [
        "#### To train a Random Forest (RF) classifier with 10 estimators and compare the performance with the Decision Tree classifier(C1) trained in the previous section, we can use the RandomForestClassifier class from the sklearn.ensemble module and fit the model on the same training data."
      ]
    },
    {
      "cell_type": "code",
      "execution_count": null,
      "id": "17d4db74",
      "metadata": {
        "id": "17d4db74",
        "outputId": "69a7ea89-928a-4050-ef6d-7d6b518eef10"
      },
      "outputs": [
        {
          "name": "stdout",
          "output_type": "stream",
          "text": [
            "Random Forest score: 0.965\n"
          ]
        }
      ],
      "source": [
        "from sklearn.ensemble import RandomForestClassifier\n",
        "\n",
        "# Train a random forest classifier with 10 estimators\n",
        "rf = RandomForestClassifier(n_estimators=10)\n",
        "rf.fit(X_train, y_train)\n",
        "\n",
        "# Evaluate the performance on the test set\n",
        "rf_score = rf.score(X_test, y_test)\n",
        "print(\"Random Forest score: {:.3f}\".format(rf_score))"
      ]
    },
    {
      "cell_type": "markdown",
      "id": "f08b60dc",
      "metadata": {
        "id": "f08b60dc"
      },
      "source": [
        "### compare the performance for the test set with C1."
      ]
    },
    {
      "cell_type": "code",
      "execution_count": null,
      "id": "e4efc4ed",
      "metadata": {
        "id": "e4efc4ed"
      },
      "outputs": [],
      "source": [
        "from sklearn.metrics import precision_score, recall_score, f1_score, accuracy_score\n",
        "\n",
        "# Evaluate performance of C1 and C2 on the testing set\n",
        "y_pred5 = rf.predict(X_test)\n",
        "\n",
        "precision1 = precision_score(y_test, y_pred5)\n",
        "\n",
        "recall1 = recall_score(y_test, y_pred5)\n",
        "\n",
        "f1_score1 = f1_score(y_test, y_pred5)\n",
        "\n",
        "acc1 = accuracy_score(y_test, y_pred5)\n",
        "\n",
        "comp3 = pd.DataFrame({'Model':[\"RF\"],'Accuracy':[acc1], 'Recall':[recall1],'Precision':[precision1\n",
        "                                                                                            ], 'F1 Score':[f1_score1]})\n"
      ]
    },
    {
      "cell_type": "code",
      "execution_count": null,
      "id": "219f69ea",
      "metadata": {
        "id": "219f69ea",
        "outputId": "9c44a53b-d0bc-4446-ed96-9bb8ac9df96f"
      },
      "outputs": [
        {
          "name": "stdout",
          "output_type": "stream",
          "text": [
            "C1 performance before pruning\n"
          ]
        },
        {
          "data": {
            "text/html": [
              "<div>\n",
              "<style scoped>\n",
              "    .dataframe tbody tr th:only-of-type {\n",
              "        vertical-align: middle;\n",
              "    }\n",
              "\n",
              "    .dataframe tbody tr th {\n",
              "        vertical-align: top;\n",
              "    }\n",
              "\n",
              "    .dataframe thead th {\n",
              "        text-align: right;\n",
              "    }\n",
              "</style>\n",
              "<table border=\"1\" class=\"dataframe\">\n",
              "  <thead>\n",
              "    <tr style=\"text-align: right;\">\n",
              "      <th></th>\n",
              "      <th>Impurity Measure</th>\n",
              "      <th>Accuracy</th>\n",
              "      <th>Recall</th>\n",
              "      <th>Precision</th>\n",
              "      <th>F1 Score</th>\n",
              "    </tr>\n",
              "  </thead>\n",
              "  <tbody>\n",
              "    <tr>\n",
              "      <th>0</th>\n",
              "      <td>Entropy</td>\n",
              "      <td>0.953216</td>\n",
              "      <td>0.904762</td>\n",
              "      <td>0.966102</td>\n",
              "      <td>0.934426</td>\n",
              "    </tr>\n",
              "  </tbody>\n",
              "</table>\n",
              "</div>"
            ],
            "text/plain": [
              "  Impurity Measure  Accuracy    Recall  Precision  F1 Score\n",
              "0          Entropy  0.953216  0.904762   0.966102  0.934426"
            ]
          },
          "execution_count": 44,
          "metadata": {},
          "output_type": "execute_result"
        }
      ],
      "source": [
        "print(\"C1 performance before pruning\")\n",
        "comp1.head(1)"
      ]
    },
    {
      "cell_type": "code",
      "execution_count": null,
      "id": "d28e42cd",
      "metadata": {
        "id": "d28e42cd",
        "outputId": "46717344-3d61-47ee-82ec-a03c15338919"
      },
      "outputs": [
        {
          "name": "stdout",
          "output_type": "stream",
          "text": [
            "C1 performance after pruning\n"
          ]
        },
        {
          "data": {
            "text/html": [
              "<div>\n",
              "<style scoped>\n",
              "    .dataframe tbody tr th:only-of-type {\n",
              "        vertical-align: middle;\n",
              "    }\n",
              "\n",
              "    .dataframe tbody tr th {\n",
              "        vertical-align: top;\n",
              "    }\n",
              "\n",
              "    .dataframe thead th {\n",
              "        text-align: right;\n",
              "    }\n",
              "</style>\n",
              "<table border=\"1\" class=\"dataframe\">\n",
              "  <thead>\n",
              "    <tr style=\"text-align: right;\">\n",
              "      <th></th>\n",
              "      <th>Impurity Measure</th>\n",
              "      <th>Accuracy</th>\n",
              "      <th>Recall</th>\n",
              "      <th>Precision</th>\n",
              "      <th>F1 Score</th>\n",
              "    </tr>\n",
              "  </thead>\n",
              "  <tbody>\n",
              "    <tr>\n",
              "      <th>0</th>\n",
              "      <td>Entropy</td>\n",
              "      <td>0.947368</td>\n",
              "      <td>0.904762</td>\n",
              "      <td>0.95</td>\n",
              "      <td>0.926829</td>\n",
              "    </tr>\n",
              "  </tbody>\n",
              "</table>\n",
              "</div>"
            ],
            "text/plain": [
              "  Impurity Measure  Accuracy    Recall  Precision  F1 Score\n",
              "0          Entropy  0.947368  0.904762       0.95  0.926829"
            ]
          },
          "execution_count": 45,
          "metadata": {},
          "output_type": "execute_result"
        }
      ],
      "source": [
        "print(\"C1 performance after pruning\")\n",
        "comp2.head(1)"
      ]
    },
    {
      "cell_type": "code",
      "execution_count": null,
      "id": "b546361d",
      "metadata": {
        "id": "b546361d",
        "outputId": "16044fd9-5e03-41e8-da5b-dd369a71c331"
      },
      "outputs": [
        {
          "name": "stdout",
          "output_type": "stream",
          "text": [
            "Random Forest performance\n"
          ]
        },
        {
          "data": {
            "text/html": [
              "<div>\n",
              "<style scoped>\n",
              "    .dataframe tbody tr th:only-of-type {\n",
              "        vertical-align: middle;\n",
              "    }\n",
              "\n",
              "    .dataframe tbody tr th {\n",
              "        vertical-align: top;\n",
              "    }\n",
              "\n",
              "    .dataframe thead th {\n",
              "        text-align: right;\n",
              "    }\n",
              "</style>\n",
              "<table border=\"1\" class=\"dataframe\">\n",
              "  <thead>\n",
              "    <tr style=\"text-align: right;\">\n",
              "      <th></th>\n",
              "      <th>Model</th>\n",
              "      <th>Accuracy</th>\n",
              "      <th>Recall</th>\n",
              "      <th>Precision</th>\n",
              "      <th>F1 Score</th>\n",
              "    </tr>\n",
              "  </thead>\n",
              "  <tbody>\n",
              "    <tr>\n",
              "      <th>0</th>\n",
              "      <td>RF</td>\n",
              "      <td>0.964912</td>\n",
              "      <td>0.952381</td>\n",
              "      <td>0.952381</td>\n",
              "      <td>0.952381</td>\n",
              "    </tr>\n",
              "  </tbody>\n",
              "</table>\n",
              "</div>"
            ],
            "text/plain": [
              "  Model  Accuracy    Recall  Precision  F1 Score\n",
              "0    RF  0.964912  0.952381   0.952381  0.952381"
            ]
          },
          "execution_count": 46,
          "metadata": {},
          "output_type": "execute_result"
        }
      ],
      "source": [
        "print(\"Random Forest performance\")\n",
        "comp3"
      ]
    },
    {
      "cell_type": "markdown",
      "id": "8eb9b0a4",
      "metadata": {
        "id": "8eb9b0a4"
      },
      "source": [
        "![Screen%20Shot%202023-04-07%20at%209.49.22%20PM.png](attachment:Screen%20Shot%202023-04-07%20at%209.49.22%20PM.png)"
      ]
    },
    {
      "cell_type": "markdown",
      "id": "eb445d69",
      "metadata": {
        "id": "eb445d69"
      },
      "source": [
        "### The over all performance of RF with estimator = 10 is better than C1 in previous solution before or after pruning the tree as we can see in given below tables."
      ]
    },
    {
      "cell_type": "markdown",
      "id": "7c31c81f",
      "metadata": {
        "id": "7c31c81f"
      },
      "source": [
        "## (b) Change the number of estimators from 10, 50, 100, 500, 1000."
      ]
    },
    {
      "cell_type": "code",
      "execution_count": null,
      "id": "f3d57df9",
      "metadata": {
        "id": "f3d57df9"
      },
      "outputs": [],
      "source": [
        "\n",
        "# Train random forest classifiers with different numbers of estimators\n",
        "\n",
        "n_estimators = [10, 50, 100, 500, 1000]\n",
        "rf_scores = []\n",
        "\n",
        "for n in n_estimators:\n",
        "    rf = RandomForestClassifier(n_estimators=n)\n",
        "    rf.fit(X_train, y_train)\n",
        "    pred= rf.predict(X_test)\n",
        "    accuracy= accuracy_score(y_test, pred)\n",
        "    rf_scores.append(accuracy)"
      ]
    },
    {
      "cell_type": "code",
      "execution_count": null,
      "id": "9b8d3dea",
      "metadata": {
        "id": "9b8d3dea",
        "outputId": "2ece87da-3f13-4e16-89a0-dfa0eba0f28c"
      },
      "outputs": [
        {
          "data": {
            "image/png": "[encoded data removed]",
            "text/plain": [
              "<Figure size 432x288 with 1 Axes>"
            ]
          },
          "metadata": {
            "needs_background": "light"
          },
          "output_type": "display_data"
        }
      ],
      "source": [
        "# Plot the test set performance against the number of estimators\n",
        "\n",
        "plt.plot(n_estimators, rf_scores)\n",
        "plt.xlabel(\"Number of estimators\")\n",
        "plt.ylabel(\"Test set score\")\n",
        "plt.show()"
      ]
    },
    {
      "cell_type": "markdown",
      "id": "603fb76b",
      "metadata": {
        "id": "603fb76b"
      },
      "source": [
        "Model is performing better when estimators are 500."
      ]
    },
    {
      "cell_type": "markdown",
      "id": "84f7c4bd",
      "metadata": {
        "id": "84f7c4bd"
      },
      "source": [
        "## (c) Perform 5 fold cross-validation and report the performance for RF classifier with 50 estimators"
      ]
    },
    {
      "cell_type": "code",
      "execution_count": null,
      "id": "f7b74a95",
      "metadata": {
        "id": "f7b74a95"
      },
      "outputs": [],
      "source": [
        "from sklearn.model_selection import cross_val_score\n",
        "\n",
        "# Train a random forest classifier with 50 estimators\n",
        "rf = RandomForestClassifier(n_estimators=50)\n",
        "\n",
        "# Perform 5-fold cross-validation\n",
        "rf_cv_scores = cross_val_score(rf, X_scaled, y_encoded, scoring='accuracy',  cv=5)\n"
      ]
    },
    {
      "cell_type": "markdown",
      "id": "8e3800fb",
      "metadata": {
        "id": "8e3800fb"
      },
      "source": [
        "## Performance for RF classifier with 50 estimators"
      ]
    },
    {
      "cell_type": "code",
      "execution_count": null,
      "id": "7fb0b452",
      "metadata": {
        "id": "7fb0b452",
        "outputId": "58567554-dd70-45c7-f16e-32792ccf15bb"
      },
      "outputs": [
        {
          "name": "stdout",
          "output_type": "stream",
          "text": [
            "Random Forest CV average accuracy score (mean): 0.960\n",
            "Random Forest CV score (std): 0.021\n"
          ]
        }
      ],
      "source": [
        "# Report the mean and standard deviation of the cross-validation scores\n",
        "print(\"Random Forest CV average accuracy score (mean): {:.3f}\".format(rf_cv_scores.mean()))\n",
        "print(\"Random Forest CV score (std): {:.3f}\".format(rf_cv_scores.std()))"
      ]
    },
    {
      "cell_type": "markdown",
      "id": "98750c3e",
      "metadata": {
        "id": "98750c3e"
      },
      "source": [
        "##### After performing the Random Forest with 50 estimator the mean value is .96 ."
      ]
    },
    {
      "cell_type": "markdown",
      "id": "585843be",
      "metadata": {
        "id": "585843be"
      },
      "source": [
        "## (d) Plot the feature importance for RF with 200 estimators using the mean decrease in impurity and also feature permutation and explain the plots."
      ]
    },
    {
      "cell_type": "markdown",
      "id": "87e4bef8",
      "metadata": {
        "id": "87e4bef8"
      },
      "source": [
        "## Compute feature importance using mean decrease in impurity"
      ]
    },
    {
      "cell_type": "code",
      "execution_count": null,
      "id": "e453f8c8",
      "metadata": {
        "id": "e453f8c8",
        "outputId": "b081d828-8d85-4fc2-c23e-4f4ce7d0e0ba"
      },
      "outputs": [
        {
          "name": "stdout",
          "output_type": "stream",
          "text": [
            "[0.0273597  0.0181378  0.05236127 0.04568669 0.00599818 0.01115265\n",
            " 0.05384436 0.11716226 0.00287118 0.00514496 0.01725589 0.0054498\n",
            " 0.0168054  0.0348996  0.00582431 0.00335598 0.00815723 0.00393081\n",
            " 0.00544476 0.00665177 0.10738715 0.01722181 0.09568608 0.09250755\n",
            " 0.01038436 0.01365257 0.03078884 0.16097195 0.0175174  0.00638769]\n"
          ]
        },
        {
          "data": {
            "image/png": "[encoded data removed]",
            "text/plain": [
              "<Figure size 1152x576 with 1 Axes>"
            ]
          },
          "metadata": {
            "needs_background": "light"
          },
          "output_type": "display_data"
        }
      ],
      "source": [
        "\n",
        "# Train a random forest classifier with 200 estimators\n",
        "rf = RandomForestClassifier(n_estimators=200)\n",
        "rf.fit(X_train, y_train)\n",
        "\n",
        "# Get feature importance using mean decrease in impurity\n",
        "importances = rf.feature_importances_\n",
        "\n",
        "# Sort features by decreasing importance\n",
        "\n",
        "print(importances)\n",
        "# Create bar plot\n",
        "plt.figure(figsize=(16,8))\n",
        "plt.bar(range(len(df.columns[1:])), importances)\n",
        "plt.xticks(range(len(df.columns[1:])), df.columns[1:], rotation=90)\n",
        "plt.title('Feature Importance - Mean Decrease in Impurity', size=15)\n",
        "plt.show()"
      ]
    },
    {
      "cell_type": "markdown",
      "id": "7fed78d2",
      "metadata": {
        "id": "7fed78d2"
      },
      "source": [
        "## Compute feature importance using feature permutation"
      ]
    },
    {
      "cell_type": "code",
      "execution_count": null,
      "id": "f863b56e",
      "metadata": {
        "id": "f863b56e",
        "outputId": "f07e46bc-ed58-47f5-ce63-f067d57afda7"
      },
      "outputs": [
        {
          "name": "stdout",
          "output_type": "stream",
          "text": [
            "[ 0.          0.00233918  0.          0.00116959 -0.00233918 -0.00116959\n",
            " -0.00467836 -0.00467836  0.          0.          0.          0.\n",
            " -0.00116959  0.00233918  0.          0.          0.          0.\n",
            "  0.          0.          0.00467836  0.00467836  0.00116959  0.00350877\n",
            " -0.00233918  0.         -0.00350877  0.00584795  0.          0.        ]\n"
          ]
        },
        {
          "data": {
            "image/png": "[encoded data removed]",
            "text/plain": [
              "<Figure size 1440x432 with 1 Axes>"
            ]
          },
          "metadata": {
            "needs_background": "light"
          },
          "output_type": "display_data"
        }
      ],
      "source": [
        "from sklearn.inspection import permutation_importance\n",
        "\n",
        "# Compute feature importance using feature permutation\n",
        "result = permutation_importance(rf, X_test, y_test, random_state=42,)\n",
        "importances = result.importances_mean\n",
        "print(importances)\n",
        "plt.figure(figsize=(20,6))\n",
        "default_x_ticks = range(len(df.columns[1:]))\n",
        "plt.bar(default_x_ticks, importances)\n",
        "plt.xticks(default_x_ticks, df.columns[1:], rotation=90)\n",
        "plt.title('Feature importance based on mean decrease in impurity', size=12)\n",
        "plt.show()"
      ]
    },
    {
      "cell_type": "markdown",
      "id": "d2db94c5",
      "metadata": {
        "id": "d2db94c5"
      },
      "source": [
        "## feature importance using mean decrease in impurity\n",
        "### they are computed as the mean and standard deviation of accumulation of the impurity decrease within each tree.  Impurity-based feature importances can be misleading for high cardinality features (many unique values). \n",
        " \n",
        "#### As given in feature importances based on mean decrease in impurity plot the top 4 imporatant feature is \n",
        "1. concave points_worst\n",
        "2. concave points_mean\n",
        "3. area_worst\n",
        "4. perimeter_worst\n",
        "\n",
        "## feature importance using Permutation\n",
        "\n",
        "\n",
        "### Permutation feature importance overcomes limitations of the impurity-based feature importance: they do not have a bias toward high-cardinality features and can be computed on a left-out test set.\n",
        "\n",
        "##### the feature importances based on permutation top 4 imporatant feature is\n",
        "1. texture_worst\n",
        "2. texture_mean\n",
        "3. area_worst\n",
        "4. radius_worst\n",
        "\n",
        "As we can see Concave points worst and area worst feature is common in top 4 in both.\n"
      ]
    },
    {
      "cell_type": "markdown",
      "id": "582f1fa9",
      "metadata": {
        "id": "582f1fa9"
      },
      "source": [
        "## 3(a)"
      ]
    },
    {
      "cell_type": "code",
      "execution_count": null,
      "id": "a0d08195",
      "metadata": {
        "id": "a0d08195",
        "outputId": "2c0f935e-05dd-4fce-fd7b-a81d1386199e"
      },
      "outputs": [
        {
          "name": "stdout",
          "output_type": "stream",
          "text": [
            "ADA boost classifier score: 0.971\n"
          ]
        }
      ],
      "source": [
        "from sklearn.ensemble import AdaBoostClassifier\n",
        "\n",
        "# Assuming you have loaded your training and test data into X_train, y_train, X_test, and y_test arrays\n",
        "\n",
        "# Train an AdaBoost classifier with 10 estimators\n",
        "ab = AdaBoostClassifier(n_estimators=10)\n",
        "ab.fit(X_train, y_train)\n",
        "\n",
        "ab_score = ab.score(X_test, y_test)\n",
        "\n",
        "print(\"ADA boost classifier score: {:.3f}\".format(ab_score))\n",
        "# Once trained, the classifier can be used to make predictions on new data using the predict method:\n",
        "# y_pred_ab = ab.predict(X_test)\n",
        "\n"
      ]
    },
    {
      "cell_type": "markdown",
      "id": "d325536b",
      "metadata": {
        "id": "d325536b"
      },
      "source": [
        "## Compare the Performance with C1 and RF in 2a."
      ]
    },
    {
      "cell_type": "code",
      "execution_count": null,
      "id": "68102143",
      "metadata": {
        "id": "68102143"
      },
      "outputs": [],
      "source": [
        "from sklearn.metrics import precision_score, recall_score, f1_score, accuracy_score\n",
        "\n",
        "# Evaluate performance of C1 and C2 on the testing set\n",
        "y_pred1 = ab.predict(X_test)\n",
        "\n",
        "precision5 = precision_score(y_test, y_pred1)\n",
        "\n",
        "recall5 = recall_score(y_test, y_pred1)\n",
        "\n",
        "f1_score5 = f1_score(y_test, y_pred1)\n",
        "\n",
        "acc5 = accuracy_score(y_test, y_pred1)\n",
        "\n",
        "comp4 = pd.DataFrame({'Model':[\"RF\"],'Accuracy':[acc5], 'Recall':[recall5],'Precision':[precision5\n",
        "                                                                                            ], 'F1 Score':[f1_score5]})"
      ]
    },
    {
      "cell_type": "code",
      "execution_count": null,
      "id": "05b64a5e",
      "metadata": {
        "id": "05b64a5e",
        "outputId": "da1c662b-1029-435b-9417-4b8d5b8e4fc3"
      },
      "outputs": [
        {
          "data": {
            "text/html": [
              "<div>\n",
              "<style scoped>\n",
              "    .dataframe tbody tr th:only-of-type {\n",
              "        vertical-align: middle;\n",
              "    }\n",
              "\n",
              "    .dataframe tbody tr th {\n",
              "        vertical-align: top;\n",
              "    }\n",
              "\n",
              "    .dataframe thead th {\n",
              "        text-align: right;\n",
              "    }\n",
              "</style>\n",
              "<table border=\"1\" class=\"dataframe\">\n",
              "  <thead>\n",
              "    <tr style=\"text-align: right;\">\n",
              "      <th></th>\n",
              "      <th>Model</th>\n",
              "      <th>Accuracy</th>\n",
              "      <th>Recall</th>\n",
              "      <th>Precision</th>\n",
              "      <th>F1 Score</th>\n",
              "    </tr>\n",
              "  </thead>\n",
              "  <tbody>\n",
              "    <tr>\n",
              "      <th>0</th>\n",
              "      <td>RF</td>\n",
              "      <td>0.97076</td>\n",
              "      <td>0.952381</td>\n",
              "      <td>0.967742</td>\n",
              "      <td>0.96</td>\n",
              "    </tr>\n",
              "  </tbody>\n",
              "</table>\n",
              "</div>"
            ],
            "text/plain": [
              "  Model  Accuracy    Recall  Precision  F1 Score\n",
              "0    RF   0.97076  0.952381   0.967742      0.96"
            ]
          },
          "execution_count": 55,
          "metadata": {},
          "output_type": "execute_result"
        }
      ],
      "source": [
        "comp4"
      ]
    },
    {
      "cell_type": "code",
      "execution_count": null,
      "id": "64d79666",
      "metadata": {
        "id": "64d79666"
      },
      "outputs": [],
      "source": []
    },
    {
      "cell_type": "markdown",
      "id": "ba8562cc",
      "metadata": {
        "id": "ba8562cc"
      },
      "source": [
        "![Screen%20Shot%202023-04-07%20at%209.54.37%20PM.png](attachment:Screen%20Shot%202023-04-07%20at%209.54.37%20PM.png)"
      ]
    },
    {
      "cell_type": "markdown",
      "id": "f43e3294",
      "metadata": {
        "id": "f43e3294"
      },
      "source": [
        "### With C1 the accuracy on test data is .95 where with AdaBoost the accuracy with test data is .97 which is better performing model than C1. Where RF model in 2(a) accuracy is .96 which is also less than AdaBoost hence, we can say that AdaBoost model is best performing model so far."
      ]
    },
    {
      "cell_type": "markdown",
      "id": "fcebca98",
      "metadata": {
        "id": "fcebca98"
      },
      "source": [
        "## 3(b) Change the number of estimators from 10,50,100,500, 1000, and plot the performance."
      ]
    },
    {
      "cell_type": "code",
      "execution_count": null,
      "id": "94992add",
      "metadata": {
        "id": "94992add"
      },
      "outputs": [],
      "source": [
        "# Train random forest classifiers with different numbers of estimators\n",
        "n_estimators = [10, 50, 100, 500, 1000]\n",
        "ab_scores = []\n",
        "\n",
        "for n in n_estimators:\n",
        "    ab = AdaBoostClassifier(n_estimators=n)\n",
        "    ab.fit(X_train, y_train)\n",
        "    score = ab.score(X_test, y_test)\n",
        "    ab_scores.append(score)"
      ]
    },
    {
      "cell_type": "code",
      "execution_count": null,
      "id": "64b03a74",
      "metadata": {
        "id": "64b03a74",
        "outputId": "79fede93-a887-4946-a1d3-af604670d46b"
      },
      "outputs": [
        {
          "data": {
            "image/png": "[encoded data removed]",
            "text/plain": [
              "<Figure size 432x288 with 1 Axes>"
            ]
          },
          "metadata": {
            "needs_background": "light"
          },
          "output_type": "display_data"
        }
      ],
      "source": [
        "# Plot the test set performance against the number of estimators\n",
        "plt.plot(n_estimators, ab_scores)\n",
        "plt.xlabel(\"Number of estimators\")\n",
        "plt.ylabel(\"Test set score\")\n",
        "plt.show()"
      ]
    },
    {
      "cell_type": "markdown",
      "id": "e64fa763",
      "metadata": {
        "id": "e64fa763"
      },
      "source": [
        "As we can see in graph the performance of model is decreasing with increasing the number of estimator after 500. "
      ]
    },
    {
      "cell_type": "markdown",
      "id": "2fdff79e",
      "metadata": {
        "id": "2fdff79e"
      },
      "source": [
        "### Perform 5 fold cross-validation and report the performance for classifier with 50 estimators"
      ]
    },
    {
      "cell_type": "code",
      "execution_count": null,
      "id": "52a48786",
      "metadata": {
        "id": "52a48786",
        "outputId": "c8102f5e-c35c-42bb-84ea-bbd004b532b7"
      },
      "outputs": [
        {
          "name": "stdout",
          "output_type": "stream",
          "text": [
            "AdaBoost CV score (mean): 0.970\n",
            "AdaBoost CV score (std): 0.020\n"
          ]
        }
      ],
      "source": [
        "# Train a random forest classifier with 50 estimators\n",
        "ab = AdaBoostClassifier(n_estimators=50)\n",
        "\n",
        "# Perform 5-fold cross-validation\n",
        "ab_cv_scores = cross_val_score(ab, X, y, cv=5)\n",
        "\n",
        "# Report the mean and standard deviation of the cross-validation scores\n",
        "print(\"AdaBoost CV score (mean): {:.3f}\".format(ab_cv_scores.mean()))\n",
        "print(\"AdaBoost CV score (std): {:.3f}\".format(ab_cv_scores.std()))"
      ]
    },
    {
      "cell_type": "markdown",
      "id": "1c460fb3",
      "metadata": {
        "id": "1c460fb3"
      },
      "source": [
        "## 4(a) Train a classifier and compare the performance for the test set with C1 and 2a and 3a."
      ]
    },
    {
      "cell_type": "code",
      "execution_count": null,
      "id": "a679c2d7",
      "metadata": {
        "id": "a679c2d7",
        "outputId": "17fb8270-4508-4126-dad6-e4ff410c0919"
      },
      "outputs": [
        {
          "name": "stdout",
          "output_type": "stream",
          "text": [
            "Gaussian classifier score: 0.971\n"
          ]
        }
      ],
      "source": [
        "from sklearn.naive_bayes import GaussianNB\n",
        "# from sklearn.metrics import accuracy_score\n",
        "\n",
        "# Train a Gaussian Naive Bayes classifier\n",
        "gnb = GaussianNB()\n",
        "gnb.fit(X_train, y_train)\n",
        "\n",
        "# Evaluate the performance of the Gaussian Naive Bayes classifier on the test set\n",
        "\n",
        "# y_pred_gnb = gnb.predict(X_test)\n",
        "# print(\"y_pred_gnb\", y_pred_gnb)\n",
        "# gnb_accuracy = accuracy_score(y_test, y_pred_gnb)\n",
        "\n",
        "score = gnb.score(X_test, y_test)\n",
        "print(\"Gaussian classifier score: {:.3f}\".format(ab_score))\n"
      ]
    },
    {
      "cell_type": "markdown",
      "id": "6e81f446",
      "metadata": {
        "id": "6e81f446"
      },
      "source": [
        "### compare the performance for the test set with C1 and 2a and 3a.¶"
      ]
    },
    {
      "cell_type": "code",
      "execution_count": null,
      "id": "7deffa6c",
      "metadata": {
        "id": "7deffa6c",
        "outputId": "dc341ac1-fde4-4fe6-a919-3856711f2e83"
      },
      "outputs": [
        {
          "data": {
            "text/html": [
              "<div>\n",
              "<style scoped>\n",
              "    .dataframe tbody tr th:only-of-type {\n",
              "        vertical-align: middle;\n",
              "    }\n",
              "\n",
              "    .dataframe tbody tr th {\n",
              "        vertical-align: top;\n",
              "    }\n",
              "\n",
              "    .dataframe thead th {\n",
              "        text-align: right;\n",
              "    }\n",
              "</style>\n",
              "<table border=\"1\" class=\"dataframe\">\n",
              "  <thead>\n",
              "    <tr style=\"text-align: right;\">\n",
              "      <th></th>\n",
              "      <th>Model</th>\n",
              "      <th>Accuracy</th>\n",
              "      <th>Recall</th>\n",
              "      <th>Precision</th>\n",
              "      <th>F1 Score</th>\n",
              "    </tr>\n",
              "  </thead>\n",
              "  <tbody>\n",
              "    <tr>\n",
              "      <th>0</th>\n",
              "      <td>Gaussian</td>\n",
              "      <td>0.935673</td>\n",
              "      <td>0.904762</td>\n",
              "      <td>0.919355</td>\n",
              "      <td>0.912</td>\n",
              "    </tr>\n",
              "  </tbody>\n",
              "</table>\n",
              "</div>"
            ],
            "text/plain": [
              "      Model  Accuracy    Recall  Precision  F1 Score\n",
              "0  Gaussian  0.935673  0.904762   0.919355     0.912"
            ]
          },
          "execution_count": 60,
          "metadata": {},
          "output_type": "execute_result"
        }
      ],
      "source": [
        "# Evaluate performance of C1 and C2 on the testing set\n",
        "y_pred6 = gnb.predict(X_test)\n",
        "\n",
        "precision6 = precision_score(y_test, y_pred6)\n",
        "\n",
        "recall6 = recall_score(y_test, y_pred6)\n",
        "\n",
        "f1_score6 = f1_score(y_test, y_pred6)\n",
        "\n",
        "acc6 = accuracy_score(y_test, y_pred6)\n",
        "\n",
        "comp5 = pd.DataFrame({'Model':[\"Gaussian\"],'Accuracy':[acc6], 'Recall':[recall6],'Precision':[precision6\n",
        "                                                                                            ], 'F1 Score':[f1_score6]})\n",
        "comp5\n"
      ]
    },
    {
      "cell_type": "markdown",
      "id": "34dbf81c",
      "metadata": {
        "id": "34dbf81c"
      },
      "source": [
        "![Screen%20Shot%202023-04-07%20at%2010.00.59%20PM.png](attachment:Screen%20Shot%202023-04-07%20at%2010.00.59%20PM.png)"
      ]
    },
    {
      "cell_type": "markdown",
      "id": "71a80140",
      "metadata": {
        "id": "71a80140"
      },
      "source": [
        "C1 accuracy score is .95 and Random forest accuracy is .96 where AdaBoost accuracy score is .97 whereas Gaussian model has also performed same and score is .93 which is worst performed model comparative to other."
      ]
    },
    {
      "cell_type": "markdown",
      "id": "01b6b4f0",
      "metadata": {
        "id": "01b6b4f0"
      },
      "source": [
        "# 5(a)"
      ]
    },
    {
      "cell_type": "code",
      "execution_count": null,
      "id": "6104f3ad",
      "metadata": {
        "id": "6104f3ad",
        "outputId": "3a374e67-7609-44db-a161-9858419b12ed"
      },
      "outputs": [
        {
          "name": "stdout",
          "output_type": "stream",
          "text": [
            "Cumulative proportion of explained variance: [0.53097689 0.70381179 0.77495621 0.8390688  0.87992952 0.91064446\n",
            " 0.92645284 0.93836755 0.94825184 0.95770631 0.96620027 0.97378004\n",
            " 0.98034642 0.98509453 0.98778877 0.99036631 0.99220387 0.99371658\n",
            " 0.99509377 0.99615336 0.99713642 0.99792092 0.99844898 0.99895896\n",
            " 0.99938904 0.99971865 0.99990923 0.99996514 0.99999404 1.        ]\n",
            "Number of components needed to account for more than 95% of the total variation: 10\n"
          ]
        }
      ],
      "source": [
        "# Assuming you have loaded your data into the X array\n",
        "from sklearn.decomposition import PCA\n",
        "\n",
        "# Create a PCA object with the number of components equal to the number of original variables\n",
        "pca = PCA(n_components=X.shape[1])\n",
        "\n",
        "# Fit the PCA model to the data and transform the data to the principal components\n",
        "pca.fit(X_scaled)\n",
        "\n",
        "# Calculate the cumulative proportion of explained variance by the principal components\n",
        "cumulative_proportion = np.cumsum(pca.explained_variance_ratio_)\n",
        "\n",
        "# Find the number of components needed to account for more than 95% of the total variation\n",
        "n_components = np.argmax(cumulative_proportion > 0.95) + 1\n",
        "\n",
        "# Print the cumulative proportion of explained variance and the number of components needed to account for more than 95% of the total variation\n",
        "print(f\"Cumulative proportion of explained variance: {cumulative_proportion}\")\n",
        "print(f\"Number of components needed to account for more than 95% of the total variation: {n_components}\")\n",
        "\n",
        "# Initialize a new PCA object with the number of components to keep set to n_components = 10 here\n",
        "pca = PCA(n_components=n_components)\n",
        "\n",
        "# Fit the new PCA object to the data and transform the data\n",
        "X_pca = pca.fit_transform(X_scaled)"
      ]
    },
    {
      "cell_type": "markdown",
      "id": "ee01dfa7",
      "metadata": {
        "id": "ee01dfa7"
      },
      "source": [
        "## 5(b)"
      ]
    },
    {
      "cell_type": "markdown",
      "id": "31ba0c94",
      "metadata": {
        "id": "31ba0c94"
      },
      "source": [
        "## Train a Random Forest classifier with 100 estimators using all the features\n"
      ]
    },
    {
      "cell_type": "code",
      "execution_count": null,
      "id": "8a360da2",
      "metadata": {
        "id": "8a360da2",
        "outputId": "70371989-a553-48a3-b32e-ecdc82588dda"
      },
      "outputs": [
        {
          "name": "stdout",
          "output_type": "stream",
          "text": [
            "Accuracy with all features: 0.9707602339181286\n"
          ]
        }
      ],
      "source": [
        "\n",
        "# Train a Random Forest classifier with 100 estimators using all the features\n",
        "rf_all = RandomForestClassifier(n_estimators=100, random_state=42)\n",
        "rf_all.fit(X_train, y_train)\n",
        "y_pred_all = rf_all.predict(X_test)\n",
        "accuracy_all = accuracy_score(y_test, y_pred_all)\n",
        "print(\"Accuracy with all features:\", accuracy_all)\n"
      ]
    },
    {
      "cell_type": "code",
      "execution_count": null,
      "id": "149a79f0",
      "metadata": {
        "id": "149a79f0",
        "outputId": "fbe95b8b-dd4d-4b07-cff4-c2fad860ba59"
      },
      "outputs": [
        {
          "name": "stdout",
          "output_type": "stream",
          "text": [
            "Accuracy with reduced features: 0.9532163742690059\n"
          ]
        }
      ],
      "source": [
        "# Use PCA to reduce the dimensionality of the dataset\n",
        "pca = PCA(n_components=10)\n",
        "\n",
        "# Split the reduced data into training and testing sets\n",
        "X_pca_train, X_pca_test, y_train, y_test = train_test_split(X_pca, y, train_size= 0.7, test_size=0.3, random_state=42)\n",
        "\n",
        "# Train a Random Forest classifier with 100 estimators using the reduced features\n",
        "rf_pca = RandomForestClassifier(n_estimators=100, random_state=42)\n",
        "rf_pca.fit(X_pca_train, y_train)\n",
        "y_pred_pca = rf_pca.predict(X_pca_test)\n",
        "accuracy_pca = accuracy_score(y_test, y_pred_pca)\n",
        "\n",
        "print(\"Accuracy with reduced features:\", accuracy_pca)"
      ]
    },
    {
      "cell_type": "code",
      "execution_count": null,
      "id": "2bd8a875",
      "metadata": {
        "id": "2bd8a875",
        "outputId": "60f08e48-4a44-4cc5-f1ec-f8a1b12c2722"
      },
      "outputs": [
        {
          "name": "stdout",
          "output_type": "stream",
          "text": [
            "Accuracy with all features: 0.9707602339181286\n",
            "Accuracy with reduced features: 0.9532163742690059\n"
          ]
        }
      ],
      "source": [
        "# Compare the performance of the two models\n",
        "print(\"Accuracy with all features:\", accuracy_all)\n",
        "print(\"Accuracy with reduced features:\", accuracy_pca)"
      ]
    },
    {
      "cell_type": "markdown",
      "id": "fe5ffb39",
      "metadata": {
        "id": "fe5ffb39"
      },
      "source": [
        "As we can see above the Accuracy with all feature is higher than the accuracy with PCA reduced feature 10."
      ]
    },
    {
      "cell_type": "code",
      "execution_count": null,
      "id": "97f316a9",
      "metadata": {
        "id": "97f316a9"
      },
      "outputs": [],
      "source": []
    }
  ],
  "metadata": {
    "kernelspec": {
      "display_name": "Python 3 (ipykernel)",
      "language": "python",
      "name": "python3"
    },
    "language_info": {
      "codemirror_mode": {
        "name": "ipython",
        "version": 3
      },
      "file_extension": ".py",
      "mimetype": "text/x-python",
      "name": "python",
      "nbconvert_exporter": "python",
      "pygments_lexer": "ipython3",
      "version": "3.7.10"
    },
    "colab": {
      "provenance": [],
      "include_colab_link": true
    }
  },
  "nbformat": 4,
  "nbformat_minor": 5
}